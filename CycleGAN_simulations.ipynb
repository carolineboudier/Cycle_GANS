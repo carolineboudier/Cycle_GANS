{
  "nbformat": 4,
  "nbformat_minor": 0,
  "metadata": {
    "accelerator": "GPU",
    "colab": {
      "name": "[Deep_Learning]_Projet_Schirrer-Florian&Boudier-Caroline",
      "provenance": [],
      "collapsed_sections": [
        "dW_fXcpYtkzD",
        "LRZLl2VwuDXg",
        "3S49A5hBvAkv",
        "Ksrkrq9MLf0Z",
        "tpFhJFfReate"
      ]
    },
    "kernelspec": {
      "display_name": "Python 3",
      "name": "python3"
    },
    "language_info": {
      "name": "python"
    },
    "widgets": {
      "application/vnd.jupyter.widget-state+json": {
        "e0f5c0d788a742829688120ae0c8c57d": {
          "model_module": "@jupyter-widgets/controls",
          "model_name": "HBoxModel",
          "state": {
            "_view_name": "HBoxView",
            "_dom_classes": [],
            "_model_name": "HBoxModel",
            "_view_module": "@jupyter-widgets/controls",
            "_model_module_version": "1.5.0",
            "_view_count": null,
            "_view_module_version": "1.5.0",
            "box_style": "",
            "layout": "IPY_MODEL_ca26ee7e129e4b3dae5576e6af1451c2",
            "_model_module": "@jupyter-widgets/controls",
            "children": [
              "IPY_MODEL_2601d4f00a234fef8eeb7e39f8960738",
              "IPY_MODEL_6b1daa389c9e4dfc89ec76525a9a5250"
            ]
          }
        },
        "ca26ee7e129e4b3dae5576e6af1451c2": {
          "model_module": "@jupyter-widgets/base",
          "model_name": "LayoutModel",
          "state": {
            "_view_name": "LayoutView",
            "grid_template_rows": null,
            "right": null,
            "justify_content": null,
            "_view_module": "@jupyter-widgets/base",
            "overflow": null,
            "_model_module_version": "1.2.0",
            "_view_count": null,
            "flex_flow": null,
            "width": null,
            "min_width": null,
            "border": null,
            "align_items": null,
            "bottom": null,
            "_model_module": "@jupyter-widgets/base",
            "top": null,
            "grid_column": null,
            "overflow_y": null,
            "overflow_x": null,
            "grid_auto_flow": null,
            "grid_area": null,
            "grid_template_columns": null,
            "flex": null,
            "_model_name": "LayoutModel",
            "justify_items": null,
            "grid_row": null,
            "max_height": null,
            "align_content": null,
            "visibility": null,
            "align_self": null,
            "height": null,
            "min_height": null,
            "padding": null,
            "grid_auto_rows": null,
            "grid_gap": null,
            "max_width": null,
            "order": null,
            "_view_module_version": "1.2.0",
            "grid_template_areas": null,
            "object_position": null,
            "object_fit": null,
            "grid_auto_columns": null,
            "margin": null,
            "display": null,
            "left": null
          }
        },
        "2601d4f00a234fef8eeb7e39f8960738": {
          "model_module": "@jupyter-widgets/controls",
          "model_name": "FloatProgressModel",
          "state": {
            "_view_name": "ProgressView",
            "style": "IPY_MODEL_1e33a428e71b4b599e0e0d7ab6a48af9",
            "_dom_classes": [],
            "description": "",
            "_model_name": "FloatProgressModel",
            "bar_style": "success",
            "max": 6579383,
            "_view_module": "@jupyter-widgets/controls",
            "_model_module_version": "1.5.0",
            "value": 6579383,
            "_view_count": null,
            "_view_module_version": "1.5.0",
            "orientation": "horizontal",
            "min": 0,
            "description_tooltip": null,
            "_model_module": "@jupyter-widgets/controls",
            "layout": "IPY_MODEL_198f04a164ae49e39be3194e75725a48"
          }
        },
        "6b1daa389c9e4dfc89ec76525a9a5250": {
          "model_module": "@jupyter-widgets/controls",
          "model_name": "HTMLModel",
          "state": {
            "_view_name": "HTMLView",
            "style": "IPY_MODEL_f3b303ab9ae94efc9af3ca460b1ce0cb",
            "_dom_classes": [],
            "description": "",
            "_model_name": "HTMLModel",
            "placeholder": "​",
            "_view_module": "@jupyter-widgets/controls",
            "_model_module_version": "1.5.0",
            "value": " 6580224/? [00:02&lt;00:00, 2629564.05it/s]",
            "_view_count": null,
            "_view_module_version": "1.5.0",
            "description_tooltip": null,
            "_model_module": "@jupyter-widgets/controls",
            "layout": "IPY_MODEL_cc49b4f0b6ad418ab56c2a80dabea422"
          }
        },
        "1e33a428e71b4b599e0e0d7ab6a48af9": {
          "model_module": "@jupyter-widgets/controls",
          "model_name": "ProgressStyleModel",
          "state": {
            "_view_name": "StyleView",
            "_model_name": "ProgressStyleModel",
            "description_width": "initial",
            "_view_module": "@jupyter-widgets/base",
            "_model_module_version": "1.5.0",
            "_view_count": null,
            "_view_module_version": "1.2.0",
            "bar_color": null,
            "_model_module": "@jupyter-widgets/controls"
          }
        },
        "198f04a164ae49e39be3194e75725a48": {
          "model_module": "@jupyter-widgets/base",
          "model_name": "LayoutModel",
          "state": {
            "_view_name": "LayoutView",
            "grid_template_rows": null,
            "right": null,
            "justify_content": null,
            "_view_module": "@jupyter-widgets/base",
            "overflow": null,
            "_model_module_version": "1.2.0",
            "_view_count": null,
            "flex_flow": null,
            "width": null,
            "min_width": null,
            "border": null,
            "align_items": null,
            "bottom": null,
            "_model_module": "@jupyter-widgets/base",
            "top": null,
            "grid_column": null,
            "overflow_y": null,
            "overflow_x": null,
            "grid_auto_flow": null,
            "grid_area": null,
            "grid_template_columns": null,
            "flex": null,
            "_model_name": "LayoutModel",
            "justify_items": null,
            "grid_row": null,
            "max_height": null,
            "align_content": null,
            "visibility": null,
            "align_self": null,
            "height": null,
            "min_height": null,
            "padding": null,
            "grid_auto_rows": null,
            "grid_gap": null,
            "max_width": null,
            "order": null,
            "_view_module_version": "1.2.0",
            "grid_template_areas": null,
            "object_position": null,
            "object_fit": null,
            "grid_auto_columns": null,
            "margin": null,
            "display": null,
            "left": null
          }
        },
        "f3b303ab9ae94efc9af3ca460b1ce0cb": {
          "model_module": "@jupyter-widgets/controls",
          "model_name": "DescriptionStyleModel",
          "state": {
            "_view_name": "StyleView",
            "_model_name": "DescriptionStyleModel",
            "description_width": "",
            "_view_module": "@jupyter-widgets/base",
            "_model_module_version": "1.5.0",
            "_view_count": null,
            "_view_module_version": "1.2.0",
            "_model_module": "@jupyter-widgets/controls"
          }
        },
        "cc49b4f0b6ad418ab56c2a80dabea422": {
          "model_module": "@jupyter-widgets/base",
          "model_name": "LayoutModel",
          "state": {
            "_view_name": "LayoutView",
            "grid_template_rows": null,
            "right": null,
            "justify_content": null,
            "_view_module": "@jupyter-widgets/base",
            "overflow": null,
            "_model_module_version": "1.2.0",
            "_view_count": null,
            "flex_flow": null,
            "width": null,
            "min_width": null,
            "border": null,
            "align_items": null,
            "bottom": null,
            "_model_module": "@jupyter-widgets/base",
            "top": null,
            "grid_column": null,
            "overflow_y": null,
            "overflow_x": null,
            "grid_auto_flow": null,
            "grid_area": null,
            "grid_template_columns": null,
            "flex": null,
            "_model_name": "LayoutModel",
            "justify_items": null,
            "grid_row": null,
            "max_height": null,
            "align_content": null,
            "visibility": null,
            "align_self": null,
            "height": null,
            "min_height": null,
            "padding": null,
            "grid_auto_rows": null,
            "grid_gap": null,
            "max_width": null,
            "order": null,
            "_view_module_version": "1.2.0",
            "grid_template_areas": null,
            "object_position": null,
            "object_fit": null,
            "grid_auto_columns": null,
            "margin": null,
            "display": null,
            "left": null
          }
        },
        "8bee410316604dd6b603c6758392e6fe": {
          "model_module": "@jupyter-widgets/controls",
          "model_name": "HBoxModel",
          "state": {
            "_view_name": "HBoxView",
            "_dom_classes": [],
            "_model_name": "HBoxModel",
            "_view_module": "@jupyter-widgets/controls",
            "_model_module_version": "1.5.0",
            "_view_count": null,
            "_view_module_version": "1.5.0",
            "box_style": "",
            "layout": "IPY_MODEL_14ba3e1452fd49f0b70903b30081cfa0",
            "_model_module": "@jupyter-widgets/controls",
            "children": [
              "IPY_MODEL_372a95ec4aed4371bd8cd49ef9f099de",
              "IPY_MODEL_8864414a52f548dcb0a33b0e312f8248"
            ]
          }
        },
        "14ba3e1452fd49f0b70903b30081cfa0": {
          "model_module": "@jupyter-widgets/base",
          "model_name": "LayoutModel",
          "state": {
            "_view_name": "LayoutView",
            "grid_template_rows": null,
            "right": null,
            "justify_content": null,
            "_view_module": "@jupyter-widgets/base",
            "overflow": null,
            "_model_module_version": "1.2.0",
            "_view_count": null,
            "flex_flow": null,
            "width": null,
            "min_width": null,
            "border": null,
            "align_items": null,
            "bottom": null,
            "_model_module": "@jupyter-widgets/base",
            "top": null,
            "grid_column": null,
            "overflow_y": null,
            "overflow_x": null,
            "grid_auto_flow": null,
            "grid_area": null,
            "grid_template_columns": null,
            "flex": null,
            "_model_name": "LayoutModel",
            "justify_items": null,
            "grid_row": null,
            "max_height": null,
            "align_content": null,
            "visibility": null,
            "align_self": null,
            "height": null,
            "min_height": null,
            "padding": null,
            "grid_auto_rows": null,
            "grid_gap": null,
            "max_width": null,
            "order": null,
            "_view_module_version": "1.2.0",
            "grid_template_areas": null,
            "object_position": null,
            "object_fit": null,
            "grid_auto_columns": null,
            "margin": null,
            "display": null,
            "left": null
          }
        },
        "372a95ec4aed4371bd8cd49ef9f099de": {
          "model_module": "@jupyter-widgets/controls",
          "model_name": "FloatProgressModel",
          "state": {
            "_view_name": "ProgressView",
            "style": "IPY_MODEL_ce382ba356324d6c9ef120e9e0041e82",
            "_dom_classes": [],
            "description": "",
            "_model_name": "FloatProgressModel",
            "bar_style": "success",
            "max": 1831726,
            "_view_module": "@jupyter-widgets/controls",
            "_model_module_version": "1.5.0",
            "value": 1831726,
            "_view_count": null,
            "_view_module_version": "1.5.0",
            "orientation": "horizontal",
            "min": 0,
            "description_tooltip": null,
            "_model_module": "@jupyter-widgets/controls",
            "layout": "IPY_MODEL_730c5e0410814d9697c3071c9543e927"
          }
        },
        "8864414a52f548dcb0a33b0e312f8248": {
          "model_module": "@jupyter-widgets/controls",
          "model_name": "HTMLModel",
          "state": {
            "_view_name": "HTMLView",
            "style": "IPY_MODEL_114a7733906648ff97f2ab9f244b5bfe",
            "_dom_classes": [],
            "description": "",
            "_model_name": "HTMLModel",
            "placeholder": "​",
            "_view_module": "@jupyter-widgets/controls",
            "_model_module_version": "1.5.0",
            "value": " 1831936/? [00:01&lt;00:00, 1475279.73it/s]",
            "_view_count": null,
            "_view_module_version": "1.5.0",
            "description_tooltip": null,
            "_model_module": "@jupyter-widgets/controls",
            "layout": "IPY_MODEL_74795cfd508049ba9afdbf570a526210"
          }
        },
        "ce382ba356324d6c9ef120e9e0041e82": {
          "model_module": "@jupyter-widgets/controls",
          "model_name": "ProgressStyleModel",
          "state": {
            "_view_name": "StyleView",
            "_model_name": "ProgressStyleModel",
            "description_width": "initial",
            "_view_module": "@jupyter-widgets/base",
            "_model_module_version": "1.5.0",
            "_view_count": null,
            "_view_module_version": "1.2.0",
            "bar_color": null,
            "_model_module": "@jupyter-widgets/controls"
          }
        },
        "730c5e0410814d9697c3071c9543e927": {
          "model_module": "@jupyter-widgets/base",
          "model_name": "LayoutModel",
          "state": {
            "_view_name": "LayoutView",
            "grid_template_rows": null,
            "right": null,
            "justify_content": null,
            "_view_module": "@jupyter-widgets/base",
            "overflow": null,
            "_model_module_version": "1.2.0",
            "_view_count": null,
            "flex_flow": null,
            "width": null,
            "min_width": null,
            "border": null,
            "align_items": null,
            "bottom": null,
            "_model_module": "@jupyter-widgets/base",
            "top": null,
            "grid_column": null,
            "overflow_y": null,
            "overflow_x": null,
            "grid_auto_flow": null,
            "grid_area": null,
            "grid_template_columns": null,
            "flex": null,
            "_model_name": "LayoutModel",
            "justify_items": null,
            "grid_row": null,
            "max_height": null,
            "align_content": null,
            "visibility": null,
            "align_self": null,
            "height": null,
            "min_height": null,
            "padding": null,
            "grid_auto_rows": null,
            "grid_gap": null,
            "max_width": null,
            "order": null,
            "_view_module_version": "1.2.0",
            "grid_template_areas": null,
            "object_position": null,
            "object_fit": null,
            "grid_auto_columns": null,
            "margin": null,
            "display": null,
            "left": null
          }
        },
        "114a7733906648ff97f2ab9f244b5bfe": {
          "model_module": "@jupyter-widgets/controls",
          "model_name": "DescriptionStyleModel",
          "state": {
            "_view_name": "StyleView",
            "_model_name": "DescriptionStyleModel",
            "description_width": "",
            "_view_module": "@jupyter-widgets/base",
            "_model_module_version": "1.5.0",
            "_view_count": null,
            "_view_module_version": "1.2.0",
            "_model_module": "@jupyter-widgets/controls"
          }
        },
        "74795cfd508049ba9afdbf570a526210": {
          "model_module": "@jupyter-widgets/base",
          "model_name": "LayoutModel",
          "state": {
            "_view_name": "LayoutView",
            "grid_template_rows": null,
            "right": null,
            "justify_content": null,
            "_view_module": "@jupyter-widgets/base",
            "overflow": null,
            "_model_module_version": "1.2.0",
            "_view_count": null,
            "flex_flow": null,
            "width": null,
            "min_width": null,
            "border": null,
            "align_items": null,
            "bottom": null,
            "_model_module": "@jupyter-widgets/base",
            "top": null,
            "grid_column": null,
            "overflow_y": null,
            "overflow_x": null,
            "grid_auto_flow": null,
            "grid_area": null,
            "grid_template_columns": null,
            "flex": null,
            "_model_name": "LayoutModel",
            "justify_items": null,
            "grid_row": null,
            "max_height": null,
            "align_content": null,
            "visibility": null,
            "align_self": null,
            "height": null,
            "min_height": null,
            "padding": null,
            "grid_auto_rows": null,
            "grid_gap": null,
            "max_width": null,
            "order": null,
            "_view_module_version": "1.2.0",
            "grid_template_areas": null,
            "object_position": null,
            "object_fit": null,
            "grid_auto_columns": null,
            "margin": null,
            "display": null,
            "left": null
          }
        },
        "f38d2a6ee2914a7f909baf91415cc4f0": {
          "model_module": "@jupyter-widgets/controls",
          "model_name": "HBoxModel",
          "state": {
            "_view_name": "HBoxView",
            "_dom_classes": [],
            "_model_name": "HBoxModel",
            "_view_module": "@jupyter-widgets/controls",
            "_model_module_version": "1.5.0",
            "_view_count": null,
            "_view_module_version": "1.5.0",
            "box_style": "",
            "layout": "IPY_MODEL_00ab69b3906a47e1871070d1187bfdd9",
            "_model_module": "@jupyter-widgets/controls",
            "children": [
              "IPY_MODEL_386c1405cfc14fc181f9c734a018b15f",
              "IPY_MODEL_c34d319f8c9c435586f0aae431d0f677"
            ]
          }
        },
        "00ab69b3906a47e1871070d1187bfdd9": {
          "model_module": "@jupyter-widgets/base",
          "model_name": "LayoutModel",
          "state": {
            "_view_name": "LayoutView",
            "grid_template_rows": null,
            "right": null,
            "justify_content": null,
            "_view_module": "@jupyter-widgets/base",
            "overflow": null,
            "_model_module_version": "1.2.0",
            "_view_count": null,
            "flex_flow": null,
            "width": null,
            "min_width": null,
            "border": null,
            "align_items": null,
            "bottom": null,
            "_model_module": "@jupyter-widgets/base",
            "top": null,
            "grid_column": null,
            "overflow_y": null,
            "overflow_x": null,
            "grid_auto_flow": null,
            "grid_area": null,
            "grid_template_columns": null,
            "flex": null,
            "_model_name": "LayoutModel",
            "justify_items": null,
            "grid_row": null,
            "max_height": null,
            "align_content": null,
            "visibility": null,
            "align_self": null,
            "height": null,
            "min_height": null,
            "padding": null,
            "grid_auto_rows": null,
            "grid_gap": null,
            "max_width": null,
            "order": null,
            "_view_module_version": "1.2.0",
            "grid_template_areas": null,
            "object_position": null,
            "object_fit": null,
            "grid_auto_columns": null,
            "margin": null,
            "display": null,
            "left": null
          }
        },
        "386c1405cfc14fc181f9c734a018b15f": {
          "model_module": "@jupyter-widgets/controls",
          "model_name": "FloatProgressModel",
          "state": {
            "_view_name": "ProgressView",
            "style": "IPY_MODEL_488236a42db742928e269c165286834b",
            "_dom_classes": [],
            "description": "",
            "_model_name": "FloatProgressModel",
            "bar_style": "success",
            "max": 9912422,
            "_view_module": "@jupyter-widgets/controls",
            "_model_module_version": "1.5.0",
            "value": 9912422,
            "_view_count": null,
            "_view_module_version": "1.5.0",
            "orientation": "horizontal",
            "min": 0,
            "description_tooltip": null,
            "_model_module": "@jupyter-widgets/controls",
            "layout": "IPY_MODEL_f8b0ac7b72c94f30a5d7d0476f0dc6a3"
          }
        },
        "c34d319f8c9c435586f0aae431d0f677": {
          "model_module": "@jupyter-widgets/controls",
          "model_name": "HTMLModel",
          "state": {
            "_view_name": "HTMLView",
            "style": "IPY_MODEL_4113b3006daf488ebd6205430eee95a7",
            "_dom_classes": [],
            "description": "",
            "_model_name": "HTMLModel",
            "placeholder": "​",
            "_view_module": "@jupyter-widgets/controls",
            "_model_module_version": "1.5.0",
            "value": " 9913344/? [00:54&lt;00:00, 182755.16it/s]",
            "_view_count": null,
            "_view_module_version": "1.5.0",
            "description_tooltip": null,
            "_model_module": "@jupyter-widgets/controls",
            "layout": "IPY_MODEL_4ccf1b36262f4f4e9822a89010fd46f9"
          }
        },
        "488236a42db742928e269c165286834b": {
          "model_module": "@jupyter-widgets/controls",
          "model_name": "ProgressStyleModel",
          "state": {
            "_view_name": "StyleView",
            "_model_name": "ProgressStyleModel",
            "description_width": "initial",
            "_view_module": "@jupyter-widgets/base",
            "_model_module_version": "1.5.0",
            "_view_count": null,
            "_view_module_version": "1.2.0",
            "bar_color": null,
            "_model_module": "@jupyter-widgets/controls"
          }
        },
        "f8b0ac7b72c94f30a5d7d0476f0dc6a3": {
          "model_module": "@jupyter-widgets/base",
          "model_name": "LayoutModel",
          "state": {
            "_view_name": "LayoutView",
            "grid_template_rows": null,
            "right": null,
            "justify_content": null,
            "_view_module": "@jupyter-widgets/base",
            "overflow": null,
            "_model_module_version": "1.2.0",
            "_view_count": null,
            "flex_flow": null,
            "width": null,
            "min_width": null,
            "border": null,
            "align_items": null,
            "bottom": null,
            "_model_module": "@jupyter-widgets/base",
            "top": null,
            "grid_column": null,
            "overflow_y": null,
            "overflow_x": null,
            "grid_auto_flow": null,
            "grid_area": null,
            "grid_template_columns": null,
            "flex": null,
            "_model_name": "LayoutModel",
            "justify_items": null,
            "grid_row": null,
            "max_height": null,
            "align_content": null,
            "visibility": null,
            "align_self": null,
            "height": null,
            "min_height": null,
            "padding": null,
            "grid_auto_rows": null,
            "grid_gap": null,
            "max_width": null,
            "order": null,
            "_view_module_version": "1.2.0",
            "grid_template_areas": null,
            "object_position": null,
            "object_fit": null,
            "grid_auto_columns": null,
            "margin": null,
            "display": null,
            "left": null
          }
        },
        "4113b3006daf488ebd6205430eee95a7": {
          "model_module": "@jupyter-widgets/controls",
          "model_name": "DescriptionStyleModel",
          "state": {
            "_view_name": "StyleView",
            "_model_name": "DescriptionStyleModel",
            "description_width": "",
            "_view_module": "@jupyter-widgets/base",
            "_model_module_version": "1.5.0",
            "_view_count": null,
            "_view_module_version": "1.2.0",
            "_model_module": "@jupyter-widgets/controls"
          }
        },
        "4ccf1b36262f4f4e9822a89010fd46f9": {
          "model_module": "@jupyter-widgets/base",
          "model_name": "LayoutModel",
          "state": {
            "_view_name": "LayoutView",
            "grid_template_rows": null,
            "right": null,
            "justify_content": null,
            "_view_module": "@jupyter-widgets/base",
            "overflow": null,
            "_model_module_version": "1.2.0",
            "_view_count": null,
            "flex_flow": null,
            "width": null,
            "min_width": null,
            "border": null,
            "align_items": null,
            "bottom": null,
            "_model_module": "@jupyter-widgets/base",
            "top": null,
            "grid_column": null,
            "overflow_y": null,
            "overflow_x": null,
            "grid_auto_flow": null,
            "grid_area": null,
            "grid_template_columns": null,
            "flex": null,
            "_model_name": "LayoutModel",
            "justify_items": null,
            "grid_row": null,
            "max_height": null,
            "align_content": null,
            "visibility": null,
            "align_self": null,
            "height": null,
            "min_height": null,
            "padding": null,
            "grid_auto_rows": null,
            "grid_gap": null,
            "max_width": null,
            "order": null,
            "_view_module_version": "1.2.0",
            "grid_template_areas": null,
            "object_position": null,
            "object_fit": null,
            "grid_auto_columns": null,
            "margin": null,
            "display": null,
            "left": null
          }
        },
        "e4a81432f0484507a93ca02c31273722": {
          "model_module": "@jupyter-widgets/controls",
          "model_name": "HBoxModel",
          "state": {
            "_view_name": "HBoxView",
            "_dom_classes": [],
            "_model_name": "HBoxModel",
            "_view_module": "@jupyter-widgets/controls",
            "_model_module_version": "1.5.0",
            "_view_count": null,
            "_view_module_version": "1.5.0",
            "box_style": "",
            "layout": "IPY_MODEL_0d9e3107a67241a69503f4569812777d",
            "_model_module": "@jupyter-widgets/controls",
            "children": [
              "IPY_MODEL_4e134ddbfb97427b879118be6323e07b",
              "IPY_MODEL_baf1a873e62d4c209d8416e48d2d2930"
            ]
          }
        },
        "0d9e3107a67241a69503f4569812777d": {
          "model_module": "@jupyter-widgets/base",
          "model_name": "LayoutModel",
          "state": {
            "_view_name": "LayoutView",
            "grid_template_rows": null,
            "right": null,
            "justify_content": null,
            "_view_module": "@jupyter-widgets/base",
            "overflow": null,
            "_model_module_version": "1.2.0",
            "_view_count": null,
            "flex_flow": null,
            "width": null,
            "min_width": null,
            "border": null,
            "align_items": null,
            "bottom": null,
            "_model_module": "@jupyter-widgets/base",
            "top": null,
            "grid_column": null,
            "overflow_y": null,
            "overflow_x": null,
            "grid_auto_flow": null,
            "grid_area": null,
            "grid_template_columns": null,
            "flex": null,
            "_model_name": "LayoutModel",
            "justify_items": null,
            "grid_row": null,
            "max_height": null,
            "align_content": null,
            "visibility": null,
            "align_self": null,
            "height": null,
            "min_height": null,
            "padding": null,
            "grid_auto_rows": null,
            "grid_gap": null,
            "max_width": null,
            "order": null,
            "_view_module_version": "1.2.0",
            "grid_template_areas": null,
            "object_position": null,
            "object_fit": null,
            "grid_auto_columns": null,
            "margin": null,
            "display": null,
            "left": null
          }
        },
        "4e134ddbfb97427b879118be6323e07b": {
          "model_module": "@jupyter-widgets/controls",
          "model_name": "FloatProgressModel",
          "state": {
            "_view_name": "ProgressView",
            "style": "IPY_MODEL_a7055b44d80d434784546a8c1c73e7f5",
            "_dom_classes": [],
            "description": "",
            "_model_name": "FloatProgressModel",
            "bar_style": "success",
            "max": 28881,
            "_view_module": "@jupyter-widgets/controls",
            "_model_module_version": "1.5.0",
            "value": 28881,
            "_view_count": null,
            "_view_module_version": "1.5.0",
            "orientation": "horizontal",
            "min": 0,
            "description_tooltip": null,
            "_model_module": "@jupyter-widgets/controls",
            "layout": "IPY_MODEL_dc3a816bba634a4f83428a664e59528b"
          }
        },
        "baf1a873e62d4c209d8416e48d2d2930": {
          "model_module": "@jupyter-widgets/controls",
          "model_name": "HTMLModel",
          "state": {
            "_view_name": "HTMLView",
            "style": "IPY_MODEL_1d68531073e644af950acaab30f9cd0d",
            "_dom_classes": [],
            "description": "",
            "_model_name": "HTMLModel",
            "placeholder": "​",
            "_view_module": "@jupyter-widgets/controls",
            "_model_module_version": "1.5.0",
            "value": " 29696/? [00:51&lt;00:00, 572.56it/s]",
            "_view_count": null,
            "_view_module_version": "1.5.0",
            "description_tooltip": null,
            "_model_module": "@jupyter-widgets/controls",
            "layout": "IPY_MODEL_66925bad9b3046f893c3b19abd7b1788"
          }
        },
        "a7055b44d80d434784546a8c1c73e7f5": {
          "model_module": "@jupyter-widgets/controls",
          "model_name": "ProgressStyleModel",
          "state": {
            "_view_name": "StyleView",
            "_model_name": "ProgressStyleModel",
            "description_width": "initial",
            "_view_module": "@jupyter-widgets/base",
            "_model_module_version": "1.5.0",
            "_view_count": null,
            "_view_module_version": "1.2.0",
            "bar_color": null,
            "_model_module": "@jupyter-widgets/controls"
          }
        },
        "dc3a816bba634a4f83428a664e59528b": {
          "model_module": "@jupyter-widgets/base",
          "model_name": "LayoutModel",
          "state": {
            "_view_name": "LayoutView",
            "grid_template_rows": null,
            "right": null,
            "justify_content": null,
            "_view_module": "@jupyter-widgets/base",
            "overflow": null,
            "_model_module_version": "1.2.0",
            "_view_count": null,
            "flex_flow": null,
            "width": null,
            "min_width": null,
            "border": null,
            "align_items": null,
            "bottom": null,
            "_model_module": "@jupyter-widgets/base",
            "top": null,
            "grid_column": null,
            "overflow_y": null,
            "overflow_x": null,
            "grid_auto_flow": null,
            "grid_area": null,
            "grid_template_columns": null,
            "flex": null,
            "_model_name": "LayoutModel",
            "justify_items": null,
            "grid_row": null,
            "max_height": null,
            "align_content": null,
            "visibility": null,
            "align_self": null,
            "height": null,
            "min_height": null,
            "padding": null,
            "grid_auto_rows": null,
            "grid_gap": null,
            "max_width": null,
            "order": null,
            "_view_module_version": "1.2.0",
            "grid_template_areas": null,
            "object_position": null,
            "object_fit": null,
            "grid_auto_columns": null,
            "margin": null,
            "display": null,
            "left": null
          }
        },
        "1d68531073e644af950acaab30f9cd0d": {
          "model_module": "@jupyter-widgets/controls",
          "model_name": "DescriptionStyleModel",
          "state": {
            "_view_name": "StyleView",
            "_model_name": "DescriptionStyleModel",
            "description_width": "",
            "_view_module": "@jupyter-widgets/base",
            "_model_module_version": "1.5.0",
            "_view_count": null,
            "_view_module_version": "1.2.0",
            "_model_module": "@jupyter-widgets/controls"
          }
        },
        "66925bad9b3046f893c3b19abd7b1788": {
          "model_module": "@jupyter-widgets/base",
          "model_name": "LayoutModel",
          "state": {
            "_view_name": "LayoutView",
            "grid_template_rows": null,
            "right": null,
            "justify_content": null,
            "_view_module": "@jupyter-widgets/base",
            "overflow": null,
            "_model_module_version": "1.2.0",
            "_view_count": null,
            "flex_flow": null,
            "width": null,
            "min_width": null,
            "border": null,
            "align_items": null,
            "bottom": null,
            "_model_module": "@jupyter-widgets/base",
            "top": null,
            "grid_column": null,
            "overflow_y": null,
            "overflow_x": null,
            "grid_auto_flow": null,
            "grid_area": null,
            "grid_template_columns": null,
            "flex": null,
            "_model_name": "LayoutModel",
            "justify_items": null,
            "grid_row": null,
            "max_height": null,
            "align_content": null,
            "visibility": null,
            "align_self": null,
            "height": null,
            "min_height": null,
            "padding": null,
            "grid_auto_rows": null,
            "grid_gap": null,
            "max_width": null,
            "order": null,
            "_view_module_version": "1.2.0",
            "grid_template_areas": null,
            "object_position": null,
            "object_fit": null,
            "grid_auto_columns": null,
            "margin": null,
            "display": null,
            "left": null
          }
        },
        "6785766b84254d11adfe980a6cd65399": {
          "model_module": "@jupyter-widgets/controls",
          "model_name": "HBoxModel",
          "state": {
            "_view_name": "HBoxView",
            "_dom_classes": [],
            "_model_name": "HBoxModel",
            "_view_module": "@jupyter-widgets/controls",
            "_model_module_version": "1.5.0",
            "_view_count": null,
            "_view_module_version": "1.5.0",
            "box_style": "",
            "layout": "IPY_MODEL_f3c36288a645464b9bec15eee3bab700",
            "_model_module": "@jupyter-widgets/controls",
            "children": [
              "IPY_MODEL_cda0c2ca89404a2b95191c8bb896267e",
              "IPY_MODEL_b711811b083e424db15f94b2109af1ca"
            ]
          }
        },
        "f3c36288a645464b9bec15eee3bab700": {
          "model_module": "@jupyter-widgets/base",
          "model_name": "LayoutModel",
          "state": {
            "_view_name": "LayoutView",
            "grid_template_rows": null,
            "right": null,
            "justify_content": null,
            "_view_module": "@jupyter-widgets/base",
            "overflow": null,
            "_model_module_version": "1.2.0",
            "_view_count": null,
            "flex_flow": null,
            "width": null,
            "min_width": null,
            "border": null,
            "align_items": null,
            "bottom": null,
            "_model_module": "@jupyter-widgets/base",
            "top": null,
            "grid_column": null,
            "overflow_y": null,
            "overflow_x": null,
            "grid_auto_flow": null,
            "grid_area": null,
            "grid_template_columns": null,
            "flex": null,
            "_model_name": "LayoutModel",
            "justify_items": null,
            "grid_row": null,
            "max_height": null,
            "align_content": null,
            "visibility": null,
            "align_self": null,
            "height": null,
            "min_height": null,
            "padding": null,
            "grid_auto_rows": null,
            "grid_gap": null,
            "max_width": null,
            "order": null,
            "_view_module_version": "1.2.0",
            "grid_template_areas": null,
            "object_position": null,
            "object_fit": null,
            "grid_auto_columns": null,
            "margin": null,
            "display": null,
            "left": null
          }
        },
        "cda0c2ca89404a2b95191c8bb896267e": {
          "model_module": "@jupyter-widgets/controls",
          "model_name": "FloatProgressModel",
          "state": {
            "_view_name": "ProgressView",
            "style": "IPY_MODEL_1a4a6818a3134985931aec81190a850f",
            "_dom_classes": [],
            "description": "",
            "_model_name": "FloatProgressModel",
            "bar_style": "success",
            "max": 1648877,
            "_view_module": "@jupyter-widgets/controls",
            "_model_module_version": "1.5.0",
            "value": 1648877,
            "_view_count": null,
            "_view_module_version": "1.5.0",
            "orientation": "horizontal",
            "min": 0,
            "description_tooltip": null,
            "_model_module": "@jupyter-widgets/controls",
            "layout": "IPY_MODEL_c9e3d82678e44f75b1787210786687d9"
          }
        },
        "b711811b083e424db15f94b2109af1ca": {
          "model_module": "@jupyter-widgets/controls",
          "model_name": "HTMLModel",
          "state": {
            "_view_name": "HTMLView",
            "style": "IPY_MODEL_4eff2990c7da4c748a924bdf07694bad",
            "_dom_classes": [],
            "description": "",
            "_model_name": "HTMLModel",
            "placeholder": "​",
            "_view_module": "@jupyter-widgets/controls",
            "_model_module_version": "1.5.0",
            "value": " 1649664/? [00:51&lt;00:00, 32159.67it/s]",
            "_view_count": null,
            "_view_module_version": "1.5.0",
            "description_tooltip": null,
            "_model_module": "@jupyter-widgets/controls",
            "layout": "IPY_MODEL_8e52e223dc9243839a81d4ffe9cfb7c2"
          }
        },
        "1a4a6818a3134985931aec81190a850f": {
          "model_module": "@jupyter-widgets/controls",
          "model_name": "ProgressStyleModel",
          "state": {
            "_view_name": "StyleView",
            "_model_name": "ProgressStyleModel",
            "description_width": "initial",
            "_view_module": "@jupyter-widgets/base",
            "_model_module_version": "1.5.0",
            "_view_count": null,
            "_view_module_version": "1.2.0",
            "bar_color": null,
            "_model_module": "@jupyter-widgets/controls"
          }
        },
        "c9e3d82678e44f75b1787210786687d9": {
          "model_module": "@jupyter-widgets/base",
          "model_name": "LayoutModel",
          "state": {
            "_view_name": "LayoutView",
            "grid_template_rows": null,
            "right": null,
            "justify_content": null,
            "_view_module": "@jupyter-widgets/base",
            "overflow": null,
            "_model_module_version": "1.2.0",
            "_view_count": null,
            "flex_flow": null,
            "width": null,
            "min_width": null,
            "border": null,
            "align_items": null,
            "bottom": null,
            "_model_module": "@jupyter-widgets/base",
            "top": null,
            "grid_column": null,
            "overflow_y": null,
            "overflow_x": null,
            "grid_auto_flow": null,
            "grid_area": null,
            "grid_template_columns": null,
            "flex": null,
            "_model_name": "LayoutModel",
            "justify_items": null,
            "grid_row": null,
            "max_height": null,
            "align_content": null,
            "visibility": null,
            "align_self": null,
            "height": null,
            "min_height": null,
            "padding": null,
            "grid_auto_rows": null,
            "grid_gap": null,
            "max_width": null,
            "order": null,
            "_view_module_version": "1.2.0",
            "grid_template_areas": null,
            "object_position": null,
            "object_fit": null,
            "grid_auto_columns": null,
            "margin": null,
            "display": null,
            "left": null
          }
        },
        "4eff2990c7da4c748a924bdf07694bad": {
          "model_module": "@jupyter-widgets/controls",
          "model_name": "DescriptionStyleModel",
          "state": {
            "_view_name": "StyleView",
            "_model_name": "DescriptionStyleModel",
            "description_width": "",
            "_view_module": "@jupyter-widgets/base",
            "_model_module_version": "1.5.0",
            "_view_count": null,
            "_view_module_version": "1.2.0",
            "_model_module": "@jupyter-widgets/controls"
          }
        },
        "8e52e223dc9243839a81d4ffe9cfb7c2": {
          "model_module": "@jupyter-widgets/base",
          "model_name": "LayoutModel",
          "state": {
            "_view_name": "LayoutView",
            "grid_template_rows": null,
            "right": null,
            "justify_content": null,
            "_view_module": "@jupyter-widgets/base",
            "overflow": null,
            "_model_module_version": "1.2.0",
            "_view_count": null,
            "flex_flow": null,
            "width": null,
            "min_width": null,
            "border": null,
            "align_items": null,
            "bottom": null,
            "_model_module": "@jupyter-widgets/base",
            "top": null,
            "grid_column": null,
            "overflow_y": null,
            "overflow_x": null,
            "grid_auto_flow": null,
            "grid_area": null,
            "grid_template_columns": null,
            "flex": null,
            "_model_name": "LayoutModel",
            "justify_items": null,
            "grid_row": null,
            "max_height": null,
            "align_content": null,
            "visibility": null,
            "align_self": null,
            "height": null,
            "min_height": null,
            "padding": null,
            "grid_auto_rows": null,
            "grid_gap": null,
            "max_width": null,
            "order": null,
            "_view_module_version": "1.2.0",
            "grid_template_areas": null,
            "object_position": null,
            "object_fit": null,
            "grid_auto_columns": null,
            "margin": null,
            "display": null,
            "left": null
          }
        },
        "06458138003c40519a9a7979da581651": {
          "model_module": "@jupyter-widgets/controls",
          "model_name": "HBoxModel",
          "state": {
            "_view_name": "HBoxView",
            "_dom_classes": [],
            "_model_name": "HBoxModel",
            "_view_module": "@jupyter-widgets/controls",
            "_model_module_version": "1.5.0",
            "_view_count": null,
            "_view_module_version": "1.5.0",
            "box_style": "",
            "layout": "IPY_MODEL_834cc266c99b41fe8e6d8d25524b02bd",
            "_model_module": "@jupyter-widgets/controls",
            "children": [
              "IPY_MODEL_9c22e0f9ba2148a4b05e75b9902e53eb",
              "IPY_MODEL_f031bf3205bc47e98a05b6d68edb4f02"
            ]
          }
        },
        "834cc266c99b41fe8e6d8d25524b02bd": {
          "model_module": "@jupyter-widgets/base",
          "model_name": "LayoutModel",
          "state": {
            "_view_name": "LayoutView",
            "grid_template_rows": null,
            "right": null,
            "justify_content": null,
            "_view_module": "@jupyter-widgets/base",
            "overflow": null,
            "_model_module_version": "1.2.0",
            "_view_count": null,
            "flex_flow": null,
            "width": null,
            "min_width": null,
            "border": null,
            "align_items": null,
            "bottom": null,
            "_model_module": "@jupyter-widgets/base",
            "top": null,
            "grid_column": null,
            "overflow_y": null,
            "overflow_x": null,
            "grid_auto_flow": null,
            "grid_area": null,
            "grid_template_columns": null,
            "flex": null,
            "_model_name": "LayoutModel",
            "justify_items": null,
            "grid_row": null,
            "max_height": null,
            "align_content": null,
            "visibility": null,
            "align_self": null,
            "height": null,
            "min_height": null,
            "padding": null,
            "grid_auto_rows": null,
            "grid_gap": null,
            "max_width": null,
            "order": null,
            "_view_module_version": "1.2.0",
            "grid_template_areas": null,
            "object_position": null,
            "object_fit": null,
            "grid_auto_columns": null,
            "margin": null,
            "display": null,
            "left": null
          }
        },
        "9c22e0f9ba2148a4b05e75b9902e53eb": {
          "model_module": "@jupyter-widgets/controls",
          "model_name": "FloatProgressModel",
          "state": {
            "_view_name": "ProgressView",
            "style": "IPY_MODEL_616146376f8549919fa2a8a3c86a2781",
            "_dom_classes": [],
            "description": "",
            "_model_name": "FloatProgressModel",
            "bar_style": "success",
            "max": 4542,
            "_view_module": "@jupyter-widgets/controls",
            "_model_module_version": "1.5.0",
            "value": 4542,
            "_view_count": null,
            "_view_module_version": "1.5.0",
            "orientation": "horizontal",
            "min": 0,
            "description_tooltip": null,
            "_model_module": "@jupyter-widgets/controls",
            "layout": "IPY_MODEL_553a1f30c298464f86435f2f1454bc2f"
          }
        },
        "f031bf3205bc47e98a05b6d68edb4f02": {
          "model_module": "@jupyter-widgets/controls",
          "model_name": "HTMLModel",
          "state": {
            "_view_name": "HTMLView",
            "style": "IPY_MODEL_cbda0d3cbd004a61881fbfda3a66a2d1",
            "_dom_classes": [],
            "description": "",
            "_model_name": "HTMLModel",
            "placeholder": "​",
            "_view_module": "@jupyter-widgets/controls",
            "_model_module_version": "1.5.0",
            "value": " 5120/? [00:00&lt;00:00, 11464.48it/s]",
            "_view_count": null,
            "_view_module_version": "1.5.0",
            "description_tooltip": null,
            "_model_module": "@jupyter-widgets/controls",
            "layout": "IPY_MODEL_1c66660be1c745e98a908a0c50ee771d"
          }
        },
        "616146376f8549919fa2a8a3c86a2781": {
          "model_module": "@jupyter-widgets/controls",
          "model_name": "ProgressStyleModel",
          "state": {
            "_view_name": "StyleView",
            "_model_name": "ProgressStyleModel",
            "description_width": "initial",
            "_view_module": "@jupyter-widgets/base",
            "_model_module_version": "1.5.0",
            "_view_count": null,
            "_view_module_version": "1.2.0",
            "bar_color": null,
            "_model_module": "@jupyter-widgets/controls"
          }
        },
        "553a1f30c298464f86435f2f1454bc2f": {
          "model_module": "@jupyter-widgets/base",
          "model_name": "LayoutModel",
          "state": {
            "_view_name": "LayoutView",
            "grid_template_rows": null,
            "right": null,
            "justify_content": null,
            "_view_module": "@jupyter-widgets/base",
            "overflow": null,
            "_model_module_version": "1.2.0",
            "_view_count": null,
            "flex_flow": null,
            "width": null,
            "min_width": null,
            "border": null,
            "align_items": null,
            "bottom": null,
            "_model_module": "@jupyter-widgets/base",
            "top": null,
            "grid_column": null,
            "overflow_y": null,
            "overflow_x": null,
            "grid_auto_flow": null,
            "grid_area": null,
            "grid_template_columns": null,
            "flex": null,
            "_model_name": "LayoutModel",
            "justify_items": null,
            "grid_row": null,
            "max_height": null,
            "align_content": null,
            "visibility": null,
            "align_self": null,
            "height": null,
            "min_height": null,
            "padding": null,
            "grid_auto_rows": null,
            "grid_gap": null,
            "max_width": null,
            "order": null,
            "_view_module_version": "1.2.0",
            "grid_template_areas": null,
            "object_position": null,
            "object_fit": null,
            "grid_auto_columns": null,
            "margin": null,
            "display": null,
            "left": null
          }
        },
        "cbda0d3cbd004a61881fbfda3a66a2d1": {
          "model_module": "@jupyter-widgets/controls",
          "model_name": "DescriptionStyleModel",
          "state": {
            "_view_name": "StyleView",
            "_model_name": "DescriptionStyleModel",
            "description_width": "",
            "_view_module": "@jupyter-widgets/base",
            "_model_module_version": "1.5.0",
            "_view_count": null,
            "_view_module_version": "1.2.0",
            "_model_module": "@jupyter-widgets/controls"
          }
        },
        "1c66660be1c745e98a908a0c50ee771d": {
          "model_module": "@jupyter-widgets/base",
          "model_name": "LayoutModel",
          "state": {
            "_view_name": "LayoutView",
            "grid_template_rows": null,
            "right": null,
            "justify_content": null,
            "_view_module": "@jupyter-widgets/base",
            "overflow": null,
            "_model_module_version": "1.2.0",
            "_view_count": null,
            "flex_flow": null,
            "width": null,
            "min_width": null,
            "border": null,
            "align_items": null,
            "bottom": null,
            "_model_module": "@jupyter-widgets/base",
            "top": null,
            "grid_column": null,
            "overflow_y": null,
            "overflow_x": null,
            "grid_auto_flow": null,
            "grid_area": null,
            "grid_template_columns": null,
            "flex": null,
            "_model_name": "LayoutModel",
            "justify_items": null,
            "grid_row": null,
            "max_height": null,
            "align_content": null,
            "visibility": null,
            "align_self": null,
            "height": null,
            "min_height": null,
            "padding": null,
            "grid_auto_rows": null,
            "grid_gap": null,
            "max_width": null,
            "order": null,
            "_view_module_version": "1.2.0",
            "grid_template_areas": null,
            "object_position": null,
            "object_fit": null,
            "grid_auto_columns": null,
            "margin": null,
            "display": null,
            "left": null
          }
        }
      }
    }
  },
  "cells": [
    {
      "cell_type": "markdown",
      "metadata": {
        "id": "iJGxh-geyYNG"
      },
      "source": [
        "**This notebook was designed to be run on Google Collab.**\n",
        "\n",
        "In this notebook we present the results of our work around Cycle GANs as part of the Deep Learning course taught at ENSAE by Marco Cuturi (2021 class). We will implement a CycleGAN architecture in order to translate from the MNIST dataset to the USPS dataset. We follow Roger Grosse's detailed assignment (handout and base code can be found [here](http://www.cs.toronto.edu/~rgrosse/courses/csc421_2019/assignments/assignment4.pdf) and [here](http://www.cs.toronto.edu/~rgrosse/courses/csc321_2018/assignments/a4-code.zip)). "
      ]
    },
    {
      "cell_type": "markdown",
      "metadata": {
        "id": "dW_fXcpYtkzD"
      },
      "source": [
        "# 0 - Packages"
      ]
    },
    {
      "cell_type": "code",
      "metadata": {
        "id": "XF7GwUakY2Ua"
      },
      "source": [
        "# image imports\n",
        "import imageio\n",
        "from PIL import Image\n",
        "\n",
        "# file management imports\n",
        "import pathlib\n",
        "import os\n",
        "import pdb\n",
        "import pickle\n",
        "\n",
        "# Torch imports\n",
        "import torch\n",
        "import torch.nn as nn\n",
        "import torch.optim as optim\n",
        "import torch.nn.functional as F\n",
        "from torchvision import datasets, transforms, utils\n",
        "from torch.utils.data import Dataset, DataLoader\n",
        "from torchvision.transforms import *\n",
        "\n",
        "# Numpy & Scipy imports\n",
        "import numpy as np\n",
        "import scipy\n",
        "import scipy.misc\n",
        "\n",
        "# Misc\n",
        "import matplotlib.pyplot as plt\n",
        "import argparse"
      ],
      "execution_count": null,
      "outputs": []
    },
    {
      "cell_type": "markdown",
      "metadata": {
        "id": "LRZLl2VwuDXg"
      },
      "source": [
        "# I - Prerequisite"
      ]
    },
    {
      "cell_type": "markdown",
      "metadata": {
        "id": "4zE3lTSUr3XK"
      },
      "source": [
        "### 1) Hyper-parameters of the models\n",
        "First, we create a parser where we define all the required parameters to train the models."
      ]
    },
    {
      "cell_type": "code",
      "metadata": {
        "id": "ll32VmkuPSnM"
      },
      "source": [
        "#Definition of the parser of the whole parameters\n",
        "def create_parser():\n",
        "    parser = argparse.ArgumentParser()\n",
        "\n",
        "    # Model hyper-parameters\n",
        "    parser.add_argument('--image_size', type=int, default=28, help='The side length N to convert images to NxN.')\n",
        "    parser.add_argument('--g_conv_dim', type=int, default=64)\n",
        "    parser.add_argument('--d_conv_dim', type=int, default=64)\n",
        "    parser.add_argument('--use_cycle_consistency_loss', action='store_true', default=True, help='Choose whether to include the cycle consistency term in the loss.')\n",
        "    parser.add_argument('--init_zero_weights', action='store_true', default=False, help='Choose whether to initialize the generator conv weights to 0 (implements the identity function).')\n",
        "\n",
        "    # Training hyper-parameters\n",
        "    parser.add_argument('--train_iters', type=int, default=600, help='The number of training iterations to run')\n",
        "    parser.add_argument('--batch_size', type=int, default=16, help='The number of images in a batch.')\n",
        "    parser.add_argument('--num_workers', type=int, default=0, help='The number of threads to use for the DataLoader.')\n",
        "    parser.add_argument('--lr', type=float, default=0.0003, help='The learning rate (default 0.0003)')\n",
        "    \n",
        "    ## Adam optimizer parameters\n",
        "    parser.add_argument('--beta1', type=float, default=0.5)\n",
        "    parser.add_argument('--beta2', type=float, default=0.999)\n",
        "  \n",
        "    # Saving directories and checkpoint/sample iterations\n",
        "    parser.add_argument('--checkpoint_dir', type=str, default='checkpoints_cyclegan')\n",
        "    parser.add_argument('--sample_dir', type=str, default='samples_cyclegan')\n",
        "    parser.add_argument('--load', type=str, default=None)\n",
        "    \n",
        "    # timerange between prints of information\n",
        "    parser.add_argument('--log_step', type=int , default=10)\n",
        "    parser.add_argument('--sample_every', type=int , default=100)\n",
        "    parser.add_argument('--checkpoint_every', type=int , default=200)\n",
        "\n",
        "    # Define the lambda of the Cycle Consistency loss\n",
        "    parser.add_argument('--CClambda', type=int , default=10)\n",
        "\n",
        "    return parser\n",
        "\n",
        "#Print the current parameters\n",
        "def print_opts(opts):\n",
        "    \"\"\"Prints the values of all command-line arguments.\n",
        "    \"\"\"\n",
        "    print('=' * 80)\n",
        "    print('Opts'.center(80))\n",
        "    print('-' * 80)\n",
        "    for key in opts.__dict__:\n",
        "        if opts.__dict__[key]:\n",
        "            print('{:>30}: {:<30}'.format(key, opts.__dict__[key]).center(80))\n",
        "    print('=' * 80)"
      ],
      "execution_count": null,
      "outputs": []
    },
    {
      "cell_type": "code",
      "metadata": {
        "colab": {
          "base_uri": "https://localhost:8080/"
        },
        "id": "44H5UpU0PYzo",
        "outputId": "f09bcd63-ed2d-4008-a188-07b2bed6f1c7"
      },
      "source": [
        "parser=create_parser()\n",
        "opts,_ = parser.parse_known_args()\n",
        "print_opts(opts)"
      ],
      "execution_count": null,
      "outputs": [
        {
          "output_type": "stream",
          "text": [
            "================================================================================\n",
            "                                      Opts                                      \n",
            "--------------------------------------------------------------------------------\n",
            "                             image_size: 28                                     \n",
            "                             g_conv_dim: 64                                     \n",
            "                             d_conv_dim: 64                                     \n",
            "             use_cycle_consistency_loss: 1                                      \n",
            "                            train_iters: 600                                    \n",
            "                             batch_size: 16                                     \n",
            "                                     lr: 0.0003                                 \n",
            "                                  beta1: 0.5                                    \n",
            "                                  beta2: 0.999                                  \n",
            "                         checkpoint_dir: checkpoints_cyclegan                   \n",
            "                             sample_dir: samples_cyclegan                       \n",
            "                               log_step: 10                                     \n",
            "                           sample_every: 100                                    \n",
            "                       checkpoint_every: 200                                    \n",
            "                               CClambda: 10                                     \n",
            "================================================================================\n"
          ],
          "name": "stdout"
        }
      ]
    },
    {
      "cell_type": "markdown",
      "metadata": {
        "id": "DZ-BJMcXWT3N"
      },
      "source": [
        "### 2) Importing data\n",
        "In this section, we importe the USPS and MNIST data. We resize the USPS images to get the same image size for the two datasets."
      ]
    },
    {
      "cell_type": "code",
      "metadata": {
        "colab": {
          "base_uri": "https://localhost:8080/",
          "height": 431,
          "referenced_widgets": [
            "e0f5c0d788a742829688120ae0c8c57d",
            "ca26ee7e129e4b3dae5576e6af1451c2",
            "2601d4f00a234fef8eeb7e39f8960738",
            "6b1daa389c9e4dfc89ec76525a9a5250",
            "1e33a428e71b4b599e0e0d7ab6a48af9",
            "198f04a164ae49e39be3194e75725a48",
            "f3b303ab9ae94efc9af3ca460b1ce0cb",
            "cc49b4f0b6ad418ab56c2a80dabea422",
            "8bee410316604dd6b603c6758392e6fe",
            "14ba3e1452fd49f0b70903b30081cfa0",
            "372a95ec4aed4371bd8cd49ef9f099de",
            "8864414a52f548dcb0a33b0e312f8248",
            "ce382ba356324d6c9ef120e9e0041e82",
            "730c5e0410814d9697c3071c9543e927",
            "114a7733906648ff97f2ab9f244b5bfe",
            "74795cfd508049ba9afdbf570a526210"
          ]
        },
        "id": "MaUryq5saxWn",
        "outputId": "03ae5ece-ae15-4a5d-ece8-54eea29530fe"
      },
      "source": [
        "# We split the whole train set in two parts:\n",
        "# the one that we actually use for training\n",
        "# and the one that we use for validation\n",
        "\n",
        "# We download the oficial USPS train set and resize it to 28\n",
        "my_transform = transforms.Compose([Resize(28), ToTensor()])\n",
        "train_USPS = datasets.USPS('data/',\n",
        "                           download=True,\n",
        "                           train=True,\n",
        "                           transform=my_transform)\n",
        "\n",
        "test_USPS = datasets.USPS('data/',\n",
        "                           download=True,\n",
        "                           train=False,\n",
        "                           transform=my_transform)\n",
        "\n",
        "#Creation of dataloader with batches for the training and validation rounds\n",
        "trainloader_USPS = torch.utils.data.DataLoader(train_USPS,batch_size=opts.batch_size,shuffle=True)\n",
        "valloader_USPS = torch.utils.data.DataLoader(test_USPS,batch_size=opts.batch_size,shuffle=True)\n",
        "\n",
        "# We print a random image from the USPS dataset\n",
        "for inputs, targets in trainloader_USPS:\n",
        "    print(f'Dimensions of the inputs are {inputs.shape}')\n",
        "    plt.imshow(inputs[0][0], cmap='gray', interpolation='none')\n",
        "    print(f'The number on the image is: {targets[0]}')\n",
        "    break"
      ],
      "execution_count": null,
      "outputs": [
        {
          "output_type": "stream",
          "text": [
            "Downloading https://www.csie.ntu.edu.tw/~cjlin/libsvmtools/datasets/multiclass/usps.bz2 to data/usps.bz2\n"
          ],
          "name": "stdout"
        },
        {
          "output_type": "display_data",
          "data": {
            "application/vnd.jupyter.widget-view+json": {
              "model_id": "e0f5c0d788a742829688120ae0c8c57d",
              "version_minor": 0,
              "version_major": 2
            },
            "text/plain": [
              "HBox(children=(FloatProgress(value=0.0, max=6579383.0), HTML(value='')))"
            ]
          },
          "metadata": {
            "tags": []
          }
        },
        {
          "output_type": "stream",
          "text": [
            "\n",
            "Downloading https://www.csie.ntu.edu.tw/~cjlin/libsvmtools/datasets/multiclass/usps.t.bz2 to data/usps.t.bz2\n"
          ],
          "name": "stdout"
        },
        {
          "output_type": "display_data",
          "data": {
            "application/vnd.jupyter.widget-view+json": {
              "model_id": "8bee410316604dd6b603c6758392e6fe",
              "version_minor": 0,
              "version_major": 2
            },
            "text/plain": [
              "HBox(children=(FloatProgress(value=0.0, max=1831726.0), HTML(value='')))"
            ]
          },
          "metadata": {
            "tags": []
          }
        },
        {
          "output_type": "stream",
          "text": [
            "\n",
            "Dimensions of the inputs are torch.Size([16, 1, 28, 28])\n",
            "The number on the image is: 4\n"
          ],
          "name": "stdout"
        },
        {
          "output_type": "display_data",
          "data": {
            "image/png": "[encoded data removed]",
            "text/plain": [
              "<Figure size 432x288 with 1 Axes>"
            ]
          },
          "metadata": {
            "tags": [],
            "needs_background": "light"
          }
        }
      ]
    },
    {
      "cell_type": "code",
      "metadata": {
        "colab": {
          "base_uri": "https://localhost:8080/",
          "height": 940,
          "referenced_widgets": [
            "f38d2a6ee2914a7f909baf91415cc4f0",
            "00ab69b3906a47e1871070d1187bfdd9",
            "386c1405cfc14fc181f9c734a018b15f",
            "c34d319f8c9c435586f0aae431d0f677",
            "488236a42db742928e269c165286834b",
            "f8b0ac7b72c94f30a5d7d0476f0dc6a3",
            "4113b3006daf488ebd6205430eee95a7",
            "4ccf1b36262f4f4e9822a89010fd46f9",
            "e4a81432f0484507a93ca02c31273722",
            "0d9e3107a67241a69503f4569812777d",
            "4e134ddbfb97427b879118be6323e07b",
            "baf1a873e62d4c209d8416e48d2d2930",
            "a7055b44d80d434784546a8c1c73e7f5",
            "dc3a816bba634a4f83428a664e59528b",
            "1d68531073e644af950acaab30f9cd0d",
            "66925bad9b3046f893c3b19abd7b1788",
            "6785766b84254d11adfe980a6cd65399",
            "f3c36288a645464b9bec15eee3bab700",
            "cda0c2ca89404a2b95191c8bb896267e",
            "b711811b083e424db15f94b2109af1ca",
            "1a4a6818a3134985931aec81190a850f",
            "c9e3d82678e44f75b1787210786687d9",
            "4eff2990c7da4c748a924bdf07694bad",
            "8e52e223dc9243839a81d4ffe9cfb7c2",
            "06458138003c40519a9a7979da581651",
            "834cc266c99b41fe8e6d8d25524b02bd",
            "9c22e0f9ba2148a4b05e75b9902e53eb",
            "f031bf3205bc47e98a05b6d68edb4f02",
            "616146376f8549919fa2a8a3c86a2781",
            "553a1f30c298464f86435f2f1454bc2f",
            "cbda0d3cbd004a61881fbfda3a66a2d1",
            "1c66660be1c745e98a908a0c50ee771d"
          ]
        },
        "id": "Nnq9Yul6ab7W",
        "outputId": "83964446-09b4-4030-9aa4-2f59e8241f50"
      },
      "source": [
        "# We split the whole train set in two parts:\n",
        "# the one that we actually use for training\n",
        "# and the one that we use for validation\n",
        "\n",
        "# We download the oficial MNIST train set\n",
        "train_MNIST = datasets.MNIST('data/',\n",
        "                           download=True,\n",
        "                           train=True,\n",
        "                           transform=transforms.ToTensor())\n",
        "\n",
        "test_MNIST = datasets.MNIST('data/',\n",
        "                           download=True,\n",
        "                           train=False,\n",
        "                           transform=transforms.ToTensor())\n",
        "\n",
        "#Creation of dataloader with batches for the training and validation rounds\n",
        "trainloader_MNIST = torch.utils.data.DataLoader(train_MNIST, batch_size=opts.batch_size, shuffle=True)\n",
        "valloader_MNIST = torch.utils.data.DataLoader(test_MNIST, batch_size=opts.batch_size, shuffle=True)\n",
        "\n",
        "# We print a random image from the MNIST dataset\n",
        "for inputs, targets in trainloader_MNIST:\n",
        "    print(f'Dimensions of the inputs are {inputs.shape}')\n",
        "    plt.imshow(inputs[0][0], cmap='gray', interpolation='none')\n",
        "    print(f'The number on the image is: {targets[0]}')\n",
        "    break"
      ],
      "execution_count": null,
      "outputs": [
        {
          "output_type": "stream",
          "text": [
            "Downloading http://yann.lecun.com/exdb/mnist/train-images-idx3-ubyte.gz\n",
            "Downloading http://yann.lecun.com/exdb/mnist/train-images-idx3-ubyte.gz to data/MNIST/raw/train-images-idx3-ubyte.gz\n",
            "Failed to download (trying next):\n",
            "HTTP Error 503: Service Unavailable\n",
            "\n",
            "Downloading https://ossci-datasets.s3.amazonaws.com/mnist/train-images-idx3-ubyte.gz\n",
            "Downloading https://ossci-datasets.s3.amazonaws.com/mnist/train-images-idx3-ubyte.gz to data/MNIST/raw/train-images-idx3-ubyte.gz\n"
          ],
          "name": "stdout"
        },
        {
          "output_type": "display_data",
          "data": {
            "application/vnd.jupyter.widget-view+json": {
              "model_id": "f38d2a6ee2914a7f909baf91415cc4f0",
              "version_minor": 0,
              "version_major": 2
            },
            "text/plain": [
              "HBox(children=(FloatProgress(value=0.0, max=9912422.0), HTML(value='')))"
            ]
          },
          "metadata": {
            "tags": []
          }
        },
        {
          "output_type": "stream",
          "text": [
            "\n",
            "Extracting data/MNIST/raw/train-images-idx3-ubyte.gz to data/MNIST/raw\n",
            "\n",
            "Downloading http://yann.lecun.com/exdb/mnist/train-labels-idx1-ubyte.gz\n",
            "Downloading http://yann.lecun.com/exdb/mnist/train-labels-idx1-ubyte.gz to data/MNIST/raw/train-labels-idx1-ubyte.gz\n"
          ],
          "name": "stdout"
        },
        {
          "output_type": "display_data",
          "data": {
            "application/vnd.jupyter.widget-view+json": {
              "model_id": "e4a81432f0484507a93ca02c31273722",
              "version_minor": 0,
              "version_major": 2
            },
            "text/plain": [
              "HBox(children=(FloatProgress(value=0.0, max=28881.0), HTML(value='')))"
            ]
          },
          "metadata": {
            "tags": []
          }
        },
        {
          "output_type": "stream",
          "text": [
            "\n",
            "Extracting data/MNIST/raw/train-labels-idx1-ubyte.gz to data/MNIST/raw\n",
            "\n",
            "Downloading http://yann.lecun.com/exdb/mnist/t10k-images-idx3-ubyte.gz\n",
            "Downloading http://yann.lecun.com/exdb/mnist/t10k-images-idx3-ubyte.gz to data/MNIST/raw/t10k-images-idx3-ubyte.gz\n"
          ],
          "name": "stdout"
        },
        {
          "output_type": "display_data",
          "data": {
            "application/vnd.jupyter.widget-view+json": {
              "model_id": "6785766b84254d11adfe980a6cd65399",
              "version_minor": 0,
              "version_major": 2
            },
            "text/plain": [
              "HBox(children=(FloatProgress(value=0.0, max=1648877.0), HTML(value='')))"
            ]
          },
          "metadata": {
            "tags": []
          }
        },
        {
          "output_type": "stream",
          "text": [
            "\n",
            "Extracting data/MNIST/raw/t10k-images-idx3-ubyte.gz to data/MNIST/raw\n",
            "\n",
            "Downloading http://yann.lecun.com/exdb/mnist/t10k-labels-idx1-ubyte.gz\n",
            "Downloading http://yann.lecun.com/exdb/mnist/t10k-labels-idx1-ubyte.gz to data/MNIST/raw/t10k-labels-idx1-ubyte.gz\n"
          ],
          "name": "stdout"
        },
        {
          "output_type": "display_data",
          "data": {
            "application/vnd.jupyter.widget-view+json": {
              "model_id": "06458138003c40519a9a7979da581651",
              "version_minor": 0,
              "version_major": 2
            },
            "text/plain": [
              "HBox(children=(FloatProgress(value=0.0, max=4542.0), HTML(value='')))"
            ]
          },
          "metadata": {
            "tags": []
          }
        },
        {
          "output_type": "stream",
          "text": [
            "\n",
            "Extracting data/MNIST/raw/t10k-labels-idx1-ubyte.gz to data/MNIST/raw\n",
            "\n",
            "Processing...\n",
            "Done!\n"
          ],
          "name": "stdout"
        },
        {
          "output_type": "stream",
          "text": [
            "/usr/local/lib/python3.7/dist-packages/torchvision/datasets/mnist.py:502: UserWarning: The given NumPy array is not writeable, and PyTorch does not support non-writeable tensors. This means you can write to the underlying (supposedly non-writeable) NumPy array using the tensor. You may want to copy the array to protect its data or make it writeable before converting it to a tensor. This type of warning will be suppressed for the rest of this program. (Triggered internally at  /pytorch/torch/csrc/utils/tensor_numpy.cpp:143.)\n",
            "  return torch.from_numpy(parsed.astype(m[2], copy=False)).view(*s)\n"
          ],
          "name": "stderr"
        },
        {
          "output_type": "stream",
          "text": [
            "Dimensions of the inputs are torch.Size([16, 1, 28, 28])\n",
            "The number on the image is: 9\n"
          ],
          "name": "stdout"
        },
        {
          "output_type": "display_data",
          "data": {
            "image/png": "[encoded data removed]",
            "text/plain": [
              "<Figure size 432x288 with 1 Axes>"
            ]
          },
          "metadata": {
            "tags": [],
            "needs_background": "light"
          }
        }
      ]
    },
    {
      "cell_type": "markdown",
      "metadata": {
        "id": "4BVu-tbDtUfm"
      },
      "source": [
        "We notice that MNIST images have a better quality resolution than USPS images. The goal of the following sections will be to use a Cycle-GAN to increase or decrease the resolution of the images quality."
      ]
    },
    {
      "cell_type": "markdown",
      "metadata": {
        "id": "3S49A5hBvAkv"
      },
      "source": [
        "# II - Implementation of the Cycle-GAN architecture"
      ]
    },
    {
      "cell_type": "markdown",
      "metadata": {
        "id": "sWyRVGPhLMZH"
      },
      "source": [
        "### 1) Generator"
      ]
    },
    {
      "cell_type": "markdown",
      "metadata": {
        "id": "U84o5j88xLwo"
      },
      "source": [
        "Both generators $G : X\\rightarrow Y$ and $F:Y\\rightarrow X$ have the same structure and can be divided into three main blocks. \n",
        "- The first stage encodes the input via a series of convolutional features that extract the image features. \n",
        "- Then, the second stage transforms the features by passing them through one or more residual blocks. These residual blocks consist of a convolutional layer where the input is added to the output of the convolution. This is done so that the characteristics of the output do not differ too much from the input. \n",
        "- Finally, in the third stage the transformed features are decoded using a series of transposed convolutional layers and an output image (same size as the input) is produced."
      ]
    },
    {
      "cell_type": "markdown",
      "metadata": {
        "id": "bLJb_E5ZjCHX"
      },
      "source": [
        "![Capture d’écran 2021-04-12 à 12.06.23.png](data:image/png;base64,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)"
      ]
    },
    {
      "cell_type": "markdown",
      "metadata": {
        "id": "zTGzPLj9urTD"
      },
      "source": [
        "First of all, we define three functions useful for both the generator and the discriminator: the deconvolution block, the convolution block and the resnet block."
      ]
    },
    {
      "cell_type": "code",
      "metadata": {
        "id": "DJC0byAPYai-"
      },
      "source": [
        "#Deconvolution neural networks\n",
        "def deconv(in_channels, out_channels, kernel_size, stride=2, padding=1, batch_norm=True):\n",
        "    \"\"\"Creates a transposed-convolutional layer, with optional batch normalization.\n",
        "    \"\"\"\n",
        "    layers = []\n",
        "    layers.append(nn.ConvTranspose2d(in_channels, out_channels, kernel_size, stride, padding, bias=False))\n",
        "    #If option is chosen, normalization layer applied on the batches is added\n",
        "    if batch_norm:\n",
        "        layers.append(nn.BatchNorm2d(out_channels))\n",
        "    return nn.Sequential(*layers)\n",
        "\n",
        "\n",
        "#Convolution neural networks\n",
        "def conv(in_channels, out_channels, kernel_size, stride=2, padding=1, batch_norm=True, init_zero_weights=False):\n",
        "    \"\"\"Creates a convolutional layer, with optional batch normalization.\n",
        "    \"\"\"\n",
        "    layers = []\n",
        "    conv_layer = nn.Conv2d(in_channels=in_channels, out_channels=out_channels, kernel_size=kernel_size, stride=stride, padding=padding, bias=False)\n",
        "    #If option is chosen, the inital weights are set to almost zero\n",
        "    if init_zero_weights:\n",
        "        conv_layer.weight.data = torch.randn(out_channels, in_channels, kernel_size, kernel_size) * 0.001\n",
        "    layers.append(conv_layer)\n",
        "\n",
        "    #If option is chosen, normalization layer applied on the batches is added\n",
        "    if batch_norm:\n",
        "        layers.append(nn.BatchNorm2d(out_channels))\n",
        "    return nn.Sequential(*layers)\n",
        "\n",
        "#Resnet Block\n",
        "class ResnetBlock(nn.Module):\n",
        "    def __init__(self, conv_dim):\n",
        "        super(ResnetBlock, self).__init__()\n",
        "        self.conv_layer = conv(in_channels=conv_dim, out_channels=conv_dim, kernel_size=3, stride=1, padding=1)\n",
        "\n",
        "    def forward(self, x):\n",
        "        out = x + self.conv_layer(x)\n",
        "        return out\n"
      ],
      "execution_count": null,
      "outputs": []
    },
    {
      "cell_type": "markdown",
      "metadata": {
        "id": "2MzBl6TB1MBi"
      },
      "source": [
        "Then, we build the cycle-generator."
      ]
    },
    {
      "cell_type": "code",
      "metadata": {
        "id": "bIUlOjYgUcuo"
      },
      "source": [
        "class CycleGenerator(nn.Module):\n",
        "    \"\"\"Defines the architecture of the generator network.\n",
        "       Note: Both generators G_XtoY and G_YtoX have the same architecture in this assignment.\n",
        "    \"\"\"\n",
        "    def __init__(self, conv_dim=64, init_zero_weights=False):\n",
        "        super(CycleGenerator, self).__init__()\n",
        "\n",
        "        # 1. Define the encoder part of the generator (that extracts features from the input image)\n",
        "        self.conv1 = conv(in_channels=1,out_channels=32,kernel_size=(4,4),stride=2,padding=1,batch_norm=True,init_zero_weights=False)\n",
        "        self.conv2 = conv(in_channels=32,out_channels=conv_dim,kernel_size=(4,4),stride=2,padding=1,batch_norm=True,init_zero_weights=False)\n",
        "        \n",
        "        # 2. Define the transformation part of the generator\n",
        "        self.resnet_block = ResnetBlock(conv_dim=conv_dim)\n",
        "\n",
        "        # 3. Define the decoder part of the generator (that builds up the output image from features)\n",
        "        self.deconv1 = deconv(in_channels=conv_dim, out_channels=32, kernel_size=(4,4), stride=2, padding=1, batch_norm=True)\n",
        "        self.deconv2 = deconv(in_channels=32, out_channels=1, kernel_size=(4,4), stride=2, padding=1, batch_norm=True)\n",
        "\n",
        "    def forward(self, x):\n",
        "        \"\"\"Generates an image conditioned on an input image.\n",
        "            Input\n",
        "            -----\n",
        "                x: BS x 1 x 28 x 28\n",
        "            Output\n",
        "            ------\n",
        "                out: BS x 1 x 28 x 28\n",
        "        \"\"\"\n",
        "\n",
        "        out = torch.nn.functional.relu(self.conv1(x))\n",
        "        out = torch.nn.functional.relu(self.conv2(out))\n",
        "\n",
        "        out = torch.nn.functional.relu(self.resnet_block(out))\n",
        "\n",
        "        out = torch.nn.functional.relu(self.deconv1(out))\n",
        "        out = torch.nn.functional.tanh(self.deconv2(out))\n",
        "\n",
        "        return out"
      ],
      "execution_count": null,
      "outputs": []
    },
    {
      "cell_type": "code",
      "metadata": {
        "id": "zmXxVJ2-rK_L"
      },
      "source": [
        "#Instanciate the cycle-generator\n",
        "model_generator=CycleGenerator()"
      ],
      "execution_count": null,
      "outputs": []
    },
    {
      "cell_type": "markdown",
      "metadata": {
        "id": "vFh2Z1u013FQ"
      },
      "source": [
        "To verify that the generator gives an image, we generate a random image with the generator."
      ]
    },
    {
      "cell_type": "code",
      "metadata": {
        "colab": {
          "base_uri": "https://localhost:8080/",
          "height": 316
        },
        "id": "M7ugJN_NrUXy",
        "outputId": "2389e662-61be-4f15-a3f5-c82506ac6d24"
      },
      "source": [
        "for inputs, targets in trainloader_USPS:\n",
        "    y=model_generator(inputs)\n",
        "    with torch.no_grad():\n",
        "      plt.imshow(y[0][0], cmap='gray', interpolation='none')\n",
        "    print(y.shape)\n",
        "    break"
      ],
      "execution_count": null,
      "outputs": [
        {
          "output_type": "stream",
          "text": [
            "/usr/local/lib/python3.7/dist-packages/torch/nn/functional.py:1698: UserWarning: nn.functional.tanh is deprecated. Use torch.tanh instead.\n",
            "  warnings.warn(\"nn.functional.tanh is deprecated. Use torch.tanh instead.\")\n"
          ],
          "name": "stderr"
        },
        {
          "output_type": "stream",
          "text": [
            "torch.Size([16, 1, 28, 28])\n"
          ],
          "name": "stdout"
        },
        {
          "output_type": "display_data",
          "data": {
            "image/png": "[encoded data removed]",
            "text/plain": [
              "<Figure size 432x288 with 1 Axes>"
            ]
          },
          "metadata": {
            "tags": [],
            "needs_background": "light"
          }
        }
      ]
    },
    {
      "cell_type": "markdown",
      "metadata": {
        "id": "brXdPKAivRkV"
      },
      "source": [
        "### 2) Discriminator\n",
        "We now define the  Deep Convolutional Generative (DCG) discriminator which will be  the discriminator of the Cycle-Gan."
      ]
    },
    {
      "cell_type": "markdown",
      "metadata": {
        "id": "YYk1ZYEbvptj"
      },
      "source": [
        "![Capture d’écran 2021-04-12 à 13.01.39.png](data:image/png;base64,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)"
      ]
    },
    {
      "cell_type": "code",
      "metadata": {
        "id": "nI-79Gr9vUNT"
      },
      "source": [
        "class DCDiscriminator(nn.Module):\n",
        "    \"\"\"Defines the architecture of the discriminator network.\n",
        "    \"\"\"\n",
        "    def __init__(self, conv_dim=64):\n",
        "        super(DCDiscriminator, self).__init__()\n",
        "\n",
        "        # Define the encoder part of the discriminator (that extracts features from the input image)\n",
        "        self.conv1 = conv(in_channels=1,out_channels=32,kernel_size=(4,4),stride=2,padding=1,batch_norm=True,init_zero_weights=False)\n",
        "        self.conv2 = conv(in_channels=32,out_channels=64,kernel_size=(4,4),stride=2,padding=1,batch_norm=True,init_zero_weights=False)\n",
        "        self.conv3 = conv(in_channels=64,out_channels=128,kernel_size=(4,4),stride=2,padding=1,batch_norm=True,init_zero_weights=False)\n",
        "        self.conv4 = conv(in_channels=128,out_channels=1,kernel_size=(3,3),stride=4,padding=0,batch_norm=False,init_zero_weights=False)\n",
        "\n",
        "    def forward(self, x):\n",
        "\n",
        "        out = torch.nn.functional.relu(self.conv1(x))\n",
        "        out = torch.nn.functional.relu(self.conv2(out))\n",
        "        out = torch.nn.functional.relu(self.conv3(out))\n",
        "\n",
        "        out = self.conv4(out).squeeze()\n",
        "        #Apply a sigmoid function on the last layer to get a unique output\n",
        "        out = torch.nn.functional.sigmoid(out)\n",
        "        return out"
      ],
      "execution_count": null,
      "outputs": []
    },
    {
      "cell_type": "code",
      "metadata": {
        "id": "hfTQGVlPzTtB"
      },
      "source": [
        "#Instantiate the cycle-discriminator\n",
        "model_discriminator=DCDiscriminator()"
      ],
      "execution_count": null,
      "outputs": []
    },
    {
      "cell_type": "markdown",
      "metadata": {
        "id": "5bzAMLvm3Kji"
      },
      "source": [
        "To verify that the DCG-discriminator gives a good output, we apply it on a random image. We obtain one score for each element of the batch. "
      ]
    },
    {
      "cell_type": "code",
      "metadata": {
        "colab": {
          "base_uri": "https://localhost:8080/"
        },
        "id": "V51WBmtKzUbp",
        "outputId": "e4649342-a7f7-493c-9f66-76dd9bca9b0f"
      },
      "source": [
        "for inputs, targets in trainloader_USPS:\n",
        "    y=model_discriminator(inputs)\n",
        "    print(y)\n",
        "    break"
      ],
      "execution_count": null,
      "outputs": [
        {
          "output_type": "stream",
          "text": [
            "tensor([0.3799, 0.4323, 0.4841, 0.3714, 0.4580, 0.4446, 0.4264, 0.4380, 0.4597,\n",
            "        0.4728, 0.4513, 0.4856, 0.4634, 0.3719, 0.4461, 0.4108],\n",
            "       grad_fn=<SigmoidBackward>)\n"
          ],
          "name": "stdout"
        },
        {
          "output_type": "stream",
          "text": [
            "/usr/local/lib/python3.7/dist-packages/torch/nn/functional.py:1709: UserWarning: nn.functional.sigmoid is deprecated. Use torch.sigmoid instead.\n",
            "  warnings.warn(\"nn.functional.sigmoid is deprecated. Use torch.sigmoid instead.\")\n"
          ],
          "name": "stderr"
        }
      ]
    },
    {
      "cell_type": "markdown",
      "metadata": {
        "id": "Ksrkrq9MLf0Z"
      },
      "source": [
        "# III - Training"
      ]
    },
    {
      "cell_type": "markdown",
      "metadata": {
        "id": "dvVWs6qyU22G"
      },
      "source": [
        "### 1) Definition of all of the useful functions for the training"
      ]
    },
    {
      "cell_type": "code",
      "metadata": {
        "id": "yMTVhmO0flLj"
      },
      "source": [
        "import os\n",
        "\n",
        "import torch\n",
        "from torch.autograd import Variable\n",
        "\n",
        "'''This function will be used to properly convert images/labels in the training loop '''\n",
        "def to_var(x):\n",
        "    \"\"\"Converts numpy to variable.\"\"\"\n",
        "    #If GPU is activated we migrate the data into a cuda device\n",
        "    if torch.cuda.is_available():\n",
        "        x = x.cuda()\n",
        "    return Variable(x)\n",
        "\n",
        "def to_data(x):\n",
        "    \"\"\"Converts variable to numpy.\"\"\"\n",
        "    #If GPU is activated we migrate the data from the cuda device to get the numpy data\n",
        "    if torch.cuda.is_available():\n",
        "        x = x.cpu()\n",
        "    return x.data.numpy()\n",
        "\n",
        "def create_dir(directory):\n",
        "    \"\"\"Creates a directory if it does not already exist.\n",
        "    \"\"\"\n",
        "    if not os.path.exists(directory):\n",
        "        os.makedirs(directory)\n",
        "\n",
        "#we instantiate a L1 loss (used for cycle consistency)\n",
        "l1_loss = torch.nn.L1Loss() "
      ],
      "execution_count": null,
      "outputs": []
    },
    {
      "cell_type": "code",
      "metadata": {
        "id": "4hk_HhBSMH5b"
      },
      "source": [
        "#function to create all the required generators and discriminators used in the cycle-gan\n",
        "def create_model(opts):\n",
        "    \"\"\"Builds the generators and discriminators.\n",
        "    \"\"\"\n",
        "    #Generator- generate an image from X to Y\n",
        "    G_XtoY = CycleGenerator(conv_dim=opts.g_conv_dim, init_zero_weights=opts.init_zero_weights)\n",
        "    #Generator- generate an image from Y to X\n",
        "    G_YtoX = CycleGenerator(conv_dim=opts.g_conv_dim, init_zero_weights=opts.init_zero_weights)\n",
        "    #Discriminator of the X images\n",
        "    D_X = DCDiscriminator(conv_dim=opts.d_conv_dim)\n",
        "    #Discriminator of the Y images\n",
        "    D_Y = DCDiscriminator(conv_dim=opts.d_conv_dim)\n",
        "\n",
        "    print_models(G_XtoY, G_YtoX, D_X, D_Y)\n",
        "\n",
        "    #If GPU is activated we migrate the functions into a cuda device\n",
        "    if torch.cuda.is_available():\n",
        "        G_XtoY.cuda()\n",
        "        G_YtoX.cuda()\n",
        "        D_X.cuda()\n",
        "        D_Y.cuda()\n",
        "        print('Models moved to GPU.')\n",
        "\n",
        "    return G_XtoY, G_YtoX, D_X, D_Y"
      ],
      "execution_count": null,
      "outputs": []
    },
    {
      "cell_type": "code",
      "metadata": {
        "id": "Lk-Y9gGrMCkp"
      },
      "source": [
        "def print_models(G_XtoY, G_YtoX, D_X, D_Y):\n",
        "    \"\"\"Prints model information for the generators and discriminators.\n",
        "    \"\"\"\n",
        "    print(\"                 G_XtoY                \")\n",
        "    print(\"---------------------------------------\")\n",
        "    print(G_XtoY)\n",
        "    print(\"---------------------------------------\")\n",
        "\n",
        "    print(\"                 G_YtoX                \")\n",
        "    print(\"---------------------------------------\")\n",
        "    print(G_YtoX)\n",
        "    print(\"---------------------------------------\")\n",
        "\n",
        "    print(\"                  D_X                  \")\n",
        "    print(\"---------------------------------------\")\n",
        "    print(D_X)\n",
        "    print(\"---------------------------------------\")\n",
        "\n",
        "    print(\"                  D_Y                  \")\n",
        "    print(\"---------------------------------------\")\n",
        "    print(D_Y)\n",
        "    print(\"---------------------------------------\")"
      ],
      "execution_count": null,
      "outputs": []
    },
    {
      "cell_type": "code",
      "metadata": {
        "id": "HIz4wa_6MO7l"
      },
      "source": [
        "def checkpoint(iteration, G_XtoY, G_YtoX, D_X, D_Y, opts):\n",
        "    \"\"\"Saves the parameters of both generators G_YtoX, G_XtoY and discriminators D_X, D_Y.\n",
        "    \"\"\"\n",
        "    #Define the paths to save the generators and discriminators parameters\n",
        "    G_XtoY_path = os.path.join(opts.checkpoint_dir, 'G_XtoY.pkl')\n",
        "    G_YtoX_path = os.path.join(opts.checkpoint_dir, 'G_YtoX.pkl')\n",
        "    D_X_path = os.path.join(opts.checkpoint_dir, 'D_X.pkl')\n",
        "    D_Y_path = os.path.join(opts.checkpoint_dir, 'D_Y.pkl')\n",
        "\n",
        "    #Save the current trained weights of the generators and discriminators\n",
        "    torch.save(G_XtoY.state_dict(), G_XtoY_path)\n",
        "    torch.save(G_YtoX.state_dict(), G_YtoX_path)\n",
        "    torch.save(D_X.state_dict(), D_X_path)\n",
        "    torch.save(D_Y.state_dict(), D_Y_path)\n",
        "\n",
        "\n",
        "def load_checkpoint(opts):\n",
        "    \"\"\"Loads the generator and discriminator models from checkpoints.\n",
        "    \"\"\"\n",
        "\n",
        "    #Define the paths whare the generators and discriminators parameters are saved\n",
        "    G_XtoY_path = os.path.join(opts.load, 'G_XtoY.pkl')\n",
        "    G_YtoX_path = os.path.join(opts.load, 'G_YtoX.pkl')\n",
        "    D_X_path = os.path.join(opts.load, 'D_X.pkl')\n",
        "    D_Y_path = os.path.join(opts.load, 'D_Y.pkl')\n",
        "\n",
        "    #We re-define the architectures of the generators and discriminators\n",
        "    G_XtoY = CycleGenerator(conv_dim=opts.g_conv_dim, init_zero_weights=opts.init_zero_weights)\n",
        "    G_YtoX = CycleGenerator(conv_dim=opts.g_conv_dim, init_zero_weights=opts.init_zero_weights)\n",
        "    D_X = DCDiscriminator(conv_dim=opts.d_conv_dim)\n",
        "    D_Y = DCDiscriminator(conv_dim=opts.d_conv_dim)\n",
        "\n",
        "    #We load the weights of the pre-trained generators and discriminators\n",
        "    G_XtoY.load_state_dict(torch.load(G_XtoY_path, map_location=lambda storage, loc: storage))\n",
        "    G_YtoX.load_state_dict(torch.load(G_YtoX_path, map_location=lambda storage, loc: storage))\n",
        "    D_X.load_state_dict(torch.load(D_X_path, map_location=lambda storage, loc: storage))\n",
        "    D_Y.load_state_dict(torch.load(D_Y_path, map_location=lambda storage, loc: storage))\n",
        "\n",
        "    #If GPU is activated we migrate the functions into a cuda device\n",
        "    if torch.cuda.is_available():\n",
        "        G_XtoY.cuda()\n",
        "        G_YtoX.cuda()\n",
        "        D_X.cuda()\n",
        "        D_Y.cuda()\n",
        "        print('Models moved to GPU.')\n",
        "\n",
        "    return G_XtoY, G_YtoX, D_X, D_Y\n",
        "\n",
        "def merge_images(sources, targets, opts, k=10):\n",
        "    \"\"\"Creates a grid consisting of pairs of columns, where the first column in\n",
        "    each pair contains source images and the second column in each pair\n",
        "    contains images generated by the CycleGAN from the corresponding images in\n",
        "    the first column.\n",
        "    \"\"\"\n",
        "    _, _, h, w = sources.shape\n",
        "    row = int(np.sqrt(opts.batch_size))\n",
        "    merged = np.zeros([3, row*h, row*w*2])\n",
        "    #We merge the images for the final vizualisation\n",
        "    for idx, (s, t) in enumerate(zip(sources, targets)):\n",
        "        i = idx // row\n",
        "        j = idx % row\n",
        "        merged[:, i*h:(i+1)*h, (j*2)*h:(j*2+1)*h] = s\n",
        "        merged[:, i*h:(i+1)*h, (j*2+1)*h:(j*2+2)*h] = t\n",
        "    return merged.transpose(1, 2, 0)\n",
        "\n",
        "\n",
        "def save_samples(iteration, fixed_Y, fixed_X, G_YtoX, G_XtoY, opts):\n",
        "    \"\"\"Saves samples from both generators X->Y and Y->X.\n",
        "    \"\"\"\n",
        "    #Create the fake fixed images through the current generators\n",
        "    fake_X = G_YtoX(fixed_Y)\n",
        "    fake_Y = G_XtoY(fixed_X)\n",
        "\n",
        "    #Move from torch data to numpy\n",
        "    X, fake_X = to_data(fixed_X), to_data(fake_X)\n",
        "    Y, fake_Y = to_data(fixed_Y), to_data(fake_Y)\n",
        "\n",
        "    #Create the image for visualization for X and save it\n",
        "    merged = merge_images(X, fake_Y, opts)\n",
        "    path = os.path.join(opts.sample_dir, 'sample-{:06d}-X-Y.png'.format(iteration))\n",
        "    \n",
        "    imageio.imwrite(path, merged)\n",
        "    print('Saved {}'.format(path))\n",
        "\n",
        "    #Create the image for visualization for Y and save it\n",
        "    merged = merge_images(Y, fake_X, opts)\n",
        "    path = os.path.join(opts.sample_dir, 'sample-{:06d}-Y-X.png'.format(iteration))\n",
        "    imageio.imwrite(path, merged)\n",
        "    print('Saved {}'.format(path))\n"
      ],
      "execution_count": null,
      "outputs": []
    },
    {
      "cell_type": "markdown",
      "metadata": {
        "id": "n2ag8spwVCFQ"
      },
      "source": [
        "### 2) Definition of the training"
      ]
    },
    {
      "cell_type": "code",
      "metadata": {
        "id": "NlHPYiPUNI_u"
      },
      "source": [
        "def training_loop(dataloader_X, dataloader_Y, test_dataloader_X, test_dataloader_Y, opts):\n",
        "    \"\"\"Runs the training loop.\n",
        "        * Saves checkpoint every opts.checkpoint_every iterations\n",
        "        * Saves generated samples every opts.sample_every iterations\n",
        "    \"\"\"\n",
        "\n",
        "    # Create generators and discriminators\n",
        "    if opts.load:\n",
        "        G_XtoY, G_YtoX, D_X, D_Y = load_checkpoint(opts)\n",
        "    else:\n",
        "        G_XtoY, G_YtoX, D_X, D_Y = create_model(opts)\n",
        "\n",
        "    # we concatenate the parameters of the two generators (resp two discriminators)\n",
        "    g_params = list(G_XtoY.parameters()) + list(G_YtoX.parameters())  # Get generator parameters\n",
        "    d_params = list(D_X.parameters()) + list(D_Y.parameters())  # Get discriminator parameters\n",
        "\n",
        "    # Create optimizers for the generators and discriminators\n",
        "    g_optimizer = optim.Adam(g_params, opts.lr, [opts.beta1, opts.beta2])\n",
        "    d_optimizer = optim.Adam(d_params, opts.lr, [opts.beta1, opts.beta2])\n",
        "\n",
        "    iter_X = iter(dataloader_X)\n",
        "    iter_Y = iter(dataloader_Y)\n",
        "\n",
        "    test_iter_X = iter(test_dataloader_X)\n",
        "    test_iter_Y = iter(test_dataloader_Y)\n",
        "\n",
        "    # Get some fixed data from domains X and Y for sampling. These are images that are held\n",
        "    # constant throughout training, that allow us to inspect the model's performance.\n",
        "    fixed_X = to_var(test_iter_X.next()[0])\n",
        "    fixed_Y = to_var(test_iter_Y.next()[0])\n",
        "\n",
        "    # the nb of iterations per epoch is equal to the number of batches in the smaller dataset (MNIST or USPS)\n",
        "    iter_per_epoch = min(len(iter_X), len(iter_Y))\n",
        "\n",
        "    for iteration in range(1, opts.train_iters+1):\n",
        "\n",
        "        # Reset data_iter for each epoch\n",
        "        # Every time the model has iterated over every batch we reinitialize the iterator and start another epoch on all the batches\n",
        "        if iteration % iter_per_epoch == 0:\n",
        "            iter_X = iter(dataloader_X)\n",
        "            iter_Y = iter(dataloader_Y)\n",
        "\n",
        "        images_X, labels_X = iter_X.next()\n",
        "        images_X, labels_X = to_var(images_X), to_var(labels_X).long().squeeze()\n",
        "\n",
        "        images_Y, labels_Y = iter_Y.next()\n",
        "        images_Y, labels_Y = to_var(images_Y), to_var(labels_Y).long().squeeze()\n",
        "\n",
        "\n",
        "        # ============================================\n",
        "        #            TRAIN THE DISCRIMINATORS\n",
        "        # ============================================\n",
        "\n",
        "        # Train with real images\n",
        "        d_optimizer.zero_grad()\n",
        "\n",
        "        # 1. Compute the discriminator losses on real images\n",
        "        D_X_loss = torch.mean((D_X(images_X)-1)**2)\n",
        "        D_Y_loss = torch.mean((D_Y(images_Y)-1)**2)\n",
        "       \n",
        "        d_real_loss = D_X_loss + D_Y_loss\n",
        "        d_real_loss.backward()\n",
        "        d_optimizer.step()\n",
        "\n",
        "        # Train with fake images\n",
        "        d_optimizer.zero_grad()\n",
        "\n",
        "        # 2. Generate fake images that look like domain X based on real images in domain Y\n",
        "        fake_X = G_YtoX(images_Y)\n",
        "\n",
        "        # 3. Compute the loss for D_X\n",
        "        D_X_loss = torch.mean((D_X(fake_X))**2)\n",
        "\n",
        "        # 4. Generate fake images that look like domain Y based on real images in domain X\n",
        "        fake_Y = G_XtoY(images_X)\n",
        "\n",
        "        # 5. Compute the loss for D_Y\n",
        "        D_Y_loss = torch.mean((D_Y(fake_Y))**2)\n",
        "\n",
        "        d_fake_loss = D_X_loss + D_Y_loss\n",
        "        d_fake_loss.backward()\n",
        "        d_optimizer.step()\n",
        "\n",
        "\n",
        "\n",
        "        # =========================================\n",
        "        #            TRAIN THE GENERATORS\n",
        "        # =========================================\n",
        "\n",
        "\n",
        "        #########################################\n",
        "        ##   Y--X-->Y CYCLE     ##\n",
        "        #########################################\n",
        "        g_optimizer.zero_grad()\n",
        "\n",
        "        # 1. Generate fake images that look like domain X based on real images in domain Y\n",
        "        fake_X = G_YtoX(images_Y)\n",
        "\n",
        "        # 2. Compute the generator loss based on domain X\n",
        "        g_loss = torch.mean((D_X(fake_X)-1)**2)\n",
        "\n",
        "        if opts.use_cycle_consistency_loss:\n",
        "            reconstructed_Y = G_XtoY(fake_X)\n",
        "            # 3. Compute the cycle consistency loss (the reconstruction loss)\n",
        "            cycle_consistency_loss = l1_loss(images_Y,reconstructed_Y)*opts.CClambda \n",
        "            g_loss += cycle_consistency_loss\n",
        "\n",
        "        g_loss.backward()\n",
        "        g_optimizer.step()\n",
        "\n",
        "\n",
        "\n",
        "        #########################################\n",
        "        ##   X--Y-->X CYCLE     ##\n",
        "        #########################################\n",
        "        g_optimizer.zero_grad()\n",
        "\n",
        "        # 1. Generate fake images that look like domain Y based on real images in domain X\n",
        "        fake_Y = G_XtoY(images_X)\n",
        "\n",
        "        # 2. Compute the generator loss based on domain Y\n",
        "        g_loss = torch.mean((D_Y(fake_Y)-1)**2)\n",
        "\n",
        "        if opts.use_cycle_consistency_loss:\n",
        "            reconstructed_X = G_YtoX(fake_Y)\n",
        "            # 3. Compute the cycle consistency loss (the reconstruction loss)\n",
        "            cycle_consistency_loss = l1_loss(images_X,G_YtoX(fake_Y))*opts.CClambda \n",
        "            g_loss += cycle_consistency_loss\n",
        "\n",
        "        g_loss.backward()\n",
        "        g_optimizer.step()\n",
        "\n",
        "\n",
        "        # Print the log info\n",
        "        if iteration % opts.log_step == 0:\n",
        "            print('Iteration [{:5d}/{:5d}] | d_real_loss: {:6.4f} | d_Y_loss: {:6.4f} | d_X_loss: {:6.4f} | '\n",
        "                  'd_fake_loss: {:6.4f} | g_loss: {:6.4f}'.format(\n",
        "                    iteration, opts.train_iters, d_real_loss.item(), D_Y_loss.item(),\n",
        "                    D_X_loss.item(), d_fake_loss.item(), g_loss.item()))\n",
        "\n",
        "\n",
        "        # Save the generated samples every 100 iterations to check our performance qualitatively\n",
        "        if iteration % opts.sample_every == 0:\n",
        "            save_samples(iteration, fixed_Y, fixed_X, G_YtoX, G_XtoY, opts)\n",
        "\n",
        "\n",
        "        # Save the model parameters\n",
        "        if iteration % opts.checkpoint_every == 0:\n",
        "            checkpoint(iteration, G_XtoY, G_YtoX, D_X, D_Y, opts)\n"
      ],
      "execution_count": null,
      "outputs": []
    },
    {
      "cell_type": "markdown",
      "metadata": {
        "id": "gIEpNfI260JW"
      },
      "source": [
        "Finally, we define the main function which will launch the training"
      ]
    },
    {
      "cell_type": "code",
      "metadata": {
        "id": "-G4A9AGgfV3B"
      },
      "source": [
        "def main(opts):\n",
        "    \"\"\"Loads the data, creates checkpoint and sample directories, and starts the training loop.\n",
        "    \"\"\"\n",
        "\n",
        "    # Create train and test dataloaders for images from the two domains X and Y\n",
        "    trainloader_MNIST = torch.utils.data.DataLoader(train_MNIST, batch_size=opts.batch_size, shuffle=True)\n",
        "    valloader_MNIST = torch.utils.data.DataLoader(test_MNIST, batch_size=opts.batch_size, shuffle=True)\n",
        "    trainloader_USPS = torch.utils.data.DataLoader(train_USPS, batch_size=opts.batch_size, shuffle=True)\n",
        "    valloader_USPS = torch.utils.data.DataLoader(test_USPS, batch_size=opts.batch_size, shuffle=True)\n",
        "    \n",
        "\n",
        "    # Create checkpoint and sample directories\n",
        "    create_dir(opts.checkpoint_dir)\n",
        "    create_dir(opts.sample_dir)\n",
        "\n",
        "    # Start training\n",
        "    training_loop(trainloader_MNIST,trainloader_USPS, valloader_MNIST, valloader_USPS, opts)"
      ],
      "execution_count": null,
      "outputs": []
    },
    {
      "cell_type": "markdown",
      "metadata": {
        "id": "tpFhJFfReate"
      },
      "source": [
        "# IV) - Cycle-GAN Experiments\n",
        "In this part, we will try different experiments. In the two first ones, we launch the training with different random seeds. Then we will vary the lambda parameter of the cycle-consistency loss."
      ]
    },
    {
      "cell_type": "markdown",
      "metadata": {
        "id": "eblDO-29edxV"
      },
      "source": [
        "## 1) Baseline exemple "
      ]
    },
    {
      "cell_type": "markdown",
      "metadata": {
        "id": "8tIrNrqrLEX7"
      },
      "source": [
        "We start by training our model on 10 000 iterations with a random-seed of 11. "
      ]
    },
    {
      "cell_type": "code",
      "metadata": {
        "id": "GGHLd23Vf7NQ"
      },
      "source": [
        "SEED = 11\n",
        "\n",
        "# Set the random seed manually \n",
        "np.random.seed(SEED)\n",
        "torch.manual_seed(SEED)\n",
        "if torch.cuda.is_available():\n",
        "    torch.cuda.manual_seed(SEED)"
      ],
      "execution_count": null,
      "outputs": []
    },
    {
      "cell_type": "code",
      "metadata": {
        "colab": {
          "base_uri": "https://localhost:8080/"
        },
        "id": "S1kHYgMRfDz4",
        "outputId": "7cfe3ff3-bbd5-4155-c208-05f79b9cea0d"
      },
      "source": [
        "#We re-define some hyper-parameters of the parser\n",
        "opts.use_cycle_consistency_loss = True #To use the cycle-consistency loss\n",
        "opts.sample_dir = 'question1_samples_cyclegan' #The direction to save the generated images by the cycle-gan\n",
        "opts.train_iters = 10000 #Number of training iterations\n",
        "opts.checkpoint_dir = 'question1_checkpoint_cyclegan' #The direction to save the weights of the cycle-gan\n",
        "opts.log_step = 500 #The number of iterations required to print the losses of the generators and discriminators for the current iteration\n",
        "opts.sample_every = 200 #The number of iterations required to create the images for the visualization\n",
        "opts.checkpoint_every = 2000 #The number of iterations required tos ave the weights of the cycle-gan\n",
        "print_opts(opts)"
      ],
      "execution_count": null,
      "outputs": [
        {
          "output_type": "stream",
          "text": [
            "================================================================================\n",
            "                                      Opts                                      \n",
            "--------------------------------------------------------------------------------\n",
            "                             image_size: 28                                     \n",
            "                             g_conv_dim: 64                                     \n",
            "                             d_conv_dim: 64                                     \n",
            "             use_cycle_consistency_loss: 1                                      \n",
            "                            train_iters: 10000                                  \n",
            "                             batch_size: 16                                     \n",
            "                                     lr: 0.0003                                 \n",
            "                                  beta1: 0.5                                    \n",
            "                                  beta2: 0.999                                  \n",
            "                         checkpoint_dir: question1_checkpoint_cyclegan          \n",
            "                             sample_dir: question1_samples_cyclegan             \n",
            "                               log_step: 500                                    \n",
            "                           sample_every: 200                                    \n",
            "                       checkpoint_every: 2000                                   \n",
            "                               CClambda: 10                                     \n",
            "================================================================================\n"
          ],
          "name": "stdout"
        }
      ]
    },
    {
      "cell_type": "code",
      "metadata": {
        "colab": {
          "base_uri": "https://localhost:8080/"
        },
        "id": "VCan4oz4fv1g",
        "outputId": "5d9b6691-b915-4766-8af4-8294eefb3fad"
      },
      "source": [
        "main(opts)"
      ],
      "execution_count": null,
      "outputs": [
        {
          "output_type": "stream",
          "text": [
            "                 G_XtoY                \n",
            "---------------------------------------\n",
            "CycleGenerator(\n",
            "  (conv1): Sequential(\n",
            "    (0): Conv2d(1, 32, kernel_size=(4, 4), stride=(2, 2), padding=(1, 1), bias=False)\n",
            "    (1): BatchNorm2d(32, eps=1e-05, momentum=0.1, affine=True, track_running_stats=True)\n",
            "  )\n",
            "  (conv2): Sequential(\n",
            "    (0): Conv2d(32, 64, kernel_size=(4, 4), stride=(2, 2), padding=(1, 1), bias=False)\n",
            "    (1): BatchNorm2d(64, eps=1e-05, momentum=0.1, affine=True, track_running_stats=True)\n",
            "  )\n",
            "  (resnet_block): ResnetBlock(\n",
            "    (conv_layer): Sequential(\n",
            "      (0): Conv2d(64, 64, kernel_size=(3, 3), stride=(1, 1), padding=(1, 1), bias=False)\n",
            "      (1): BatchNorm2d(64, eps=1e-05, momentum=0.1, affine=True, track_running_stats=True)\n",
            "    )\n",
            "  )\n",
            "  (deconv1): Sequential(\n",
            "    (0): ConvTranspose2d(64, 32, kernel_size=(4, 4), stride=(2, 2), padding=(1, 1), bias=False)\n",
            "    (1): BatchNorm2d(32, eps=1e-05, momentum=0.1, affine=True, track_running_stats=True)\n",
            "  )\n",
            "  (deconv2): Sequential(\n",
            "    (0): ConvTranspose2d(32, 1, kernel_size=(4, 4), stride=(2, 2), padding=(1, 1), bias=False)\n",
            "    (1): BatchNorm2d(1, eps=1e-05, momentum=0.1, affine=True, track_running_stats=True)\n",
            "  )\n",
            ")\n",
            "---------------------------------------\n",
            "                 G_YtoX                \n",
            "---------------------------------------\n",
            "CycleGenerator(\n",
            "  (conv1): Sequential(\n",
            "    (0): Conv2d(1, 32, kernel_size=(4, 4), stride=(2, 2), padding=(1, 1), bias=False)\n",
            "    (1): BatchNorm2d(32, eps=1e-05, momentum=0.1, affine=True, track_running_stats=True)\n",
            "  )\n",
            "  (conv2): Sequential(\n",
            "    (0): Conv2d(32, 64, kernel_size=(4, 4), stride=(2, 2), padding=(1, 1), bias=False)\n",
            "    (1): BatchNorm2d(64, eps=1e-05, momentum=0.1, affine=True, track_running_stats=True)\n",
            "  )\n",
            "  (resnet_block): ResnetBlock(\n",
            "    (conv_layer): Sequential(\n",
            "      (0): Conv2d(64, 64, kernel_size=(3, 3), stride=(1, 1), padding=(1, 1), bias=False)\n",
            "      (1): BatchNorm2d(64, eps=1e-05, momentum=0.1, affine=True, track_running_stats=True)\n",
            "    )\n",
            "  )\n",
            "  (deconv1): Sequential(\n",
            "    (0): ConvTranspose2d(64, 32, kernel_size=(4, 4), stride=(2, 2), padding=(1, 1), bias=False)\n",
            "    (1): BatchNorm2d(32, eps=1e-05, momentum=0.1, affine=True, track_running_stats=True)\n",
            "  )\n",
            "  (deconv2): Sequential(\n",
            "    (0): ConvTranspose2d(32, 1, kernel_size=(4, 4), stride=(2, 2), padding=(1, 1), bias=False)\n",
            "    (1): BatchNorm2d(1, eps=1e-05, momentum=0.1, affine=True, track_running_stats=True)\n",
            "  )\n",
            ")\n",
            "---------------------------------------\n",
            "                  D_X                  \n",
            "---------------------------------------\n",
            "DCDiscriminator(\n",
            "  (conv1): Sequential(\n",
            "    (0): Conv2d(1, 32, kernel_size=(4, 4), stride=(2, 2), padding=(1, 1), bias=False)\n",
            "    (1): BatchNorm2d(32, eps=1e-05, momentum=0.1, affine=True, track_running_stats=True)\n",
            "  )\n",
            "  (conv2): Sequential(\n",
            "    (0): Conv2d(32, 64, kernel_size=(4, 4), stride=(2, 2), padding=(1, 1), bias=False)\n",
            "    (1): BatchNorm2d(64, eps=1e-05, momentum=0.1, affine=True, track_running_stats=True)\n",
            "  )\n",
            "  (conv3): Sequential(\n",
            "    (0): Conv2d(64, 128, kernel_size=(4, 4), stride=(2, 2), padding=(1, 1), bias=False)\n",
            "    (1): BatchNorm2d(128, eps=1e-05, momentum=0.1, affine=True, track_running_stats=True)\n",
            "  )\n",
            "  (conv4): Sequential(\n",
            "    (0): Conv2d(128, 1, kernel_size=(3, 3), stride=(4, 4), bias=False)\n",
            "  )\n",
            ")\n",
            "---------------------------------------\n",
            "                  D_Y                  \n",
            "---------------------------------------\n",
            "DCDiscriminator(\n",
            "  (conv1): Sequential(\n",
            "    (0): Conv2d(1, 32, kernel_size=(4, 4), stride=(2, 2), padding=(1, 1), bias=False)\n",
            "    (1): BatchNorm2d(32, eps=1e-05, momentum=0.1, affine=True, track_running_stats=True)\n",
            "  )\n",
            "  (conv2): Sequential(\n",
            "    (0): Conv2d(32, 64, kernel_size=(4, 4), stride=(2, 2), padding=(1, 1), bias=False)\n",
            "    (1): BatchNorm2d(64, eps=1e-05, momentum=0.1, affine=True, track_running_stats=True)\n",
            "  )\n",
            "  (conv3): Sequential(\n",
            "    (0): Conv2d(64, 128, kernel_size=(4, 4), stride=(2, 2), padding=(1, 1), bias=False)\n",
            "    (1): BatchNorm2d(128, eps=1e-05, momentum=0.1, affine=True, track_running_stats=True)\n",
            "  )\n",
            "  (conv4): Sequential(\n",
            "    (0): Conv2d(128, 1, kernel_size=(3, 3), stride=(4, 4), bias=False)\n",
            "  )\n",
            ")\n",
            "---------------------------------------\n",
            "Models moved to GPU.\n"
          ],
          "name": "stdout"
        },
        {
          "output_type": "stream",
          "text": [
            "/usr/local/lib/python3.7/dist-packages/torch/nn/functional.py:1709: UserWarning: nn.functional.sigmoid is deprecated. Use torch.sigmoid instead.\n",
            "  warnings.warn(\"nn.functional.sigmoid is deprecated. Use torch.sigmoid instead.\")\n",
            "/usr/local/lib/python3.7/dist-packages/torch/nn/functional.py:1698: UserWarning: nn.functional.tanh is deprecated. Use torch.tanh instead.\n",
            "  warnings.warn(\"nn.functional.tanh is deprecated. Use torch.tanh instead.\")\n",
            "WARNING:root:Lossy conversion from float64 to uint8. Range [-1.0, 1.0]. Convert image to uint8 prior to saving to suppress this warning.\n",
            "WARNING:root:Lossy conversion from float64 to uint8. Range [-1.0, 0.9988957047462463]. Convert image to uint8 prior to saving to suppress this warning.\n"
          ],
          "name": "stderr"
        },
        {
          "output_type": "stream",
          "text": [
            "Saved question1_samples_cyclegan/sample-000200-X-Y.png\n",
            "Saved question1_samples_cyclegan/sample-000200-Y-X.png\n"
          ],
          "name": "stdout"
        },
        {
          "output_type": "stream",
          "text": [
            "WARNING:root:Lossy conversion from float64 to uint8. Range [-1.0, 1.0]. Convert image to uint8 prior to saving to suppress this warning.\n",
            "WARNING:root:Lossy conversion from float64 to uint8. Range [-1.0, 0.9984213709831238]. Convert image to uint8 prior to saving to suppress this warning.\n"
          ],
          "name": "stderr"
        },
        {
          "output_type": "stream",
          "text": [
            "Saved question1_samples_cyclegan/sample-000400-X-Y.png\n",
            "Saved question1_samples_cyclegan/sample-000400-Y-X.png\n",
            "Iteration [  500/10000] | d_real_loss: 0.0000 | d_Y_loss: 0.0000 | d_X_loss: 0.0000 | d_fake_loss: 0.0000 | g_loss: 1.5808\n"
          ],
          "name": "stdout"
        },
        {
          "output_type": "stream",
          "text": [
            "WARNING:root:Lossy conversion from float64 to uint8. Range [-1.0, 1.0]. Convert image to uint8 prior to saving to suppress this warning.\n",
            "WARNING:root:Lossy conversion from float64 to uint8. Range [-1.0, 0.9979974627494812]. Convert image to uint8 prior to saving to suppress this warning.\n"
          ],
          "name": "stderr"
        },
        {
          "output_type": "stream",
          "text": [
            "Saved question1_samples_cyclegan/sample-000600-X-Y.png\n",
            "Saved question1_samples_cyclegan/sample-000600-Y-X.png\n"
          ],
          "name": "stdout"
        },
        {
          "output_type": "stream",
          "text": [
            "WARNING:root:Lossy conversion from float64 to uint8. Range [-1.0, 1.0]. Convert image to uint8 prior to saving to suppress this warning.\n",
            "WARNING:root:Lossy conversion from float64 to uint8. Range [-1.0, 0.9887698292732239]. Convert image to uint8 prior to saving to suppress this warning.\n"
          ],
          "name": "stderr"
        },
        {
          "output_type": "stream",
          "text": [
            "Saved question1_samples_cyclegan/sample-000800-X-Y.png\n",
            "Saved question1_samples_cyclegan/sample-000800-Y-X.png\n"
          ],
          "name": "stdout"
        },
        {
          "output_type": "stream",
          "text": [
            "WARNING:root:Lossy conversion from float64 to uint8. Range [-1.0, 1.0]. Convert image to uint8 prior to saving to suppress this warning.\n",
            "WARNING:root:Lossy conversion from float64 to uint8. Range [-1.0, 0.9997459053993225]. Convert image to uint8 prior to saving to suppress this warning.\n"
          ],
          "name": "stderr"
        },
        {
          "output_type": "stream",
          "text": [
            "Iteration [ 1000/10000] | d_real_loss: 0.0000 | d_Y_loss: 0.0000 | d_X_loss: 0.0001 | d_fake_loss: 0.0001 | g_loss: 1.4242\n",
            "Saved question1_samples_cyclegan/sample-001000-X-Y.png\n",
            "Saved question1_samples_cyclegan/sample-001000-Y-X.png\n"
          ],
          "name": "stdout"
        },
        {
          "output_type": "stream",
          "text": [
            "WARNING:root:Lossy conversion from float64 to uint8. Range [-1.0, 1.0]. Convert image to uint8 prior to saving to suppress this warning.\n",
            "WARNING:root:Lossy conversion from float64 to uint8. Range [-1.0, 0.9998681545257568]. Convert image to uint8 prior to saving to suppress this warning.\n"
          ],
          "name": "stderr"
        },
        {
          "output_type": "stream",
          "text": [
            "Saved question1_samples_cyclegan/sample-001200-X-Y.png\n",
            "Saved question1_samples_cyclegan/sample-001200-Y-X.png\n"
          ],
          "name": "stdout"
        },
        {
          "output_type": "stream",
          "text": [
            "WARNING:root:Lossy conversion from float64 to uint8. Range [-1.0, 1.0]. Convert image to uint8 prior to saving to suppress this warning.\n",
            "WARNING:root:Lossy conversion from float64 to uint8. Range [-1.0, 0.9999976754188538]. Convert image to uint8 prior to saving to suppress this warning.\n"
          ],
          "name": "stderr"
        },
        {
          "output_type": "stream",
          "text": [
            "Saved question1_samples_cyclegan/sample-001400-X-Y.png\n",
            "Saved question1_samples_cyclegan/sample-001400-Y-X.png\n",
            "Iteration [ 1500/10000] | d_real_loss: 0.0000 | d_Y_loss: 0.0000 | d_X_loss: 0.0000 | d_fake_loss: 0.0000 | g_loss: 1.4361\n"
          ],
          "name": "stdout"
        },
        {
          "output_type": "stream",
          "text": [
            "WARNING:root:Lossy conversion from float64 to uint8. Range [-1.0, 1.0]. Convert image to uint8 prior to saving to suppress this warning.\n",
            "WARNING:root:Lossy conversion from float64 to uint8. Range [-1.0, 0.999999463558197]. Convert image to uint8 prior to saving to suppress this warning.\n"
          ],
          "name": "stderr"
        },
        {
          "output_type": "stream",
          "text": [
            "Saved question1_samples_cyclegan/sample-001600-X-Y.png\n",
            "Saved question1_samples_cyclegan/sample-001600-Y-X.png\n"
          ],
          "name": "stdout"
        },
        {
          "output_type": "stream",
          "text": [
            "WARNING:root:Lossy conversion from float64 to uint8. Range [-1.0, 1.0]. Convert image to uint8 prior to saving to suppress this warning.\n",
            "WARNING:root:Lossy conversion from float64 to uint8. Range [-1.0, 1.0]. Convert image to uint8 prior to saving to suppress this warning.\n"
          ],
          "name": "stderr"
        },
        {
          "output_type": "stream",
          "text": [
            "Saved question1_samples_cyclegan/sample-001800-X-Y.png\n",
            "Saved question1_samples_cyclegan/sample-001800-Y-X.png\n"
          ],
          "name": "stdout"
        },
        {
          "output_type": "stream",
          "text": [
            "WARNING:root:Lossy conversion from float64 to uint8. Range [-1.0, 1.0]. Convert image to uint8 prior to saving to suppress this warning.\n",
            "WARNING:root:Lossy conversion from float64 to uint8. Range [-1.0, 1.0]. Convert image to uint8 prior to saving to suppress this warning.\n"
          ],
          "name": "stderr"
        },
        {
          "output_type": "stream",
          "text": [
            "Iteration [ 2000/10000] | d_real_loss: 0.0000 | d_Y_loss: 0.0000 | d_X_loss: 0.0000 | d_fake_loss: 0.0000 | g_loss: 1.3852\n",
            "Saved question1_samples_cyclegan/sample-002000-X-Y.png\n",
            "Saved question1_samples_cyclegan/sample-002000-Y-X.png\n"
          ],
          "name": "stdout"
        },
        {
          "output_type": "stream",
          "text": [
            "WARNING:root:Lossy conversion from float64 to uint8. Range [-1.0, 1.0]. Convert image to uint8 prior to saving to suppress this warning.\n",
            "WARNING:root:Lossy conversion from float64 to uint8. Range [-1.0, 0.9999999403953552]. Convert image to uint8 prior to saving to suppress this warning.\n"
          ],
          "name": "stderr"
        },
        {
          "output_type": "stream",
          "text": [
            "Saved question1_samples_cyclegan/sample-002200-X-Y.png\n",
            "Saved question1_samples_cyclegan/sample-002200-Y-X.png\n"
          ],
          "name": "stdout"
        },
        {
          "output_type": "stream",
          "text": [
            "WARNING:root:Lossy conversion from float64 to uint8. Range [-1.0, 1.0]. Convert image to uint8 prior to saving to suppress this warning.\n",
            "WARNING:root:Lossy conversion from float64 to uint8. Range [-1.0, 1.0]. Convert image to uint8 prior to saving to suppress this warning.\n"
          ],
          "name": "stderr"
        },
        {
          "output_type": "stream",
          "text": [
            "Saved question1_samples_cyclegan/sample-002400-X-Y.png\n",
            "Saved question1_samples_cyclegan/sample-002400-Y-X.png\n",
            "Iteration [ 2500/10000] | d_real_loss: 0.0000 | d_Y_loss: 0.0000 | d_X_loss: 0.0000 | d_fake_loss: 0.0000 | g_loss: 1.3186\n"
          ],
          "name": "stdout"
        },
        {
          "output_type": "stream",
          "text": [
            "WARNING:root:Lossy conversion from float64 to uint8. Range [-1.0, 1.0]. Convert image to uint8 prior to saving to suppress this warning.\n",
            "WARNING:root:Lossy conversion from float64 to uint8. Range [-1.0, 1.0]. Convert image to uint8 prior to saving to suppress this warning.\n"
          ],
          "name": "stderr"
        },
        {
          "output_type": "stream",
          "text": [
            "Saved question1_samples_cyclegan/sample-002600-X-Y.png\n",
            "Saved question1_samples_cyclegan/sample-002600-Y-X.png\n"
          ],
          "name": "stdout"
        },
        {
          "output_type": "stream",
          "text": [
            "WARNING:root:Lossy conversion from float64 to uint8. Range [-1.0, 1.0]. Convert image to uint8 prior to saving to suppress this warning.\n",
            "WARNING:root:Lossy conversion from float64 to uint8. Range [-1.0, 1.0]. Convert image to uint8 prior to saving to suppress this warning.\n"
          ],
          "name": "stderr"
        },
        {
          "output_type": "stream",
          "text": [
            "Saved question1_samples_cyclegan/sample-002800-X-Y.png\n",
            "Saved question1_samples_cyclegan/sample-002800-Y-X.png\n"
          ],
          "name": "stdout"
        },
        {
          "output_type": "stream",
          "text": [
            "WARNING:root:Lossy conversion from float64 to uint8. Range [-1.0, 1.0]. Convert image to uint8 prior to saving to suppress this warning.\n",
            "WARNING:root:Lossy conversion from float64 to uint8. Range [-1.0, 0.9999995827674866]. Convert image to uint8 prior to saving to suppress this warning.\n"
          ],
          "name": "stderr"
        },
        {
          "output_type": "stream",
          "text": [
            "Iteration [ 3000/10000] | d_real_loss: 0.0000 | d_Y_loss: 0.0000 | d_X_loss: 0.0000 | d_fake_loss: 0.0000 | g_loss: 1.3120\n",
            "Saved question1_samples_cyclegan/sample-003000-X-Y.png\n",
            "Saved question1_samples_cyclegan/sample-003000-Y-X.png\n"
          ],
          "name": "stdout"
        },
        {
          "output_type": "stream",
          "text": [
            "WARNING:root:Lossy conversion from float64 to uint8. Range [-1.0, 1.0]. Convert image to uint8 prior to saving to suppress this warning.\n",
            "WARNING:root:Lossy conversion from float64 to uint8. Range [-1.0, 1.0]. Convert image to uint8 prior to saving to suppress this warning.\n"
          ],
          "name": "stderr"
        },
        {
          "output_type": "stream",
          "text": [
            "Saved question1_samples_cyclegan/sample-003200-X-Y.png\n",
            "Saved question1_samples_cyclegan/sample-003200-Y-X.png\n"
          ],
          "name": "stdout"
        },
        {
          "output_type": "stream",
          "text": [
            "WARNING:root:Lossy conversion from float64 to uint8. Range [-1.0, 1.0]. Convert image to uint8 prior to saving to suppress this warning.\n",
            "WARNING:root:Lossy conversion from float64 to uint8. Range [-1.0, 1.0]. Convert image to uint8 prior to saving to suppress this warning.\n"
          ],
          "name": "stderr"
        },
        {
          "output_type": "stream",
          "text": [
            "Saved question1_samples_cyclegan/sample-003400-X-Y.png\n",
            "Saved question1_samples_cyclegan/sample-003400-Y-X.png\n",
            "Iteration [ 3500/10000] | d_real_loss: 0.0000 | d_Y_loss: 0.0000 | d_X_loss: 0.0000 | d_fake_loss: 0.0000 | g_loss: 1.2359\n"
          ],
          "name": "stdout"
        },
        {
          "output_type": "stream",
          "text": [
            "WARNING:root:Lossy conversion from float64 to uint8. Range [-1.0, 1.0]. Convert image to uint8 prior to saving to suppress this warning.\n",
            "WARNING:root:Lossy conversion from float64 to uint8. Range [-1.0, 0.9999998211860657]. Convert image to uint8 prior to saving to suppress this warning.\n"
          ],
          "name": "stderr"
        },
        {
          "output_type": "stream",
          "text": [
            "Saved question1_samples_cyclegan/sample-003600-X-Y.png\n",
            "Saved question1_samples_cyclegan/sample-003600-Y-X.png\n"
          ],
          "name": "stdout"
        },
        {
          "output_type": "stream",
          "text": [
            "WARNING:root:Lossy conversion from float64 to uint8. Range [-1.0, 1.0]. Convert image to uint8 prior to saving to suppress this warning.\n",
            "WARNING:root:Lossy conversion from float64 to uint8. Range [-1.0, 1.0]. Convert image to uint8 prior to saving to suppress this warning.\n"
          ],
          "name": "stderr"
        },
        {
          "output_type": "stream",
          "text": [
            "Saved question1_samples_cyclegan/sample-003800-X-Y.png\n",
            "Saved question1_samples_cyclegan/sample-003800-Y-X.png\n"
          ],
          "name": "stdout"
        },
        {
          "output_type": "stream",
          "text": [
            "WARNING:root:Lossy conversion from float64 to uint8. Range [-1.0, 1.0]. Convert image to uint8 prior to saving to suppress this warning.\n",
            "WARNING:root:Lossy conversion from float64 to uint8. Range [-1.0, 1.0]. Convert image to uint8 prior to saving to suppress this warning.\n"
          ],
          "name": "stderr"
        },
        {
          "output_type": "stream",
          "text": [
            "Iteration [ 4000/10000] | d_real_loss: 0.0000 | d_Y_loss: 0.0000 | d_X_loss: 0.0000 | d_fake_loss: 0.0000 | g_loss: 1.3192\n",
            "Saved question1_samples_cyclegan/sample-004000-X-Y.png\n",
            "Saved question1_samples_cyclegan/sample-004000-Y-X.png\n"
          ],
          "name": "stdout"
        },
        {
          "output_type": "stream",
          "text": [
            "WARNING:root:Lossy conversion from float64 to uint8. Range [-1.0, 1.0]. Convert image to uint8 prior to saving to suppress this warning.\n",
            "WARNING:root:Lossy conversion from float64 to uint8. Range [-1.0, 0.9999999403953552]. Convert image to uint8 prior to saving to suppress this warning.\n"
          ],
          "name": "stderr"
        },
        {
          "output_type": "stream",
          "text": [
            "Saved question1_samples_cyclegan/sample-004200-X-Y.png\n",
            "Saved question1_samples_cyclegan/sample-004200-Y-X.png\n"
          ],
          "name": "stdout"
        },
        {
          "output_type": "stream",
          "text": [
            "WARNING:root:Lossy conversion from float64 to uint8. Range [-1.0, 1.0]. Convert image to uint8 prior to saving to suppress this warning.\n",
            "WARNING:root:Lossy conversion from float64 to uint8. Range [-1.0, 1.0]. Convert image to uint8 prior to saving to suppress this warning.\n"
          ],
          "name": "stderr"
        },
        {
          "output_type": "stream",
          "text": [
            "Saved question1_samples_cyclegan/sample-004400-X-Y.png\n",
            "Saved question1_samples_cyclegan/sample-004400-Y-X.png\n",
            "Iteration [ 4500/10000] | d_real_loss: 0.0000 | d_Y_loss: 0.0000 | d_X_loss: 0.0000 | d_fake_loss: 0.0000 | g_loss: 1.2392\n"
          ],
          "name": "stdout"
        },
        {
          "output_type": "stream",
          "text": [
            "WARNING:root:Lossy conversion from float64 to uint8. Range [-1.0, 1.0]. Convert image to uint8 prior to saving to suppress this warning.\n",
            "WARNING:root:Lossy conversion from float64 to uint8. Range [-1.0, 1.0]. Convert image to uint8 prior to saving to suppress this warning.\n"
          ],
          "name": "stderr"
        },
        {
          "output_type": "stream",
          "text": [
            "Saved question1_samples_cyclegan/sample-004600-X-Y.png\n",
            "Saved question1_samples_cyclegan/sample-004600-Y-X.png\n"
          ],
          "name": "stdout"
        },
        {
          "output_type": "stream",
          "text": [
            "WARNING:root:Lossy conversion from float64 to uint8. Range [-1.0, 1.0]. Convert image to uint8 prior to saving to suppress this warning.\n",
            "WARNING:root:Lossy conversion from float64 to uint8. Range [-1.0, 1.0]. Convert image to uint8 prior to saving to suppress this warning.\n"
          ],
          "name": "stderr"
        },
        {
          "output_type": "stream",
          "text": [
            "Saved question1_samples_cyclegan/sample-004800-X-Y.png\n",
            "Saved question1_samples_cyclegan/sample-004800-Y-X.png\n"
          ],
          "name": "stdout"
        },
        {
          "output_type": "stream",
          "text": [
            "WARNING:root:Lossy conversion from float64 to uint8. Range [-1.0, 1.0]. Convert image to uint8 prior to saving to suppress this warning.\n",
            "WARNING:root:Lossy conversion from float64 to uint8. Range [-1.0, 1.0]. Convert image to uint8 prior to saving to suppress this warning.\n"
          ],
          "name": "stderr"
        },
        {
          "output_type": "stream",
          "text": [
            "Iteration [ 5000/10000] | d_real_loss: 0.0000 | d_Y_loss: 0.0000 | d_X_loss: 0.0000 | d_fake_loss: 0.0000 | g_loss: 1.2814\n",
            "Saved question1_samples_cyclegan/sample-005000-X-Y.png\n",
            "Saved question1_samples_cyclegan/sample-005000-Y-X.png\n"
          ],
          "name": "stdout"
        },
        {
          "output_type": "stream",
          "text": [
            "WARNING:root:Lossy conversion from float64 to uint8. Range [-1.0, 1.0]. Convert image to uint8 prior to saving to suppress this warning.\n",
            "WARNING:root:Lossy conversion from float64 to uint8. Range [-1.0, 0.9999999403953552]. Convert image to uint8 prior to saving to suppress this warning.\n"
          ],
          "name": "stderr"
        },
        {
          "output_type": "stream",
          "text": [
            "Saved question1_samples_cyclegan/sample-005200-X-Y.png\n",
            "Saved question1_samples_cyclegan/sample-005200-Y-X.png\n"
          ],
          "name": "stdout"
        },
        {
          "output_type": "stream",
          "text": [
            "WARNING:root:Lossy conversion from float64 to uint8. Range [-1.0, 1.0]. Convert image to uint8 prior to saving to suppress this warning.\n",
            "WARNING:root:Lossy conversion from float64 to uint8. Range [-1.0, 1.0]. Convert image to uint8 prior to saving to suppress this warning.\n"
          ],
          "name": "stderr"
        },
        {
          "output_type": "stream",
          "text": [
            "Saved question1_samples_cyclegan/sample-005400-X-Y.png\n",
            "Saved question1_samples_cyclegan/sample-005400-Y-X.png\n",
            "Iteration [ 5500/10000] | d_real_loss: 0.0000 | d_Y_loss: 0.0000 | d_X_loss: 0.0000 | d_fake_loss: 0.0000 | g_loss: 1.3002\n"
          ],
          "name": "stdout"
        },
        {
          "output_type": "stream",
          "text": [
            "WARNING:root:Lossy conversion from float64 to uint8. Range [-1.0, 1.0]. Convert image to uint8 prior to saving to suppress this warning.\n",
            "WARNING:root:Lossy conversion from float64 to uint8. Range [-1.0, 1.0]. Convert image to uint8 prior to saving to suppress this warning.\n"
          ],
          "name": "stderr"
        },
        {
          "output_type": "stream",
          "text": [
            "Saved question1_samples_cyclegan/sample-005600-X-Y.png\n",
            "Saved question1_samples_cyclegan/sample-005600-Y-X.png\n"
          ],
          "name": "stdout"
        },
        {
          "output_type": "stream",
          "text": [
            "WARNING:root:Lossy conversion from float64 to uint8. Range [-1.0, 1.0]. Convert image to uint8 prior to saving to suppress this warning.\n",
            "WARNING:root:Lossy conversion from float64 to uint8. Range [-1.0, 1.0]. Convert image to uint8 prior to saving to suppress this warning.\n"
          ],
          "name": "stderr"
        },
        {
          "output_type": "stream",
          "text": [
            "Saved question1_samples_cyclegan/sample-005800-X-Y.png\n",
            "Saved question1_samples_cyclegan/sample-005800-Y-X.png\n"
          ],
          "name": "stdout"
        },
        {
          "output_type": "stream",
          "text": [
            "WARNING:root:Lossy conversion from float64 to uint8. Range [-1.0, 1.0]. Convert image to uint8 prior to saving to suppress this warning.\n",
            "WARNING:root:Lossy conversion from float64 to uint8. Range [-1.0, 1.0]. Convert image to uint8 prior to saving to suppress this warning.\n"
          ],
          "name": "stderr"
        },
        {
          "output_type": "stream",
          "text": [
            "Iteration [ 6000/10000] | d_real_loss: 0.0000 | d_Y_loss: 0.0000 | d_X_loss: 0.0000 | d_fake_loss: 0.0000 | g_loss: 1.1976\n",
            "Saved question1_samples_cyclegan/sample-006000-X-Y.png\n",
            "Saved question1_samples_cyclegan/sample-006000-Y-X.png\n"
          ],
          "name": "stdout"
        },
        {
          "output_type": "stream",
          "text": [
            "WARNING:root:Lossy conversion from float64 to uint8. Range [-1.0, 1.0]. Convert image to uint8 prior to saving to suppress this warning.\n",
            "WARNING:root:Lossy conversion from float64 to uint8. Range [-1.0, 0.9999996423721313]. Convert image to uint8 prior to saving to suppress this warning.\n"
          ],
          "name": "stderr"
        },
        {
          "output_type": "stream",
          "text": [
            "Saved question1_samples_cyclegan/sample-006200-X-Y.png\n",
            "Saved question1_samples_cyclegan/sample-006200-Y-X.png\n"
          ],
          "name": "stdout"
        },
        {
          "output_type": "stream",
          "text": [
            "WARNING:root:Lossy conversion from float64 to uint8. Range [-1.0, 1.0]. Convert image to uint8 prior to saving to suppress this warning.\n",
            "WARNING:root:Lossy conversion from float64 to uint8. Range [-1.0, 1.0]. Convert image to uint8 prior to saving to suppress this warning.\n"
          ],
          "name": "stderr"
        },
        {
          "output_type": "stream",
          "text": [
            "Saved question1_samples_cyclegan/sample-006400-X-Y.png\n",
            "Saved question1_samples_cyclegan/sample-006400-Y-X.png\n",
            "Iteration [ 6500/10000] | d_real_loss: 0.0000 | d_Y_loss: 0.0000 | d_X_loss: 0.0000 | d_fake_loss: 0.0000 | g_loss: 1.2477\n"
          ],
          "name": "stdout"
        },
        {
          "output_type": "stream",
          "text": [
            "WARNING:root:Lossy conversion from float64 to uint8. Range [-1.0, 1.0]. Convert image to uint8 prior to saving to suppress this warning.\n",
            "WARNING:root:Lossy conversion from float64 to uint8. Range [-1.0, 1.0]. Convert image to uint8 prior to saving to suppress this warning.\n"
          ],
          "name": "stderr"
        },
        {
          "output_type": "stream",
          "text": [
            "Saved question1_samples_cyclegan/sample-006600-X-Y.png\n",
            "Saved question1_samples_cyclegan/sample-006600-Y-X.png\n"
          ],
          "name": "stdout"
        },
        {
          "output_type": "stream",
          "text": [
            "WARNING:root:Lossy conversion from float64 to uint8. Range [-1.0, 1.0]. Convert image to uint8 prior to saving to suppress this warning.\n",
            "WARNING:root:Lossy conversion from float64 to uint8. Range [-0.9999998807907104, 1.0]. Convert image to uint8 prior to saving to suppress this warning.\n"
          ],
          "name": "stderr"
        },
        {
          "output_type": "stream",
          "text": [
            "Saved question1_samples_cyclegan/sample-006800-X-Y.png\n",
            "Saved question1_samples_cyclegan/sample-006800-Y-X.png\n"
          ],
          "name": "stdout"
        },
        {
          "output_type": "stream",
          "text": [
            "WARNING:root:Lossy conversion from float64 to uint8. Range [-1.0, 1.0]. Convert image to uint8 prior to saving to suppress this warning.\n",
            "WARNING:root:Lossy conversion from float64 to uint8. Range [-1.0, 1.0]. Convert image to uint8 prior to saving to suppress this warning.\n"
          ],
          "name": "stderr"
        },
        {
          "output_type": "stream",
          "text": [
            "Iteration [ 7000/10000] | d_real_loss: 0.0000 | d_Y_loss: 0.0000 | d_X_loss: 0.0000 | d_fake_loss: 0.0000 | g_loss: 1.2513\n",
            "Saved question1_samples_cyclegan/sample-007000-X-Y.png\n",
            "Saved question1_samples_cyclegan/sample-007000-Y-X.png\n"
          ],
          "name": "stdout"
        },
        {
          "output_type": "stream",
          "text": [
            "WARNING:root:Lossy conversion from float64 to uint8. Range [-1.0, 1.0]. Convert image to uint8 prior to saving to suppress this warning.\n",
            "WARNING:root:Lossy conversion from float64 to uint8. Range [-1.0, 1.0]. Convert image to uint8 prior to saving to suppress this warning.\n"
          ],
          "name": "stderr"
        },
        {
          "output_type": "stream",
          "text": [
            "Saved question1_samples_cyclegan/sample-007200-X-Y.png\n",
            "Saved question1_samples_cyclegan/sample-007200-Y-X.png\n"
          ],
          "name": "stdout"
        },
        {
          "output_type": "stream",
          "text": [
            "WARNING:root:Lossy conversion from float64 to uint8. Range [-1.0, 1.0]. Convert image to uint8 prior to saving to suppress this warning.\n",
            "WARNING:root:Lossy conversion from float64 to uint8. Range [-1.0, 1.0]. Convert image to uint8 prior to saving to suppress this warning.\n"
          ],
          "name": "stderr"
        },
        {
          "output_type": "stream",
          "text": [
            "Saved question1_samples_cyclegan/sample-007400-X-Y.png\n",
            "Saved question1_samples_cyclegan/sample-007400-Y-X.png\n",
            "Iteration [ 7500/10000] | d_real_loss: 0.0000 | d_Y_loss: 0.0000 | d_X_loss: 0.0000 | d_fake_loss: 0.0000 | g_loss: 1.1786\n"
          ],
          "name": "stdout"
        },
        {
          "output_type": "stream",
          "text": [
            "WARNING:root:Lossy conversion from float64 to uint8. Range [-1.0, 1.0]. Convert image to uint8 prior to saving to suppress this warning.\n",
            "WARNING:root:Lossy conversion from float64 to uint8. Range [-1.0, 1.0]. Convert image to uint8 prior to saving to suppress this warning.\n"
          ],
          "name": "stderr"
        },
        {
          "output_type": "stream",
          "text": [
            "Saved question1_samples_cyclegan/sample-007600-X-Y.png\n",
            "Saved question1_samples_cyclegan/sample-007600-Y-X.png\n"
          ],
          "name": "stdout"
        },
        {
          "output_type": "stream",
          "text": [
            "WARNING:root:Lossy conversion from float64 to uint8. Range [-1.0, 1.0]. Convert image to uint8 prior to saving to suppress this warning.\n",
            "WARNING:root:Lossy conversion from float64 to uint8. Range [-1.0, 1.0]. Convert image to uint8 prior to saving to suppress this warning.\n"
          ],
          "name": "stderr"
        },
        {
          "output_type": "stream",
          "text": [
            "Saved question1_samples_cyclegan/sample-007800-X-Y.png\n",
            "Saved question1_samples_cyclegan/sample-007800-Y-X.png\n"
          ],
          "name": "stdout"
        },
        {
          "output_type": "stream",
          "text": [
            "WARNING:root:Lossy conversion from float64 to uint8. Range [-1.0, 1.0]. Convert image to uint8 prior to saving to suppress this warning.\n",
            "WARNING:root:Lossy conversion from float64 to uint8. Range [-1.0, 1.0]. Convert image to uint8 prior to saving to suppress this warning.\n"
          ],
          "name": "stderr"
        },
        {
          "output_type": "stream",
          "text": [
            "Iteration [ 8000/10000] | d_real_loss: 0.0000 | d_Y_loss: 0.0000 | d_X_loss: 0.0000 | d_fake_loss: 0.0000 | g_loss: 1.1721\n",
            "Saved question1_samples_cyclegan/sample-008000-X-Y.png\n",
            "Saved question1_samples_cyclegan/sample-008000-Y-X.png\n"
          ],
          "name": "stdout"
        },
        {
          "output_type": "stream",
          "text": [
            "WARNING:root:Lossy conversion from float64 to uint8. Range [-1.0, 1.0]. Convert image to uint8 prior to saving to suppress this warning.\n",
            "WARNING:root:Lossy conversion from float64 to uint8. Range [-1.0, 1.0]. Convert image to uint8 prior to saving to suppress this warning.\n"
          ],
          "name": "stderr"
        },
        {
          "output_type": "stream",
          "text": [
            "Saved question1_samples_cyclegan/sample-008200-X-Y.png\n",
            "Saved question1_samples_cyclegan/sample-008200-Y-X.png\n"
          ],
          "name": "stdout"
        },
        {
          "output_type": "stream",
          "text": [
            "WARNING:root:Lossy conversion from float64 to uint8. Range [-1.0, 1.0]. Convert image to uint8 prior to saving to suppress this warning.\n",
            "WARNING:root:Lossy conversion from float64 to uint8. Range [-1.0, 1.0]. Convert image to uint8 prior to saving to suppress this warning.\n"
          ],
          "name": "stderr"
        },
        {
          "output_type": "stream",
          "text": [
            "Saved question1_samples_cyclegan/sample-008400-X-Y.png\n",
            "Saved question1_samples_cyclegan/sample-008400-Y-X.png\n",
            "Iteration [ 8500/10000] | d_real_loss: 0.0000 | d_Y_loss: 0.0000 | d_X_loss: 0.0000 | d_fake_loss: 0.0000 | g_loss: 1.1597\n"
          ],
          "name": "stdout"
        },
        {
          "output_type": "stream",
          "text": [
            "WARNING:root:Lossy conversion from float64 to uint8. Range [-1.0, 1.0]. Convert image to uint8 prior to saving to suppress this warning.\n",
            "WARNING:root:Lossy conversion from float64 to uint8. Range [-1.0, 1.0]. Convert image to uint8 prior to saving to suppress this warning.\n"
          ],
          "name": "stderr"
        },
        {
          "output_type": "stream",
          "text": [
            "Saved question1_samples_cyclegan/sample-008600-X-Y.png\n",
            "Saved question1_samples_cyclegan/sample-008600-Y-X.png\n"
          ],
          "name": "stdout"
        },
        {
          "output_type": "stream",
          "text": [
            "WARNING:root:Lossy conversion from float64 to uint8. Range [-1.0, 1.0]. Convert image to uint8 prior to saving to suppress this warning.\n",
            "WARNING:root:Lossy conversion from float64 to uint8. Range [-1.0, 0.9999999403953552]. Convert image to uint8 prior to saving to suppress this warning.\n"
          ],
          "name": "stderr"
        },
        {
          "output_type": "stream",
          "text": [
            "Saved question1_samples_cyclegan/sample-008800-X-Y.png\n",
            "Saved question1_samples_cyclegan/sample-008800-Y-X.png\n"
          ],
          "name": "stdout"
        },
        {
          "output_type": "stream",
          "text": [
            "WARNING:root:Lossy conversion from float64 to uint8. Range [-1.0, 1.0]. Convert image to uint8 prior to saving to suppress this warning.\n",
            "WARNING:root:Lossy conversion from float64 to uint8. Range [-1.0, 1.0]. Convert image to uint8 prior to saving to suppress this warning.\n"
          ],
          "name": "stderr"
        },
        {
          "output_type": "stream",
          "text": [
            "Iteration [ 9000/10000] | d_real_loss: 0.0000 | d_Y_loss: 0.0000 | d_X_loss: 0.0000 | d_fake_loss: 0.0000 | g_loss: 1.2089\n",
            "Saved question1_samples_cyclegan/sample-009000-X-Y.png\n",
            "Saved question1_samples_cyclegan/sample-009000-Y-X.png\n"
          ],
          "name": "stdout"
        },
        {
          "output_type": "stream",
          "text": [
            "WARNING:root:Lossy conversion from float64 to uint8. Range [-1.0, 1.0]. Convert image to uint8 prior to saving to suppress this warning.\n",
            "WARNING:root:Lossy conversion from float64 to uint8. Range [-1.0, 1.0]. Convert image to uint8 prior to saving to suppress this warning.\n"
          ],
          "name": "stderr"
        },
        {
          "output_type": "stream",
          "text": [
            "Saved question1_samples_cyclegan/sample-009200-X-Y.png\n",
            "Saved question1_samples_cyclegan/sample-009200-Y-X.png\n"
          ],
          "name": "stdout"
        },
        {
          "output_type": "stream",
          "text": [
            "WARNING:root:Lossy conversion from float64 to uint8. Range [-1.0, 1.0]. Convert image to uint8 prior to saving to suppress this warning.\n",
            "WARNING:root:Lossy conversion from float64 to uint8. Range [-1.0, 1.0]. Convert image to uint8 prior to saving to suppress this warning.\n"
          ],
          "name": "stderr"
        },
        {
          "output_type": "stream",
          "text": [
            "Saved question1_samples_cyclegan/sample-009400-X-Y.png\n",
            "Saved question1_samples_cyclegan/sample-009400-Y-X.png\n",
            "Iteration [ 9500/10000] | d_real_loss: 0.0000 | d_Y_loss: 0.0000 | d_X_loss: 0.0000 | d_fake_loss: 0.0000 | g_loss: 1.1661\n"
          ],
          "name": "stdout"
        },
        {
          "output_type": "stream",
          "text": [
            "WARNING:root:Lossy conversion from float64 to uint8. Range [-1.0, 1.0]. Convert image to uint8 prior to saving to suppress this warning.\n",
            "WARNING:root:Lossy conversion from float64 to uint8. Range [-1.0, 1.0]. Convert image to uint8 prior to saving to suppress this warning.\n"
          ],
          "name": "stderr"
        },
        {
          "output_type": "stream",
          "text": [
            "Saved question1_samples_cyclegan/sample-009600-X-Y.png\n",
            "Saved question1_samples_cyclegan/sample-009600-Y-X.png\n"
          ],
          "name": "stdout"
        },
        {
          "output_type": "stream",
          "text": [
            "WARNING:root:Lossy conversion from float64 to uint8. Range [-1.0, 1.0]. Convert image to uint8 prior to saving to suppress this warning.\n",
            "WARNING:root:Lossy conversion from float64 to uint8. Range [-1.0, 1.0]. Convert image to uint8 prior to saving to suppress this warning.\n"
          ],
          "name": "stderr"
        },
        {
          "output_type": "stream",
          "text": [
            "Saved question1_samples_cyclegan/sample-009800-X-Y.png\n",
            "Saved question1_samples_cyclegan/sample-009800-Y-X.png\n"
          ],
          "name": "stdout"
        },
        {
          "output_type": "stream",
          "text": [
            "WARNING:root:Lossy conversion from float64 to uint8. Range [-1.0, 1.0]. Convert image to uint8 prior to saving to suppress this warning.\n",
            "WARNING:root:Lossy conversion from float64 to uint8. Range [-1.0, 1.0]. Convert image to uint8 prior to saving to suppress this warning.\n"
          ],
          "name": "stderr"
        },
        {
          "output_type": "stream",
          "text": [
            "Iteration [10000/10000] | d_real_loss: 0.0000 | d_Y_loss: 0.0000 | d_X_loss: 0.0000 | d_fake_loss: 0.0000 | g_loss: 1.1989\n",
            "Saved question1_samples_cyclegan/sample-010000-X-Y.png\n",
            "Saved question1_samples_cyclegan/sample-010000-Y-X.png\n"
          ],
          "name": "stdout"
        }
      ]
    },
    {
      "cell_type": "markdown",
      "metadata": {
        "id": "LOtzmWL5eqee"
      },
      "source": [
        "## 2) Changing the random-seed"
      ]
    },
    {
      "cell_type": "markdown",
      "metadata": {
        "id": "EBY2kiJqLKy6"
      },
      "source": [
        "We change the random seed (to 10) and train the CycleGAN again"
      ]
    },
    {
      "cell_type": "code",
      "metadata": {
        "id": "aBOaspKEf_6y"
      },
      "source": [
        "SEED = 10\n",
        "# Set the random seed manually \n",
        "np.random.seed(SEED)\n",
        "torch.manual_seed(SEED)\n",
        "if torch.cuda.is_available():\n",
        "    torch.cuda.manual_seed(SEED)"
      ],
      "execution_count": null,
      "outputs": []
    },
    {
      "cell_type": "code",
      "metadata": {
        "colab": {
          "base_uri": "https://localhost:8080/"
        },
        "id": "6-PEQszbgMsx",
        "outputId": "85fe0af0-ee71-41a6-8fa6-327a27d4aad5"
      },
      "source": [
        "opts.use_cycle_consistency_loss = True\n",
        "opts.sample_dir = 'question2_samples_cyclegan'\n",
        "opts.train_iters = 10000\n",
        "opts.checkpoint_dir = 'question2_checkpoint_cyclegan'\n",
        "opts.log_step = 500\n",
        "opts.sample_every = 200\n",
        "opts.checkpoint_every = 2000\n",
        "print_opts(opts)"
      ],
      "execution_count": null,
      "outputs": [
        {
          "output_type": "stream",
          "text": [
            "================================================================================\n",
            "                                      Opts                                      \n",
            "--------------------------------------------------------------------------------\n",
            "                             image_size: 28                                     \n",
            "                             g_conv_dim: 64                                     \n",
            "                             d_conv_dim: 64                                     \n",
            "             use_cycle_consistency_loss: 1                                      \n",
            "                            train_iters: 10000                                  \n",
            "                             batch_size: 16                                     \n",
            "                                     lr: 0.0003                                 \n",
            "                                  beta1: 0.5                                    \n",
            "                                  beta2: 0.999                                  \n",
            "                         checkpoint_dir: question2_checkpoint_cyclegan          \n",
            "                             sample_dir: question2_samples_cyclegan             \n",
            "                               log_step: 500                                    \n",
            "                           sample_every: 200                                    \n",
            "                       checkpoint_every: 2000                                   \n",
            "                               CClambda: 10                                     \n",
            "================================================================================\n"
          ],
          "name": "stdout"
        }
      ]
    },
    {
      "cell_type": "code",
      "metadata": {
        "colab": {
          "base_uri": "https://localhost:8080/"
        },
        "id": "FpM_Gouph1QF",
        "outputId": "22bca4cb-3209-4934-dea7-219dd995ee8a"
      },
      "source": [
        "main(opts)"
      ],
      "execution_count": null,
      "outputs": [
        {
          "output_type": "stream",
          "text": [
            "                 G_XtoY                \n",
            "---------------------------------------\n",
            "CycleGenerator(\n",
            "  (conv1): Sequential(\n",
            "    (0): Conv2d(1, 32, kernel_size=(4, 4), stride=(2, 2), padding=(1, 1), bias=False)\n",
            "    (1): BatchNorm2d(32, eps=1e-05, momentum=0.1, affine=True, track_running_stats=True)\n",
            "  )\n",
            "  (conv2): Sequential(\n",
            "    (0): Conv2d(32, 64, kernel_size=(4, 4), stride=(2, 2), padding=(1, 1), bias=False)\n",
            "    (1): BatchNorm2d(64, eps=1e-05, momentum=0.1, affine=True, track_running_stats=True)\n",
            "  )\n",
            "  (resnet_block): ResnetBlock(\n",
            "    (conv_layer): Sequential(\n",
            "      (0): Conv2d(64, 64, kernel_size=(3, 3), stride=(1, 1), padding=(1, 1), bias=False)\n",
            "      (1): BatchNorm2d(64, eps=1e-05, momentum=0.1, affine=True, track_running_stats=True)\n",
            "    )\n",
            "  )\n",
            "  (deconv1): Sequential(\n",
            "    (0): ConvTranspose2d(64, 32, kernel_size=(4, 4), stride=(2, 2), padding=(1, 1), bias=False)\n",
            "    (1): BatchNorm2d(32, eps=1e-05, momentum=0.1, affine=True, track_running_stats=True)\n",
            "  )\n",
            "  (deconv2): Sequential(\n",
            "    (0): ConvTranspose2d(32, 1, kernel_size=(4, 4), stride=(2, 2), padding=(1, 1), bias=False)\n",
            "    (1): BatchNorm2d(1, eps=1e-05, momentum=0.1, affine=True, track_running_stats=True)\n",
            "  )\n",
            ")\n",
            "---------------------------------------\n",
            "                 G_YtoX                \n",
            "---------------------------------------\n",
            "CycleGenerator(\n",
            "  (conv1): Sequential(\n",
            "    (0): Conv2d(1, 32, kernel_size=(4, 4), stride=(2, 2), padding=(1, 1), bias=False)\n",
            "    (1): BatchNorm2d(32, eps=1e-05, momentum=0.1, affine=True, track_running_stats=True)\n",
            "  )\n",
            "  (conv2): Sequential(\n",
            "    (0): Conv2d(32, 64, kernel_size=(4, 4), stride=(2, 2), padding=(1, 1), bias=False)\n",
            "    (1): BatchNorm2d(64, eps=1e-05, momentum=0.1, affine=True, track_running_stats=True)\n",
            "  )\n",
            "  (resnet_block): ResnetBlock(\n",
            "    (conv_layer): Sequential(\n",
            "      (0): Conv2d(64, 64, kernel_size=(3, 3), stride=(1, 1), padding=(1, 1), bias=False)\n",
            "      (1): BatchNorm2d(64, eps=1e-05, momentum=0.1, affine=True, track_running_stats=True)\n",
            "    )\n",
            "  )\n",
            "  (deconv1): Sequential(\n",
            "    (0): ConvTranspose2d(64, 32, kernel_size=(4, 4), stride=(2, 2), padding=(1, 1), bias=False)\n",
            "    (1): BatchNorm2d(32, eps=1e-05, momentum=0.1, affine=True, track_running_stats=True)\n",
            "  )\n",
            "  (deconv2): Sequential(\n",
            "    (0): ConvTranspose2d(32, 1, kernel_size=(4, 4), stride=(2, 2), padding=(1, 1), bias=False)\n",
            "    (1): BatchNorm2d(1, eps=1e-05, momentum=0.1, affine=True, track_running_stats=True)\n",
            "  )\n",
            ")\n",
            "---------------------------------------\n",
            "                  D_X                  \n",
            "---------------------------------------\n",
            "DCDiscriminator(\n",
            "  (conv1): Sequential(\n",
            "    (0): Conv2d(1, 32, kernel_size=(4, 4), stride=(2, 2), padding=(1, 1), bias=False)\n",
            "    (1): BatchNorm2d(32, eps=1e-05, momentum=0.1, affine=True, track_running_stats=True)\n",
            "  )\n",
            "  (conv2): Sequential(\n",
            "    (0): Conv2d(32, 64, kernel_size=(4, 4), stride=(2, 2), padding=(1, 1), bias=False)\n",
            "    (1): BatchNorm2d(64, eps=1e-05, momentum=0.1, affine=True, track_running_stats=True)\n",
            "  )\n",
            "  (conv3): Sequential(\n",
            "    (0): Conv2d(64, 128, kernel_size=(4, 4), stride=(2, 2), padding=(1, 1), bias=False)\n",
            "    (1): BatchNorm2d(128, eps=1e-05, momentum=0.1, affine=True, track_running_stats=True)\n",
            "  )\n",
            "  (conv4): Sequential(\n",
            "    (0): Conv2d(128, 1, kernel_size=(3, 3), stride=(4, 4), bias=False)\n",
            "  )\n",
            ")\n",
            "---------------------------------------\n",
            "                  D_Y                  \n",
            "---------------------------------------\n",
            "DCDiscriminator(\n",
            "  (conv1): Sequential(\n",
            "    (0): Conv2d(1, 32, kernel_size=(4, 4), stride=(2, 2), padding=(1, 1), bias=False)\n",
            "    (1): BatchNorm2d(32, eps=1e-05, momentum=0.1, affine=True, track_running_stats=True)\n",
            "  )\n",
            "  (conv2): Sequential(\n",
            "    (0): Conv2d(32, 64, kernel_size=(4, 4), stride=(2, 2), padding=(1, 1), bias=False)\n",
            "    (1): BatchNorm2d(64, eps=1e-05, momentum=0.1, affine=True, track_running_stats=True)\n",
            "  )\n",
            "  (conv3): Sequential(\n",
            "    (0): Conv2d(64, 128, kernel_size=(4, 4), stride=(2, 2), padding=(1, 1), bias=False)\n",
            "    (1): BatchNorm2d(128, eps=1e-05, momentum=0.1, affine=True, track_running_stats=True)\n",
            "  )\n",
            "  (conv4): Sequential(\n",
            "    (0): Conv2d(128, 1, kernel_size=(3, 3), stride=(4, 4), bias=False)\n",
            "  )\n",
            ")\n",
            "---------------------------------------\n",
            "Models moved to GPU.\n"
          ],
          "name": "stdout"
        },
        {
          "output_type": "stream",
          "text": [
            "/usr/local/lib/python3.7/dist-packages/torch/nn/functional.py:1709: UserWarning: nn.functional.sigmoid is deprecated. Use torch.sigmoid instead.\n",
            "  warnings.warn(\"nn.functional.sigmoid is deprecated. Use torch.sigmoid instead.\")\n",
            "/usr/local/lib/python3.7/dist-packages/torch/nn/functional.py:1698: UserWarning: nn.functional.tanh is deprecated. Use torch.tanh instead.\n",
            "  warnings.warn(\"nn.functional.tanh is deprecated. Use torch.tanh instead.\")\n",
            "WARNING:root:Lossy conversion from float64 to uint8. Range [-1.0, 1.0]. Convert image to uint8 prior to saving to suppress this warning.\n",
            "WARNING:root:Lossy conversion from float64 to uint8. Range [-1.0, 0.9998561143875122]. Convert image to uint8 prior to saving to suppress this warning.\n"
          ],
          "name": "stderr"
        },
        {
          "output_type": "stream",
          "text": [
            "Saved question2_samples_cyclegan/sample-000200-X-Y.png\n",
            "Saved question2_samples_cyclegan/sample-000200-Y-X.png\n"
          ],
          "name": "stdout"
        },
        {
          "output_type": "stream",
          "text": [
            "WARNING:root:Lossy conversion from float64 to uint8. Range [-1.0, 1.0]. Convert image to uint8 prior to saving to suppress this warning.\n",
            "WARNING:root:Lossy conversion from float64 to uint8. Range [-1.0, 0.9993302226066589]. Convert image to uint8 prior to saving to suppress this warning.\n"
          ],
          "name": "stderr"
        },
        {
          "output_type": "stream",
          "text": [
            "Saved question2_samples_cyclegan/sample-000400-X-Y.png\n",
            "Saved question2_samples_cyclegan/sample-000400-Y-X.png\n",
            "Iteration [  500/10000] | d_real_loss: 0.0002 | d_Y_loss: 0.0000 | d_X_loss: 0.0000 | d_fake_loss: 0.0000 | g_loss: 1.5841\n"
          ],
          "name": "stdout"
        },
        {
          "output_type": "stream",
          "text": [
            "WARNING:root:Lossy conversion from float64 to uint8. Range [-1.0, 1.0]. Convert image to uint8 prior to saving to suppress this warning.\n",
            "WARNING:root:Lossy conversion from float64 to uint8. Range [-1.0, 0.9991869926452637]. Convert image to uint8 prior to saving to suppress this warning.\n"
          ],
          "name": "stderr"
        },
        {
          "output_type": "stream",
          "text": [
            "Saved question2_samples_cyclegan/sample-000600-X-Y.png\n",
            "Saved question2_samples_cyclegan/sample-000600-Y-X.png\n"
          ],
          "name": "stdout"
        },
        {
          "output_type": "stream",
          "text": [
            "WARNING:root:Lossy conversion from float64 to uint8. Range [-1.0, 1.0]. Convert image to uint8 prior to saving to suppress this warning.\n",
            "WARNING:root:Lossy conversion from float64 to uint8. Range [-1.0, 0.9997151494026184]. Convert image to uint8 prior to saving to suppress this warning.\n"
          ],
          "name": "stderr"
        },
        {
          "output_type": "stream",
          "text": [
            "Saved question2_samples_cyclegan/sample-000800-X-Y.png\n",
            "Saved question2_samples_cyclegan/sample-000800-Y-X.png\n"
          ],
          "name": "stdout"
        },
        {
          "output_type": "stream",
          "text": [
            "WARNING:root:Lossy conversion from float64 to uint8. Range [-1.0, 1.0]. Convert image to uint8 prior to saving to suppress this warning.\n",
            "WARNING:root:Lossy conversion from float64 to uint8. Range [-1.0, 0.9999896883964539]. Convert image to uint8 prior to saving to suppress this warning.\n"
          ],
          "name": "stderr"
        },
        {
          "output_type": "stream",
          "text": [
            "Iteration [ 1000/10000] | d_real_loss: 0.0001 | d_Y_loss: 0.0000 | d_X_loss: 0.0001 | d_fake_loss: 0.0001 | g_loss: 1.4305\n",
            "Saved question2_samples_cyclegan/sample-001000-X-Y.png\n",
            "Saved question2_samples_cyclegan/sample-001000-Y-X.png\n"
          ],
          "name": "stdout"
        },
        {
          "output_type": "stream",
          "text": [
            "WARNING:root:Lossy conversion from float64 to uint8. Range [-1.0, 1.0]. Convert image to uint8 prior to saving to suppress this warning.\n",
            "WARNING:root:Lossy conversion from float64 to uint8. Range [-1.0, 0.9999961256980896]. Convert image to uint8 prior to saving to suppress this warning.\n"
          ],
          "name": "stderr"
        },
        {
          "output_type": "stream",
          "text": [
            "Saved question2_samples_cyclegan/sample-001200-X-Y.png\n",
            "Saved question2_samples_cyclegan/sample-001200-Y-X.png\n"
          ],
          "name": "stdout"
        },
        {
          "output_type": "stream",
          "text": [
            "WARNING:root:Lossy conversion from float64 to uint8. Range [-1.0, 1.0]. Convert image to uint8 prior to saving to suppress this warning.\n",
            "WARNING:root:Lossy conversion from float64 to uint8. Range [-1.0, 0.9999985098838806]. Convert image to uint8 prior to saving to suppress this warning.\n"
          ],
          "name": "stderr"
        },
        {
          "output_type": "stream",
          "text": [
            "Saved question2_samples_cyclegan/sample-001400-X-Y.png\n",
            "Saved question2_samples_cyclegan/sample-001400-Y-X.png\n",
            "Iteration [ 1500/10000] | d_real_loss: 0.0000 | d_Y_loss: 0.0000 | d_X_loss: 0.0000 | d_fake_loss: 0.0000 | g_loss: 1.3170\n"
          ],
          "name": "stdout"
        },
        {
          "output_type": "stream",
          "text": [
            "WARNING:root:Lossy conversion from float64 to uint8. Range [-1.0, 1.0]. Convert image to uint8 prior to saving to suppress this warning.\n",
            "WARNING:root:Lossy conversion from float64 to uint8. Range [-1.0, 0.9999999403953552]. Convert image to uint8 prior to saving to suppress this warning.\n"
          ],
          "name": "stderr"
        },
        {
          "output_type": "stream",
          "text": [
            "Saved question2_samples_cyclegan/sample-001600-X-Y.png\n",
            "Saved question2_samples_cyclegan/sample-001600-Y-X.png\n"
          ],
          "name": "stdout"
        },
        {
          "output_type": "stream",
          "text": [
            "WARNING:root:Lossy conversion from float64 to uint8. Range [-1.0, 1.0]. Convert image to uint8 prior to saving to suppress this warning.\n",
            "WARNING:root:Lossy conversion from float64 to uint8. Range [-1.0, 0.9999979138374329]. Convert image to uint8 prior to saving to suppress this warning.\n"
          ],
          "name": "stderr"
        },
        {
          "output_type": "stream",
          "text": [
            "Saved question2_samples_cyclegan/sample-001800-X-Y.png\n",
            "Saved question2_samples_cyclegan/sample-001800-Y-X.png\n"
          ],
          "name": "stdout"
        },
        {
          "output_type": "stream",
          "text": [
            "WARNING:root:Lossy conversion from float64 to uint8. Range [-1.0, 1.0]. Convert image to uint8 prior to saving to suppress this warning.\n",
            "WARNING:root:Lossy conversion from float64 to uint8. Range [-1.0, 0.9999984502792358]. Convert image to uint8 prior to saving to suppress this warning.\n"
          ],
          "name": "stderr"
        },
        {
          "output_type": "stream",
          "text": [
            "Iteration [ 2000/10000] | d_real_loss: 0.0000 | d_Y_loss: 0.0000 | d_X_loss: 0.0000 | d_fake_loss: 0.0000 | g_loss: 1.3231\n",
            "Saved question2_samples_cyclegan/sample-002000-X-Y.png\n",
            "Saved question2_samples_cyclegan/sample-002000-Y-X.png\n"
          ],
          "name": "stdout"
        },
        {
          "output_type": "stream",
          "text": [
            "WARNING:root:Lossy conversion from float64 to uint8. Range [-1.0, 1.0]. Convert image to uint8 prior to saving to suppress this warning.\n",
            "WARNING:root:Lossy conversion from float64 to uint8. Range [-1.0, 0.9999933242797852]. Convert image to uint8 prior to saving to suppress this warning.\n"
          ],
          "name": "stderr"
        },
        {
          "output_type": "stream",
          "text": [
            "Saved question2_samples_cyclegan/sample-002200-X-Y.png\n",
            "Saved question2_samples_cyclegan/sample-002200-Y-X.png\n"
          ],
          "name": "stdout"
        },
        {
          "output_type": "stream",
          "text": [
            "WARNING:root:Lossy conversion from float64 to uint8. Range [-1.0, 1.0]. Convert image to uint8 prior to saving to suppress this warning.\n",
            "WARNING:root:Lossy conversion from float64 to uint8. Range [-1.0, 0.9999995231628418]. Convert image to uint8 prior to saving to suppress this warning.\n"
          ],
          "name": "stderr"
        },
        {
          "output_type": "stream",
          "text": [
            "Saved question2_samples_cyclegan/sample-002400-X-Y.png\n",
            "Saved question2_samples_cyclegan/sample-002400-Y-X.png\n",
            "Iteration [ 2500/10000] | d_real_loss: 0.0000 | d_Y_loss: 0.0000 | d_X_loss: 0.0000 | d_fake_loss: 0.0000 | g_loss: 1.2860\n"
          ],
          "name": "stdout"
        },
        {
          "output_type": "stream",
          "text": [
            "WARNING:root:Lossy conversion from float64 to uint8. Range [-1.0, 1.0]. Convert image to uint8 prior to saving to suppress this warning.\n",
            "WARNING:root:Lossy conversion from float64 to uint8. Range [-1.0, 0.9999995827674866]. Convert image to uint8 prior to saving to suppress this warning.\n"
          ],
          "name": "stderr"
        },
        {
          "output_type": "stream",
          "text": [
            "Saved question2_samples_cyclegan/sample-002600-X-Y.png\n",
            "Saved question2_samples_cyclegan/sample-002600-Y-X.png\n"
          ],
          "name": "stdout"
        },
        {
          "output_type": "stream",
          "text": [
            "WARNING:root:Lossy conversion from float64 to uint8. Range [-1.0, 1.0]. Convert image to uint8 prior to saving to suppress this warning.\n",
            "WARNING:root:Lossy conversion from float64 to uint8. Range [-1.0, 0.9999998211860657]. Convert image to uint8 prior to saving to suppress this warning.\n"
          ],
          "name": "stderr"
        },
        {
          "output_type": "stream",
          "text": [
            "Saved question2_samples_cyclegan/sample-002800-X-Y.png\n",
            "Saved question2_samples_cyclegan/sample-002800-Y-X.png\n"
          ],
          "name": "stdout"
        },
        {
          "output_type": "stream",
          "text": [
            "WARNING:root:Lossy conversion from float64 to uint8. Range [-1.0, 1.0]. Convert image to uint8 prior to saving to suppress this warning.\n",
            "WARNING:root:Lossy conversion from float64 to uint8. Range [-1.0, 0.9999985694885254]. Convert image to uint8 prior to saving to suppress this warning.\n"
          ],
          "name": "stderr"
        },
        {
          "output_type": "stream",
          "text": [
            "Iteration [ 3000/10000] | d_real_loss: 0.0000 | d_Y_loss: 0.0000 | d_X_loss: 0.0000 | d_fake_loss: 0.0000 | g_loss: 1.3218\n",
            "Saved question2_samples_cyclegan/sample-003000-X-Y.png\n",
            "Saved question2_samples_cyclegan/sample-003000-Y-X.png\n"
          ],
          "name": "stdout"
        },
        {
          "output_type": "stream",
          "text": [
            "WARNING:root:Lossy conversion from float64 to uint8. Range [-1.0, 1.0]. Convert image to uint8 prior to saving to suppress this warning.\n",
            "WARNING:root:Lossy conversion from float64 to uint8. Range [-1.0, 0.9999996423721313]. Convert image to uint8 prior to saving to suppress this warning.\n"
          ],
          "name": "stderr"
        },
        {
          "output_type": "stream",
          "text": [
            "Saved question2_samples_cyclegan/sample-003200-X-Y.png\n",
            "Saved question2_samples_cyclegan/sample-003200-Y-X.png\n"
          ],
          "name": "stdout"
        },
        {
          "output_type": "stream",
          "text": [
            "WARNING:root:Lossy conversion from float64 to uint8. Range [-1.0, 1.0]. Convert image to uint8 prior to saving to suppress this warning.\n",
            "WARNING:root:Lossy conversion from float64 to uint8. Range [-1.0, 0.9999990463256836]. Convert image to uint8 prior to saving to suppress this warning.\n"
          ],
          "name": "stderr"
        },
        {
          "output_type": "stream",
          "text": [
            "Saved question2_samples_cyclegan/sample-003400-X-Y.png\n",
            "Saved question2_samples_cyclegan/sample-003400-Y-X.png\n",
            "Iteration [ 3500/10000] | d_real_loss: 0.0000 | d_Y_loss: 0.0000 | d_X_loss: 0.0000 | d_fake_loss: 0.0000 | g_loss: 1.2312\n"
          ],
          "name": "stdout"
        },
        {
          "output_type": "stream",
          "text": [
            "WARNING:root:Lossy conversion from float64 to uint8. Range [-1.0, 1.0]. Convert image to uint8 prior to saving to suppress this warning.\n",
            "WARNING:root:Lossy conversion from float64 to uint8. Range [-1.0, 0.9999999403953552]. Convert image to uint8 prior to saving to suppress this warning.\n"
          ],
          "name": "stderr"
        },
        {
          "output_type": "stream",
          "text": [
            "Saved question2_samples_cyclegan/sample-003600-X-Y.png\n",
            "Saved question2_samples_cyclegan/sample-003600-Y-X.png\n"
          ],
          "name": "stdout"
        },
        {
          "output_type": "stream",
          "text": [
            "WARNING:root:Lossy conversion from float64 to uint8. Range [-1.0, 1.0]. Convert image to uint8 prior to saving to suppress this warning.\n",
            "WARNING:root:Lossy conversion from float64 to uint8. Range [-1.0, 0.9999999403953552]. Convert image to uint8 prior to saving to suppress this warning.\n"
          ],
          "name": "stderr"
        },
        {
          "output_type": "stream",
          "text": [
            "Saved question2_samples_cyclegan/sample-003800-X-Y.png\n",
            "Saved question2_samples_cyclegan/sample-003800-Y-X.png\n"
          ],
          "name": "stdout"
        },
        {
          "output_type": "stream",
          "text": [
            "WARNING:root:Lossy conversion from float64 to uint8. Range [-1.0, 1.0]. Convert image to uint8 prior to saving to suppress this warning.\n",
            "WARNING:root:Lossy conversion from float64 to uint8. Range [-1.0, 0.9999987483024597]. Convert image to uint8 prior to saving to suppress this warning.\n"
          ],
          "name": "stderr"
        },
        {
          "output_type": "stream",
          "text": [
            "Iteration [ 4000/10000] | d_real_loss: 0.0000 | d_Y_loss: 0.0000 | d_X_loss: 0.0000 | d_fake_loss: 0.0000 | g_loss: 1.2454\n",
            "Saved question2_samples_cyclegan/sample-004000-X-Y.png\n",
            "Saved question2_samples_cyclegan/sample-004000-Y-X.png\n"
          ],
          "name": "stdout"
        },
        {
          "output_type": "stream",
          "text": [
            "WARNING:root:Lossy conversion from float64 to uint8. Range [-1.0, 1.0]. Convert image to uint8 prior to saving to suppress this warning.\n",
            "WARNING:root:Lossy conversion from float64 to uint8. Range [-1.0, 0.9999999403953552]. Convert image to uint8 prior to saving to suppress this warning.\n"
          ],
          "name": "stderr"
        },
        {
          "output_type": "stream",
          "text": [
            "Saved question2_samples_cyclegan/sample-004200-X-Y.png\n",
            "Saved question2_samples_cyclegan/sample-004200-Y-X.png\n"
          ],
          "name": "stdout"
        },
        {
          "output_type": "stream",
          "text": [
            "WARNING:root:Lossy conversion from float64 to uint8. Range [-1.0, 1.0]. Convert image to uint8 prior to saving to suppress this warning.\n",
            "WARNING:root:Lossy conversion from float64 to uint8. Range [-1.0, 1.0]. Convert image to uint8 prior to saving to suppress this warning.\n"
          ],
          "name": "stderr"
        },
        {
          "output_type": "stream",
          "text": [
            "Saved question2_samples_cyclegan/sample-004400-X-Y.png\n",
            "Saved question2_samples_cyclegan/sample-004400-Y-X.png\n",
            "Iteration [ 4500/10000] | d_real_loss: 0.0000 | d_Y_loss: 0.0000 | d_X_loss: 0.0000 | d_fake_loss: 0.0000 | g_loss: 1.2958\n"
          ],
          "name": "stdout"
        },
        {
          "output_type": "stream",
          "text": [
            "WARNING:root:Lossy conversion from float64 to uint8. Range [-1.0, 1.0]. Convert image to uint8 prior to saving to suppress this warning.\n",
            "WARNING:root:Lossy conversion from float64 to uint8. Range [-1.0, 1.0]. Convert image to uint8 prior to saving to suppress this warning.\n"
          ],
          "name": "stderr"
        },
        {
          "output_type": "stream",
          "text": [
            "Saved question2_samples_cyclegan/sample-004600-X-Y.png\n",
            "Saved question2_samples_cyclegan/sample-004600-Y-X.png\n"
          ],
          "name": "stdout"
        },
        {
          "output_type": "stream",
          "text": [
            "WARNING:root:Lossy conversion from float64 to uint8. Range [-1.0, 1.0]. Convert image to uint8 prior to saving to suppress this warning.\n",
            "WARNING:root:Lossy conversion from float64 to uint8. Range [-1.0, 0.9999999403953552]. Convert image to uint8 prior to saving to suppress this warning.\n"
          ],
          "name": "stderr"
        },
        {
          "output_type": "stream",
          "text": [
            "Saved question2_samples_cyclegan/sample-004800-X-Y.png\n",
            "Saved question2_samples_cyclegan/sample-004800-Y-X.png\n"
          ],
          "name": "stdout"
        },
        {
          "output_type": "stream",
          "text": [
            "WARNING:root:Lossy conversion from float64 to uint8. Range [-1.0, 1.0]. Convert image to uint8 prior to saving to suppress this warning.\n",
            "WARNING:root:Lossy conversion from float64 to uint8. Range [-1.0, 1.0]. Convert image to uint8 prior to saving to suppress this warning.\n"
          ],
          "name": "stderr"
        },
        {
          "output_type": "stream",
          "text": [
            "Iteration [ 5000/10000] | d_real_loss: 0.0000 | d_Y_loss: 0.0000 | d_X_loss: 0.0000 | d_fake_loss: 0.0000 | g_loss: 1.2836\n",
            "Saved question2_samples_cyclegan/sample-005000-X-Y.png\n",
            "Saved question2_samples_cyclegan/sample-005000-Y-X.png\n"
          ],
          "name": "stdout"
        },
        {
          "output_type": "stream",
          "text": [
            "WARNING:root:Lossy conversion from float64 to uint8. Range [-1.0, 1.0]. Convert image to uint8 prior to saving to suppress this warning.\n",
            "WARNING:root:Lossy conversion from float64 to uint8. Range [-1.0, 0.9999990463256836]. Convert image to uint8 prior to saving to suppress this warning.\n"
          ],
          "name": "stderr"
        },
        {
          "output_type": "stream",
          "text": [
            "Saved question2_samples_cyclegan/sample-005200-X-Y.png\n",
            "Saved question2_samples_cyclegan/sample-005200-Y-X.png\n"
          ],
          "name": "stdout"
        },
        {
          "output_type": "stream",
          "text": [
            "WARNING:root:Lossy conversion from float64 to uint8. Range [-1.0, 1.0]. Convert image to uint8 prior to saving to suppress this warning.\n",
            "WARNING:root:Lossy conversion from float64 to uint8. Range [-1.0, 0.9999998807907104]. Convert image to uint8 prior to saving to suppress this warning.\n"
          ],
          "name": "stderr"
        },
        {
          "output_type": "stream",
          "text": [
            "Saved question2_samples_cyclegan/sample-005400-X-Y.png\n",
            "Saved question2_samples_cyclegan/sample-005400-Y-X.png\n",
            "Iteration [ 5500/10000] | d_real_loss: 0.0000 | d_Y_loss: 0.0000 | d_X_loss: 0.0000 | d_fake_loss: 0.0000 | g_loss: 1.2668\n"
          ],
          "name": "stdout"
        },
        {
          "output_type": "stream",
          "text": [
            "WARNING:root:Lossy conversion from float64 to uint8. Range [-1.0, 1.0]. Convert image to uint8 prior to saving to suppress this warning.\n",
            "WARNING:root:Lossy conversion from float64 to uint8. Range [-1.0, 0.9999992251396179]. Convert image to uint8 prior to saving to suppress this warning.\n"
          ],
          "name": "stderr"
        },
        {
          "output_type": "stream",
          "text": [
            "Saved question2_samples_cyclegan/sample-005600-X-Y.png\n",
            "Saved question2_samples_cyclegan/sample-005600-Y-X.png\n"
          ],
          "name": "stdout"
        },
        {
          "output_type": "stream",
          "text": [
            "WARNING:root:Lossy conversion from float64 to uint8. Range [-1.0, 1.0]. Convert image to uint8 prior to saving to suppress this warning.\n",
            "WARNING:root:Lossy conversion from float64 to uint8. Range [-1.0, 0.9999996423721313]. Convert image to uint8 prior to saving to suppress this warning.\n"
          ],
          "name": "stderr"
        },
        {
          "output_type": "stream",
          "text": [
            "Saved question2_samples_cyclegan/sample-005800-X-Y.png\n",
            "Saved question2_samples_cyclegan/sample-005800-Y-X.png\n"
          ],
          "name": "stdout"
        },
        {
          "output_type": "stream",
          "text": [
            "WARNING:root:Lossy conversion from float64 to uint8. Range [-1.0, 1.0]. Convert image to uint8 prior to saving to suppress this warning.\n",
            "WARNING:root:Lossy conversion from float64 to uint8. Range [-1.0, 0.9999998211860657]. Convert image to uint8 prior to saving to suppress this warning.\n"
          ],
          "name": "stderr"
        },
        {
          "output_type": "stream",
          "text": [
            "Iteration [ 6000/10000] | d_real_loss: 0.0000 | d_Y_loss: 0.0000 | d_X_loss: 0.0000 | d_fake_loss: 0.0000 | g_loss: 1.1855\n",
            "Saved question2_samples_cyclegan/sample-006000-X-Y.png\n",
            "Saved question2_samples_cyclegan/sample-006000-Y-X.png\n"
          ],
          "name": "stdout"
        },
        {
          "output_type": "stream",
          "text": [
            "WARNING:root:Lossy conversion from float64 to uint8. Range [-1.0, 1.0]. Convert image to uint8 prior to saving to suppress this warning.\n",
            "WARNING:root:Lossy conversion from float64 to uint8. Range [-1.0, 0.9999997615814209]. Convert image to uint8 prior to saving to suppress this warning.\n"
          ],
          "name": "stderr"
        },
        {
          "output_type": "stream",
          "text": [
            "Saved question2_samples_cyclegan/sample-006200-X-Y.png\n",
            "Saved question2_samples_cyclegan/sample-006200-Y-X.png\n"
          ],
          "name": "stdout"
        },
        {
          "output_type": "stream",
          "text": [
            "WARNING:root:Lossy conversion from float64 to uint8. Range [-1.0, 1.0]. Convert image to uint8 prior to saving to suppress this warning.\n",
            "WARNING:root:Lossy conversion from float64 to uint8. Range [-1.0, 0.9999998807907104]. Convert image to uint8 prior to saving to suppress this warning.\n"
          ],
          "name": "stderr"
        },
        {
          "output_type": "stream",
          "text": [
            "Saved question2_samples_cyclegan/sample-006400-X-Y.png\n",
            "Saved question2_samples_cyclegan/sample-006400-Y-X.png\n",
            "Iteration [ 6500/10000] | d_real_loss: 0.0000 | d_Y_loss: 0.0000 | d_X_loss: 0.0000 | d_fake_loss: 0.0000 | g_loss: 1.2162\n"
          ],
          "name": "stdout"
        },
        {
          "output_type": "stream",
          "text": [
            "WARNING:root:Lossy conversion from float64 to uint8. Range [-1.0, 1.0]. Convert image to uint8 prior to saving to suppress this warning.\n",
            "WARNING:root:Lossy conversion from float64 to uint8. Range [-1.0, 0.9999998807907104]. Convert image to uint8 prior to saving to suppress this warning.\n"
          ],
          "name": "stderr"
        },
        {
          "output_type": "stream",
          "text": [
            "Saved question2_samples_cyclegan/sample-006600-X-Y.png\n",
            "Saved question2_samples_cyclegan/sample-006600-Y-X.png\n"
          ],
          "name": "stdout"
        },
        {
          "output_type": "stream",
          "text": [
            "WARNING:root:Lossy conversion from float64 to uint8. Range [-1.0, 1.0]. Convert image to uint8 prior to saving to suppress this warning.\n",
            "WARNING:root:Lossy conversion from float64 to uint8. Range [-1.0, 0.9999998211860657]. Convert image to uint8 prior to saving to suppress this warning.\n"
          ],
          "name": "stderr"
        },
        {
          "output_type": "stream",
          "text": [
            "Saved question2_samples_cyclegan/sample-006800-X-Y.png\n",
            "Saved question2_samples_cyclegan/sample-006800-Y-X.png\n"
          ],
          "name": "stdout"
        },
        {
          "output_type": "stream",
          "text": [
            "WARNING:root:Lossy conversion from float64 to uint8. Range [-1.0, 1.0]. Convert image to uint8 prior to saving to suppress this warning.\n",
            "WARNING:root:Lossy conversion from float64 to uint8. Range [-1.0, 0.9999999403953552]. Convert image to uint8 prior to saving to suppress this warning.\n"
          ],
          "name": "stderr"
        },
        {
          "output_type": "stream",
          "text": [
            "Iteration [ 7000/10000] | d_real_loss: 0.0000 | d_Y_loss: 0.0000 | d_X_loss: 0.0000 | d_fake_loss: 0.0000 | g_loss: 1.1973\n",
            "Saved question2_samples_cyclegan/sample-007000-X-Y.png\n",
            "Saved question2_samples_cyclegan/sample-007000-Y-X.png\n"
          ],
          "name": "stdout"
        },
        {
          "output_type": "stream",
          "text": [
            "WARNING:root:Lossy conversion from float64 to uint8. Range [-1.0, 1.0]. Convert image to uint8 prior to saving to suppress this warning.\n",
            "WARNING:root:Lossy conversion from float64 to uint8. Range [-1.0, 0.9999954700469971]. Convert image to uint8 prior to saving to suppress this warning.\n"
          ],
          "name": "stderr"
        },
        {
          "output_type": "stream",
          "text": [
            "Saved question2_samples_cyclegan/sample-007200-X-Y.png\n",
            "Saved question2_samples_cyclegan/sample-007200-Y-X.png\n"
          ],
          "name": "stdout"
        },
        {
          "output_type": "stream",
          "text": [
            "WARNING:root:Lossy conversion from float64 to uint8. Range [-1.0, 1.0]. Convert image to uint8 prior to saving to suppress this warning.\n",
            "WARNING:root:Lossy conversion from float64 to uint8. Range [-1.0, 0.9999995827674866]. Convert image to uint8 prior to saving to suppress this warning.\n"
          ],
          "name": "stderr"
        },
        {
          "output_type": "stream",
          "text": [
            "Saved question2_samples_cyclegan/sample-007400-X-Y.png\n",
            "Saved question2_samples_cyclegan/sample-007400-Y-X.png\n",
            "Iteration [ 7500/10000] | d_real_loss: 0.0000 | d_Y_loss: 0.0000 | d_X_loss: 0.0000 | d_fake_loss: 0.0000 | g_loss: 1.1578\n"
          ],
          "name": "stdout"
        },
        {
          "output_type": "stream",
          "text": [
            "WARNING:root:Lossy conversion from float64 to uint8. Range [-1.0, 1.0]. Convert image to uint8 prior to saving to suppress this warning.\n",
            "WARNING:root:Lossy conversion from float64 to uint8. Range [-1.0, 0.9999998807907104]. Convert image to uint8 prior to saving to suppress this warning.\n"
          ],
          "name": "stderr"
        },
        {
          "output_type": "stream",
          "text": [
            "Saved question2_samples_cyclegan/sample-007600-X-Y.png\n",
            "Saved question2_samples_cyclegan/sample-007600-Y-X.png\n"
          ],
          "name": "stdout"
        },
        {
          "output_type": "stream",
          "text": [
            "WARNING:root:Lossy conversion from float64 to uint8. Range [-1.0, 1.0]. Convert image to uint8 prior to saving to suppress this warning.\n",
            "WARNING:root:Lossy conversion from float64 to uint8. Range [-1.0, 0.9999997615814209]. Convert image to uint8 prior to saving to suppress this warning.\n"
          ],
          "name": "stderr"
        },
        {
          "output_type": "stream",
          "text": [
            "Saved question2_samples_cyclegan/sample-007800-X-Y.png\n",
            "Saved question2_samples_cyclegan/sample-007800-Y-X.png\n"
          ],
          "name": "stdout"
        },
        {
          "output_type": "stream",
          "text": [
            "WARNING:root:Lossy conversion from float64 to uint8. Range [-1.0, 1.0]. Convert image to uint8 prior to saving to suppress this warning.\n",
            "WARNING:root:Lossy conversion from float64 to uint8. Range [-1.0, 0.9999998211860657]. Convert image to uint8 prior to saving to suppress this warning.\n"
          ],
          "name": "stderr"
        },
        {
          "output_type": "stream",
          "text": [
            "Iteration [ 8000/10000] | d_real_loss: 0.0000 | d_Y_loss: 0.0000 | d_X_loss: 0.0000 | d_fake_loss: 0.0000 | g_loss: 1.2100\n",
            "Saved question2_samples_cyclegan/sample-008000-X-Y.png\n",
            "Saved question2_samples_cyclegan/sample-008000-Y-X.png\n"
          ],
          "name": "stdout"
        },
        {
          "output_type": "stream",
          "text": [
            "WARNING:root:Lossy conversion from float64 to uint8. Range [-1.0, 1.0]. Convert image to uint8 prior to saving to suppress this warning.\n",
            "WARNING:root:Lossy conversion from float64 to uint8. Range [-1.0, 0.9999997615814209]. Convert image to uint8 prior to saving to suppress this warning.\n"
          ],
          "name": "stderr"
        },
        {
          "output_type": "stream",
          "text": [
            "Saved question2_samples_cyclegan/sample-008200-X-Y.png\n",
            "Saved question2_samples_cyclegan/sample-008200-Y-X.png\n"
          ],
          "name": "stdout"
        },
        {
          "output_type": "stream",
          "text": [
            "WARNING:root:Lossy conversion from float64 to uint8. Range [-1.0, 1.0]. Convert image to uint8 prior to saving to suppress this warning.\n",
            "WARNING:root:Lossy conversion from float64 to uint8. Range [-1.0, 0.9999997615814209]. Convert image to uint8 prior to saving to suppress this warning.\n"
          ],
          "name": "stderr"
        },
        {
          "output_type": "stream",
          "text": [
            "Saved question2_samples_cyclegan/sample-008400-X-Y.png\n",
            "Saved question2_samples_cyclegan/sample-008400-Y-X.png\n",
            "Iteration [ 8500/10000] | d_real_loss: 0.0000 | d_Y_loss: 0.0000 | d_X_loss: 0.0000 | d_fake_loss: 0.0000 | g_loss: 1.1594\n"
          ],
          "name": "stdout"
        },
        {
          "output_type": "stream",
          "text": [
            "WARNING:root:Lossy conversion from float64 to uint8. Range [-1.0, 1.0]. Convert image to uint8 prior to saving to suppress this warning.\n",
            "WARNING:root:Lossy conversion from float64 to uint8. Range [-1.0, 0.9999997615814209]. Convert image to uint8 prior to saving to suppress this warning.\n"
          ],
          "name": "stderr"
        },
        {
          "output_type": "stream",
          "text": [
            "Saved question2_samples_cyclegan/sample-008600-X-Y.png\n",
            "Saved question2_samples_cyclegan/sample-008600-Y-X.png\n"
          ],
          "name": "stdout"
        },
        {
          "output_type": "stream",
          "text": [
            "WARNING:root:Lossy conversion from float64 to uint8. Range [-1.0, 1.0]. Convert image to uint8 prior to saving to suppress this warning.\n",
            "WARNING:root:Lossy conversion from float64 to uint8. Range [-1.0, 0.9999997615814209]. Convert image to uint8 prior to saving to suppress this warning.\n"
          ],
          "name": "stderr"
        },
        {
          "output_type": "stream",
          "text": [
            "Saved question2_samples_cyclegan/sample-008800-X-Y.png\n",
            "Saved question2_samples_cyclegan/sample-008800-Y-X.png\n"
          ],
          "name": "stdout"
        },
        {
          "output_type": "stream",
          "text": [
            "WARNING:root:Lossy conversion from float64 to uint8. Range [-1.0, 1.0]. Convert image to uint8 prior to saving to suppress this warning.\n",
            "WARNING:root:Lossy conversion from float64 to uint8. Range [-1.0, 0.9999997615814209]. Convert image to uint8 prior to saving to suppress this warning.\n"
          ],
          "name": "stderr"
        },
        {
          "output_type": "stream",
          "text": [
            "Iteration [ 9000/10000] | d_real_loss: 0.0000 | d_Y_loss: 0.0000 | d_X_loss: 0.0000 | d_fake_loss: 0.0000 | g_loss: 1.2033\n",
            "Saved question2_samples_cyclegan/sample-009000-X-Y.png\n",
            "Saved question2_samples_cyclegan/sample-009000-Y-X.png\n"
          ],
          "name": "stdout"
        },
        {
          "output_type": "stream",
          "text": [
            "WARNING:root:Lossy conversion from float64 to uint8. Range [-1.0, 1.0]. Convert image to uint8 prior to saving to suppress this warning.\n",
            "WARNING:root:Lossy conversion from float64 to uint8. Range [-1.0, 0.9999997615814209]. Convert image to uint8 prior to saving to suppress this warning.\n"
          ],
          "name": "stderr"
        },
        {
          "output_type": "stream",
          "text": [
            "Saved question2_samples_cyclegan/sample-009200-X-Y.png\n",
            "Saved question2_samples_cyclegan/sample-009200-Y-X.png\n"
          ],
          "name": "stdout"
        },
        {
          "output_type": "stream",
          "text": [
            "WARNING:root:Lossy conversion from float64 to uint8. Range [-1.0, 1.0]. Convert image to uint8 prior to saving to suppress this warning.\n",
            "WARNING:root:Lossy conversion from float64 to uint8. Range [-0.9999999403953552, 0.9999996423721313]. Convert image to uint8 prior to saving to suppress this warning.\n"
          ],
          "name": "stderr"
        },
        {
          "output_type": "stream",
          "text": [
            "Saved question2_samples_cyclegan/sample-009400-X-Y.png\n",
            "Saved question2_samples_cyclegan/sample-009400-Y-X.png\n",
            "Iteration [ 9500/10000] | d_real_loss: 0.0000 | d_Y_loss: 0.0000 | d_X_loss: 0.0000 | d_fake_loss: 0.0000 | g_loss: 1.2050\n"
          ],
          "name": "stdout"
        },
        {
          "output_type": "stream",
          "text": [
            "WARNING:root:Lossy conversion from float64 to uint8. Range [-1.0, 1.0]. Convert image to uint8 prior to saving to suppress this warning.\n",
            "WARNING:root:Lossy conversion from float64 to uint8. Range [-0.9997898936271667, 0.9999998211860657]. Convert image to uint8 prior to saving to suppress this warning.\n"
          ],
          "name": "stderr"
        },
        {
          "output_type": "stream",
          "text": [
            "Saved question2_samples_cyclegan/sample-009600-X-Y.png\n",
            "Saved question2_samples_cyclegan/sample-009600-Y-X.png\n"
          ],
          "name": "stdout"
        },
        {
          "output_type": "stream",
          "text": [
            "WARNING:root:Lossy conversion from float64 to uint8. Range [-1.0, 1.0]. Convert image to uint8 prior to saving to suppress this warning.\n",
            "WARNING:root:Lossy conversion from float64 to uint8. Range [-0.9999837279319763, 0.9999998807907104]. Convert image to uint8 prior to saving to suppress this warning.\n"
          ],
          "name": "stderr"
        },
        {
          "output_type": "stream",
          "text": [
            "Saved question2_samples_cyclegan/sample-009800-X-Y.png\n",
            "Saved question2_samples_cyclegan/sample-009800-Y-X.png\n"
          ],
          "name": "stdout"
        },
        {
          "output_type": "stream",
          "text": [
            "WARNING:root:Lossy conversion from float64 to uint8. Range [-1.0, 1.0]. Convert image to uint8 prior to saving to suppress this warning.\n",
            "WARNING:root:Lossy conversion from float64 to uint8. Range [-1.0, 0.999999463558197]. Convert image to uint8 prior to saving to suppress this warning.\n"
          ],
          "name": "stderr"
        },
        {
          "output_type": "stream",
          "text": [
            "Iteration [10000/10000] | d_real_loss: 0.0000 | d_Y_loss: 0.0000 | d_X_loss: 0.0000 | d_fake_loss: 0.0000 | g_loss: 1.2435\n",
            "Saved question2_samples_cyclegan/sample-010000-X-Y.png\n",
            "Saved question2_samples_cyclegan/sample-010000-Y-X.png\n"
          ],
          "name": "stdout"
        }
      ]
    },
    {
      "cell_type": "markdown",
      "metadata": {
        "id": "Uu5ONbyRe43P"
      },
      "source": [
        "## 3) Changing the default lambda_cycle hyperparameter "
      ]
    },
    {
      "cell_type": "markdown",
      "metadata": {
        "id": "esjFv4rrK3GX"
      },
      "source": [
        "We train the CycleGAN again and try a couple of different values for $\\lambda$ including without the cycle-consistency loss. (i.e. $\\lambda$ = 0)"
      ]
    },
    {
      "cell_type": "code",
      "metadata": {
        "id": "bog9GURMfbwb"
      },
      "source": [
        "lambda_values=[3,6]"
      ],
      "execution_count": null,
      "outputs": []
    },
    {
      "cell_type": "code",
      "metadata": {
        "colab": {
          "base_uri": "https://localhost:8080/"
        },
        "id": "wDOhybizgoQ2",
        "outputId": "f3eb8c13-7e22-4566-d9b1-897e87bfddd0"
      },
      "source": [
        "opts.use_cycle_consistency_loss = True\n",
        "opts.train_iters = 10000\n",
        "opts.log_step = 500\n",
        "opts.sample_every = 200\n",
        "opts.checkpoint_every = 2000\n",
        "\n",
        "\n",
        "for my_lambda in lambda_values:\n",
        "  opts.checkpoint_dir = 'question3_checkpoint_lambda-'+str(my_lambda)+'_cyclegan'\n",
        "  opts.sample_dir = 'question3_sample_dir_lambda-'+str(my_lambda)+'_cyclegan'\n",
        "  opts.CClambda=my_lambda\n",
        "  print_opts(opts)\n",
        "  main(opts)\n",
        "  "
      ],
      "execution_count": null,
      "outputs": [
        {
          "output_type": "stream",
          "text": [
            "================================================================================\n",
            "                                      Opts                                      \n",
            "--------------------------------------------------------------------------------\n",
            "                             image_size: 28                                     \n",
            "                             g_conv_dim: 64                                     \n",
            "                             d_conv_dim: 64                                     \n",
            "             use_cycle_consistency_loss: 1                                      \n",
            "                            train_iters: 10000                                  \n",
            "                             batch_size: 16                                     \n",
            "                                     lr: 0.0003                                 \n",
            "                                  beta1: 0.5                                    \n",
            "                                  beta2: 0.999                                  \n",
            "                     checkpoint_dir: question3_checkpoint_lambda-3_cyclegan     \n",
            "                         sample_dir: question3_sample_dir_lambda-3_cyclegan     \n",
            "                               log_step: 500                                    \n",
            "                           sample_every: 200                                    \n",
            "                       checkpoint_every: 2000                                   \n",
            "                               CClambda: 3                                      \n",
            "================================================================================\n",
            "                 G_XtoY                \n",
            "---------------------------------------\n",
            "CycleGenerator(\n",
            "  (conv1): Sequential(\n",
            "    (0): Conv2d(1, 32, kernel_size=(4, 4), stride=(2, 2), padding=(1, 1), bias=False)\n",
            "    (1): BatchNorm2d(32, eps=1e-05, momentum=0.1, affine=True, track_running_stats=True)\n",
            "  )\n",
            "  (conv2): Sequential(\n",
            "    (0): Conv2d(32, 64, kernel_size=(4, 4), stride=(2, 2), padding=(1, 1), bias=False)\n",
            "    (1): BatchNorm2d(64, eps=1e-05, momentum=0.1, affine=True, track_running_stats=True)\n",
            "  )\n",
            "  (resnet_block): ResnetBlock(\n",
            "    (conv_layer): Sequential(\n",
            "      (0): Conv2d(64, 64, kernel_size=(3, 3), stride=(1, 1), padding=(1, 1), bias=False)\n",
            "      (1): BatchNorm2d(64, eps=1e-05, momentum=0.1, affine=True, track_running_stats=True)\n",
            "    )\n",
            "  )\n",
            "  (deconv1): Sequential(\n",
            "    (0): ConvTranspose2d(64, 32, kernel_size=(4, 4), stride=(2, 2), padding=(1, 1), bias=False)\n",
            "    (1): BatchNorm2d(32, eps=1e-05, momentum=0.1, affine=True, track_running_stats=True)\n",
            "  )\n",
            "  (deconv2): Sequential(\n",
            "    (0): ConvTranspose2d(32, 1, kernel_size=(4, 4), stride=(2, 2), padding=(1, 1), bias=False)\n",
            "    (1): BatchNorm2d(1, eps=1e-05, momentum=0.1, affine=True, track_running_stats=True)\n",
            "  )\n",
            ")\n",
            "---------------------------------------\n",
            "                 G_YtoX                \n",
            "---------------------------------------\n",
            "CycleGenerator(\n",
            "  (conv1): Sequential(\n",
            "    (0): Conv2d(1, 32, kernel_size=(4, 4), stride=(2, 2), padding=(1, 1), bias=False)\n",
            "    (1): BatchNorm2d(32, eps=1e-05, momentum=0.1, affine=True, track_running_stats=True)\n",
            "  )\n",
            "  (conv2): Sequential(\n",
            "    (0): Conv2d(32, 64, kernel_size=(4, 4), stride=(2, 2), padding=(1, 1), bias=False)\n",
            "    (1): BatchNorm2d(64, eps=1e-05, momentum=0.1, affine=True, track_running_stats=True)\n",
            "  )\n",
            "  (resnet_block): ResnetBlock(\n",
            "    (conv_layer): Sequential(\n",
            "      (0): Conv2d(64, 64, kernel_size=(3, 3), stride=(1, 1), padding=(1, 1), bias=False)\n",
            "      (1): BatchNorm2d(64, eps=1e-05, momentum=0.1, affine=True, track_running_stats=True)\n",
            "    )\n",
            "  )\n",
            "  (deconv1): Sequential(\n",
            "    (0): ConvTranspose2d(64, 32, kernel_size=(4, 4), stride=(2, 2), padding=(1, 1), bias=False)\n",
            "    (1): BatchNorm2d(32, eps=1e-05, momentum=0.1, affine=True, track_running_stats=True)\n",
            "  )\n",
            "  (deconv2): Sequential(\n",
            "    (0): ConvTranspose2d(32, 1, kernel_size=(4, 4), stride=(2, 2), padding=(1, 1), bias=False)\n",
            "    (1): BatchNorm2d(1, eps=1e-05, momentum=0.1, affine=True, track_running_stats=True)\n",
            "  )\n",
            ")\n",
            "---------------------------------------\n",
            "                  D_X                  \n",
            "---------------------------------------\n",
            "DCDiscriminator(\n",
            "  (conv1): Sequential(\n",
            "    (0): Conv2d(1, 32, kernel_size=(4, 4), stride=(2, 2), padding=(1, 1), bias=False)\n",
            "    (1): BatchNorm2d(32, eps=1e-05, momentum=0.1, affine=True, track_running_stats=True)\n",
            "  )\n",
            "  (conv2): Sequential(\n",
            "    (0): Conv2d(32, 64, kernel_size=(4, 4), stride=(2, 2), padding=(1, 1), bias=False)\n",
            "    (1): BatchNorm2d(64, eps=1e-05, momentum=0.1, affine=True, track_running_stats=True)\n",
            "  )\n",
            "  (conv3): Sequential(\n",
            "    (0): Conv2d(64, 128, kernel_size=(4, 4), stride=(2, 2), padding=(1, 1), bias=False)\n",
            "    (1): BatchNorm2d(128, eps=1e-05, momentum=0.1, affine=True, track_running_stats=True)\n",
            "  )\n",
            "  (conv4): Sequential(\n",
            "    (0): Conv2d(128, 1, kernel_size=(3, 3), stride=(4, 4), bias=False)\n",
            "  )\n",
            ")\n",
            "---------------------------------------\n",
            "                  D_Y                  \n",
            "---------------------------------------\n",
            "DCDiscriminator(\n",
            "  (conv1): Sequential(\n",
            "    (0): Conv2d(1, 32, kernel_size=(4, 4), stride=(2, 2), padding=(1, 1), bias=False)\n",
            "    (1): BatchNorm2d(32, eps=1e-05, momentum=0.1, affine=True, track_running_stats=True)\n",
            "  )\n",
            "  (conv2): Sequential(\n",
            "    (0): Conv2d(32, 64, kernel_size=(4, 4), stride=(2, 2), padding=(1, 1), bias=False)\n",
            "    (1): BatchNorm2d(64, eps=1e-05, momentum=0.1, affine=True, track_running_stats=True)\n",
            "  )\n",
            "  (conv3): Sequential(\n",
            "    (0): Conv2d(64, 128, kernel_size=(4, 4), stride=(2, 2), padding=(1, 1), bias=False)\n",
            "    (1): BatchNorm2d(128, eps=1e-05, momentum=0.1, affine=True, track_running_stats=True)\n",
            "  )\n",
            "  (conv4): Sequential(\n",
            "    (0): Conv2d(128, 1, kernel_size=(3, 3), stride=(4, 4), bias=False)\n",
            "  )\n",
            ")\n",
            "---------------------------------------\n",
            "Models moved to GPU.\n"
          ],
          "name": "stdout"
        },
        {
          "output_type": "stream",
          "text": [
            "/usr/local/lib/python3.7/dist-packages/torch/nn/functional.py:1709: UserWarning: nn.functional.sigmoid is deprecated. Use torch.sigmoid instead.\n",
            "  warnings.warn(\"nn.functional.sigmoid is deprecated. Use torch.sigmoid instead.\")\n",
            "/usr/local/lib/python3.7/dist-packages/torch/nn/functional.py:1698: UserWarning: nn.functional.tanh is deprecated. Use torch.tanh instead.\n",
            "  warnings.warn(\"nn.functional.tanh is deprecated. Use torch.tanh instead.\")\n",
            "WARNING:root:Lossy conversion from float64 to uint8. Range [-1.0, 1.0]. Convert image to uint8 prior to saving to suppress this warning.\n",
            "WARNING:root:Lossy conversion from float64 to uint8. Range [-1.0, 0.9996739625930786]. Convert image to uint8 prior to saving to suppress this warning.\n"
          ],
          "name": "stderr"
        },
        {
          "output_type": "stream",
          "text": [
            "Saved question3_sample_dir_lambda-3_cyclegan/sample-000200-X-Y.png\n",
            "Saved question3_sample_dir_lambda-3_cyclegan/sample-000200-Y-X.png\n"
          ],
          "name": "stdout"
        },
        {
          "output_type": "stream",
          "text": [
            "WARNING:root:Lossy conversion from float64 to uint8. Range [-1.0, 1.0]. Convert image to uint8 prior to saving to suppress this warning.\n",
            "WARNING:root:Lossy conversion from float64 to uint8. Range [-1.0, 0.9999213814735413]. Convert image to uint8 prior to saving to suppress this warning.\n"
          ],
          "name": "stderr"
        },
        {
          "output_type": "stream",
          "text": [
            "Saved question3_sample_dir_lambda-3_cyclegan/sample-000400-X-Y.png\n",
            "Saved question3_sample_dir_lambda-3_cyclegan/sample-000400-Y-X.png\n",
            "Iteration [  500/10000] | d_real_loss: 0.0000 | d_Y_loss: 0.0000 | d_X_loss: 0.0013 | d_fake_loss: 0.0013 | g_loss: 1.2123\n"
          ],
          "name": "stdout"
        },
        {
          "output_type": "stream",
          "text": [
            "WARNING:root:Lossy conversion from float64 to uint8. Range [-1.0, 1.0]. Convert image to uint8 prior to saving to suppress this warning.\n",
            "WARNING:root:Lossy conversion from float64 to uint8. Range [-1.0, 1.0]. Convert image to uint8 prior to saving to suppress this warning.\n"
          ],
          "name": "stderr"
        },
        {
          "output_type": "stream",
          "text": [
            "Saved question3_sample_dir_lambda-3_cyclegan/sample-000600-X-Y.png\n",
            "Saved question3_sample_dir_lambda-3_cyclegan/sample-000600-Y-X.png\n"
          ],
          "name": "stdout"
        },
        {
          "output_type": "stream",
          "text": [
            "WARNING:root:Lossy conversion from float64 to uint8. Range [-1.0, 1.0]. Convert image to uint8 prior to saving to suppress this warning.\n",
            "WARNING:root:Lossy conversion from float64 to uint8. Range [-1.0, 0.9999967813491821]. Convert image to uint8 prior to saving to suppress this warning.\n"
          ],
          "name": "stderr"
        },
        {
          "output_type": "stream",
          "text": [
            "Saved question3_sample_dir_lambda-3_cyclegan/sample-000800-X-Y.png\n",
            "Saved question3_sample_dir_lambda-3_cyclegan/sample-000800-Y-X.png\n"
          ],
          "name": "stdout"
        },
        {
          "output_type": "stream",
          "text": [
            "WARNING:root:Lossy conversion from float64 to uint8. Range [-1.0, 1.0]. Convert image to uint8 prior to saving to suppress this warning.\n",
            "WARNING:root:Lossy conversion from float64 to uint8. Range [-1.0, 0.9999997615814209]. Convert image to uint8 prior to saving to suppress this warning.\n"
          ],
          "name": "stderr"
        },
        {
          "output_type": "stream",
          "text": [
            "Iteration [ 1000/10000] | d_real_loss: 0.0001 | d_Y_loss: 0.0000 | d_X_loss: 0.0000 | d_fake_loss: 0.0000 | g_loss: 1.1484\n",
            "Saved question3_sample_dir_lambda-3_cyclegan/sample-001000-X-Y.png\n",
            "Saved question3_sample_dir_lambda-3_cyclegan/sample-001000-Y-X.png\n"
          ],
          "name": "stdout"
        },
        {
          "output_type": "stream",
          "text": [
            "WARNING:root:Lossy conversion from float64 to uint8. Range [-1.0, 1.0]. Convert image to uint8 prior to saving to suppress this warning.\n",
            "WARNING:root:Lossy conversion from float64 to uint8. Range [-1.0, 0.9999980926513672]. Convert image to uint8 prior to saving to suppress this warning.\n"
          ],
          "name": "stderr"
        },
        {
          "output_type": "stream",
          "text": [
            "Saved question3_sample_dir_lambda-3_cyclegan/sample-001200-X-Y.png\n",
            "Saved question3_sample_dir_lambda-3_cyclegan/sample-001200-Y-X.png\n"
          ],
          "name": "stdout"
        },
        {
          "output_type": "stream",
          "text": [
            "WARNING:root:Lossy conversion from float64 to uint8. Range [-1.0, 1.0]. Convert image to uint8 prior to saving to suppress this warning.\n",
            "WARNING:root:Lossy conversion from float64 to uint8. Range [-1.0, 0.9999996423721313]. Convert image to uint8 prior to saving to suppress this warning.\n"
          ],
          "name": "stderr"
        },
        {
          "output_type": "stream",
          "text": [
            "Saved question3_sample_dir_lambda-3_cyclegan/sample-001400-X-Y.png\n",
            "Saved question3_sample_dir_lambda-3_cyclegan/sample-001400-Y-X.png\n",
            "Iteration [ 1500/10000] | d_real_loss: 0.0000 | d_Y_loss: 0.0000 | d_X_loss: 0.0000 | d_fake_loss: 0.0000 | g_loss: 1.1259\n"
          ],
          "name": "stdout"
        },
        {
          "output_type": "stream",
          "text": [
            "WARNING:root:Lossy conversion from float64 to uint8. Range [-1.0, 1.0]. Convert image to uint8 prior to saving to suppress this warning.\n",
            "WARNING:root:Lossy conversion from float64 to uint8. Range [-1.0, 0.9999998211860657]. Convert image to uint8 prior to saving to suppress this warning.\n"
          ],
          "name": "stderr"
        },
        {
          "output_type": "stream",
          "text": [
            "Saved question3_sample_dir_lambda-3_cyclegan/sample-001600-X-Y.png\n",
            "Saved question3_sample_dir_lambda-3_cyclegan/sample-001600-Y-X.png\n"
          ],
          "name": "stdout"
        },
        {
          "output_type": "stream",
          "text": [
            "WARNING:root:Lossy conversion from float64 to uint8. Range [-1.0, 1.0]. Convert image to uint8 prior to saving to suppress this warning.\n",
            "WARNING:root:Lossy conversion from float64 to uint8. Range [-1.0, 0.9998233914375305]. Convert image to uint8 prior to saving to suppress this warning.\n"
          ],
          "name": "stderr"
        },
        {
          "output_type": "stream",
          "text": [
            "Saved question3_sample_dir_lambda-3_cyclegan/sample-001800-X-Y.png\n",
            "Saved question3_sample_dir_lambda-3_cyclegan/sample-001800-Y-X.png\n"
          ],
          "name": "stdout"
        },
        {
          "output_type": "stream",
          "text": [
            "WARNING:root:Lossy conversion from float64 to uint8. Range [-1.0, 1.0]. Convert image to uint8 prior to saving to suppress this warning.\n",
            "WARNING:root:Lossy conversion from float64 to uint8. Range [-1.0, 0.9999307990074158]. Convert image to uint8 prior to saving to suppress this warning.\n"
          ],
          "name": "stderr"
        },
        {
          "output_type": "stream",
          "text": [
            "Iteration [ 2000/10000] | d_real_loss: 0.0000 | d_Y_loss: 0.0000 | d_X_loss: 0.0000 | d_fake_loss: 0.0000 | g_loss: 1.1191\n",
            "Saved question3_sample_dir_lambda-3_cyclegan/sample-002000-X-Y.png\n",
            "Saved question3_sample_dir_lambda-3_cyclegan/sample-002000-Y-X.png\n"
          ],
          "name": "stdout"
        },
        {
          "output_type": "stream",
          "text": [
            "WARNING:root:Lossy conversion from float64 to uint8. Range [-1.0, 1.0]. Convert image to uint8 prior to saving to suppress this warning.\n",
            "WARNING:root:Lossy conversion from float64 to uint8. Range [-1.0, 0.9996704459190369]. Convert image to uint8 prior to saving to suppress this warning.\n"
          ],
          "name": "stderr"
        },
        {
          "output_type": "stream",
          "text": [
            "Saved question3_sample_dir_lambda-3_cyclegan/sample-002200-X-Y.png\n",
            "Saved question3_sample_dir_lambda-3_cyclegan/sample-002200-Y-X.png\n"
          ],
          "name": "stdout"
        },
        {
          "output_type": "stream",
          "text": [
            "WARNING:root:Lossy conversion from float64 to uint8. Range [-1.0, 1.0]. Convert image to uint8 prior to saving to suppress this warning.\n",
            "WARNING:root:Lossy conversion from float64 to uint8. Range [-1.0, 0.9999754428863525]. Convert image to uint8 prior to saving to suppress this warning.\n"
          ],
          "name": "stderr"
        },
        {
          "output_type": "stream",
          "text": [
            "Saved question3_sample_dir_lambda-3_cyclegan/sample-002400-X-Y.png\n",
            "Saved question3_sample_dir_lambda-3_cyclegan/sample-002400-Y-X.png\n",
            "Iteration [ 2500/10000] | d_real_loss: 0.0000 | d_Y_loss: 0.0000 | d_X_loss: 0.0000 | d_fake_loss: 0.0000 | g_loss: 1.0989\n"
          ],
          "name": "stdout"
        },
        {
          "output_type": "stream",
          "text": [
            "WARNING:root:Lossy conversion from float64 to uint8. Range [-1.0, 1.0]. Convert image to uint8 prior to saving to suppress this warning.\n",
            "WARNING:root:Lossy conversion from float64 to uint8. Range [-1.0, 0.9994122385978699]. Convert image to uint8 prior to saving to suppress this warning.\n"
          ],
          "name": "stderr"
        },
        {
          "output_type": "stream",
          "text": [
            "Saved question3_sample_dir_lambda-3_cyclegan/sample-002600-X-Y.png\n",
            "Saved question3_sample_dir_lambda-3_cyclegan/sample-002600-Y-X.png\n"
          ],
          "name": "stdout"
        },
        {
          "output_type": "stream",
          "text": [
            "WARNING:root:Lossy conversion from float64 to uint8. Range [-1.0, 1.0]. Convert image to uint8 prior to saving to suppress this warning.\n",
            "WARNING:root:Lossy conversion from float64 to uint8. Range [-1.0, 0.9981424808502197]. Convert image to uint8 prior to saving to suppress this warning.\n"
          ],
          "name": "stderr"
        },
        {
          "output_type": "stream",
          "text": [
            "Saved question3_sample_dir_lambda-3_cyclegan/sample-002800-X-Y.png\n",
            "Saved question3_sample_dir_lambda-3_cyclegan/sample-002800-Y-X.png\n"
          ],
          "name": "stdout"
        },
        {
          "output_type": "stream",
          "text": [
            "WARNING:root:Lossy conversion from float64 to uint8. Range [-1.0, 1.0]. Convert image to uint8 prior to saving to suppress this warning.\n",
            "WARNING:root:Lossy conversion from float64 to uint8. Range [-1.0, 0.999203622341156]. Convert image to uint8 prior to saving to suppress this warning.\n"
          ],
          "name": "stderr"
        },
        {
          "output_type": "stream",
          "text": [
            "Iteration [ 3000/10000] | d_real_loss: 0.0000 | d_Y_loss: 0.0000 | d_X_loss: 0.0000 | d_fake_loss: 0.0000 | g_loss: 1.0999\n",
            "Saved question3_sample_dir_lambda-3_cyclegan/sample-003000-X-Y.png\n",
            "Saved question3_sample_dir_lambda-3_cyclegan/sample-003000-Y-X.png\n"
          ],
          "name": "stdout"
        },
        {
          "output_type": "stream",
          "text": [
            "WARNING:root:Lossy conversion from float64 to uint8. Range [-1.0, 1.0]. Convert image to uint8 prior to saving to suppress this warning.\n",
            "WARNING:root:Lossy conversion from float64 to uint8. Range [-1.0, 0.9994125366210938]. Convert image to uint8 prior to saving to suppress this warning.\n"
          ],
          "name": "stderr"
        },
        {
          "output_type": "stream",
          "text": [
            "Saved question3_sample_dir_lambda-3_cyclegan/sample-003200-X-Y.png\n",
            "Saved question3_sample_dir_lambda-3_cyclegan/sample-003200-Y-X.png\n"
          ],
          "name": "stdout"
        },
        {
          "output_type": "stream",
          "text": [
            "WARNING:root:Lossy conversion from float64 to uint8. Range [-1.0, 1.0]. Convert image to uint8 prior to saving to suppress this warning.\n",
            "WARNING:root:Lossy conversion from float64 to uint8. Range [-1.0, 0.9994637370109558]. Convert image to uint8 prior to saving to suppress this warning.\n"
          ],
          "name": "stderr"
        },
        {
          "output_type": "stream",
          "text": [
            "Saved question3_sample_dir_lambda-3_cyclegan/sample-003400-X-Y.png\n",
            "Saved question3_sample_dir_lambda-3_cyclegan/sample-003400-Y-X.png\n",
            "Iteration [ 3500/10000] | d_real_loss: 0.0000 | d_Y_loss: 0.0000 | d_X_loss: 0.0000 | d_fake_loss: 0.0000 | g_loss: 1.2506\n"
          ],
          "name": "stdout"
        },
        {
          "output_type": "stream",
          "text": [
            "WARNING:root:Lossy conversion from float64 to uint8. Range [-1.0, 1.0]. Convert image to uint8 prior to saving to suppress this warning.\n",
            "WARNING:root:Lossy conversion from float64 to uint8. Range [-1.0, 0.9997554421424866]. Convert image to uint8 prior to saving to suppress this warning.\n"
          ],
          "name": "stderr"
        },
        {
          "output_type": "stream",
          "text": [
            "Saved question3_sample_dir_lambda-3_cyclegan/sample-003600-X-Y.png\n",
            "Saved question3_sample_dir_lambda-3_cyclegan/sample-003600-Y-X.png\n"
          ],
          "name": "stdout"
        },
        {
          "output_type": "stream",
          "text": [
            "WARNING:root:Lossy conversion from float64 to uint8. Range [-1.0, 1.0]. Convert image to uint8 prior to saving to suppress this warning.\n",
            "WARNING:root:Lossy conversion from float64 to uint8. Range [-1.0, 0.9993955492973328]. Convert image to uint8 prior to saving to suppress this warning.\n"
          ],
          "name": "stderr"
        },
        {
          "output_type": "stream",
          "text": [
            "Saved question3_sample_dir_lambda-3_cyclegan/sample-003800-X-Y.png\n",
            "Saved question3_sample_dir_lambda-3_cyclegan/sample-003800-Y-X.png\n"
          ],
          "name": "stdout"
        },
        {
          "output_type": "stream",
          "text": [
            "WARNING:root:Lossy conversion from float64 to uint8. Range [-1.0, 1.0]. Convert image to uint8 prior to saving to suppress this warning.\n",
            "WARNING:root:Lossy conversion from float64 to uint8. Range [-1.0, 0.9987135529518127]. Convert image to uint8 prior to saving to suppress this warning.\n"
          ],
          "name": "stderr"
        },
        {
          "output_type": "stream",
          "text": [
            "Iteration [ 4000/10000] | d_real_loss: 0.0000 | d_Y_loss: 0.0000 | d_X_loss: 0.0000 | d_fake_loss: 0.0000 | g_loss: 1.0910\n",
            "Saved question3_sample_dir_lambda-3_cyclegan/sample-004000-X-Y.png\n",
            "Saved question3_sample_dir_lambda-3_cyclegan/sample-004000-Y-X.png\n"
          ],
          "name": "stdout"
        },
        {
          "output_type": "stream",
          "text": [
            "WARNING:root:Lossy conversion from float64 to uint8. Range [-1.0, 1.0]. Convert image to uint8 prior to saving to suppress this warning.\n",
            "WARNING:root:Lossy conversion from float64 to uint8. Range [-1.0, 0.9997405409812927]. Convert image to uint8 prior to saving to suppress this warning.\n"
          ],
          "name": "stderr"
        },
        {
          "output_type": "stream",
          "text": [
            "Saved question3_sample_dir_lambda-3_cyclegan/sample-004200-X-Y.png\n",
            "Saved question3_sample_dir_lambda-3_cyclegan/sample-004200-Y-X.png\n"
          ],
          "name": "stdout"
        },
        {
          "output_type": "stream",
          "text": [
            "WARNING:root:Lossy conversion from float64 to uint8. Range [-1.0, 1.0]. Convert image to uint8 prior to saving to suppress this warning.\n",
            "WARNING:root:Lossy conversion from float64 to uint8. Range [-1.0, 0.9989668130874634]. Convert image to uint8 prior to saving to suppress this warning.\n"
          ],
          "name": "stderr"
        },
        {
          "output_type": "stream",
          "text": [
            "Saved question3_sample_dir_lambda-3_cyclegan/sample-004400-X-Y.png\n",
            "Saved question3_sample_dir_lambda-3_cyclegan/sample-004400-Y-X.png\n",
            "Iteration [ 4500/10000] | d_real_loss: 0.0000 | d_Y_loss: 0.0000 | d_X_loss: 0.0000 | d_fake_loss: 0.0000 | g_loss: 1.0862\n"
          ],
          "name": "stdout"
        },
        {
          "output_type": "stream",
          "text": [
            "WARNING:root:Lossy conversion from float64 to uint8. Range [-1.0, 1.0]. Convert image to uint8 prior to saving to suppress this warning.\n",
            "WARNING:root:Lossy conversion from float64 to uint8. Range [-1.0, 0.9995483756065369]. Convert image to uint8 prior to saving to suppress this warning.\n"
          ],
          "name": "stderr"
        },
        {
          "output_type": "stream",
          "text": [
            "Saved question3_sample_dir_lambda-3_cyclegan/sample-004600-X-Y.png\n",
            "Saved question3_sample_dir_lambda-3_cyclegan/sample-004600-Y-X.png\n"
          ],
          "name": "stdout"
        },
        {
          "output_type": "stream",
          "text": [
            "WARNING:root:Lossy conversion from float64 to uint8. Range [-1.0, 1.0]. Convert image to uint8 prior to saving to suppress this warning.\n",
            "WARNING:root:Lossy conversion from float64 to uint8. Range [-1.0, 0.9993844032287598]. Convert image to uint8 prior to saving to suppress this warning.\n"
          ],
          "name": "stderr"
        },
        {
          "output_type": "stream",
          "text": [
            "Saved question3_sample_dir_lambda-3_cyclegan/sample-004800-X-Y.png\n",
            "Saved question3_sample_dir_lambda-3_cyclegan/sample-004800-Y-X.png\n"
          ],
          "name": "stdout"
        },
        {
          "output_type": "stream",
          "text": [
            "WARNING:root:Lossy conversion from float64 to uint8. Range [-1.0, 1.0]. Convert image to uint8 prior to saving to suppress this warning.\n",
            "WARNING:root:Lossy conversion from float64 to uint8. Range [-1.0, 0.9999991655349731]. Convert image to uint8 prior to saving to suppress this warning.\n"
          ],
          "name": "stderr"
        },
        {
          "output_type": "stream",
          "text": [
            "Iteration [ 5000/10000] | d_real_loss: 0.0000 | d_Y_loss: 0.0000 | d_X_loss: 0.0013 | d_fake_loss: 0.0013 | g_loss: 1.1005\n",
            "Saved question3_sample_dir_lambda-3_cyclegan/sample-005000-X-Y.png\n",
            "Saved question3_sample_dir_lambda-3_cyclegan/sample-005000-Y-X.png\n"
          ],
          "name": "stdout"
        },
        {
          "output_type": "stream",
          "text": [
            "WARNING:root:Lossy conversion from float64 to uint8. Range [-1.0, 1.0]. Convert image to uint8 prior to saving to suppress this warning.\n",
            "WARNING:root:Lossy conversion from float64 to uint8. Range [-1.0, 0.999829113483429]. Convert image to uint8 prior to saving to suppress this warning.\n"
          ],
          "name": "stderr"
        },
        {
          "output_type": "stream",
          "text": [
            "Saved question3_sample_dir_lambda-3_cyclegan/sample-005200-X-Y.png\n",
            "Saved question3_sample_dir_lambda-3_cyclegan/sample-005200-Y-X.png\n"
          ],
          "name": "stdout"
        },
        {
          "output_type": "stream",
          "text": [
            "WARNING:root:Lossy conversion from float64 to uint8. Range [-1.0, 1.0]. Convert image to uint8 prior to saving to suppress this warning.\n",
            "WARNING:root:Lossy conversion from float64 to uint8. Range [-1.0, 0.9999791383743286]. Convert image to uint8 prior to saving to suppress this warning.\n"
          ],
          "name": "stderr"
        },
        {
          "output_type": "stream",
          "text": [
            "Saved question3_sample_dir_lambda-3_cyclegan/sample-005400-X-Y.png\n",
            "Saved question3_sample_dir_lambda-3_cyclegan/sample-005400-Y-X.png\n",
            "Iteration [ 5500/10000] | d_real_loss: 0.0041 | d_Y_loss: 0.0000 | d_X_loss: 0.0000 | d_fake_loss: 0.0000 | g_loss: 1.0892\n"
          ],
          "name": "stdout"
        },
        {
          "output_type": "stream",
          "text": [
            "WARNING:root:Lossy conversion from float64 to uint8. Range [-1.0, 1.0]. Convert image to uint8 prior to saving to suppress this warning.\n",
            "WARNING:root:Lossy conversion from float64 to uint8. Range [-1.0, 0.9999998807907104]. Convert image to uint8 prior to saving to suppress this warning.\n"
          ],
          "name": "stderr"
        },
        {
          "output_type": "stream",
          "text": [
            "Saved question3_sample_dir_lambda-3_cyclegan/sample-005600-X-Y.png\n",
            "Saved question3_sample_dir_lambda-3_cyclegan/sample-005600-Y-X.png\n"
          ],
          "name": "stdout"
        },
        {
          "output_type": "stream",
          "text": [
            "WARNING:root:Lossy conversion from float64 to uint8. Range [-1.0, 1.0]. Convert image to uint8 prior to saving to suppress this warning.\n",
            "WARNING:root:Lossy conversion from float64 to uint8. Range [-1.0, 0.9999896883964539]. Convert image to uint8 prior to saving to suppress this warning.\n"
          ],
          "name": "stderr"
        },
        {
          "output_type": "stream",
          "text": [
            "Saved question3_sample_dir_lambda-3_cyclegan/sample-005800-X-Y.png\n",
            "Saved question3_sample_dir_lambda-3_cyclegan/sample-005800-Y-X.png\n"
          ],
          "name": "stdout"
        },
        {
          "output_type": "stream",
          "text": [
            "WARNING:root:Lossy conversion from float64 to uint8. Range [-1.0, 1.0]. Convert image to uint8 prior to saving to suppress this warning.\n",
            "WARNING:root:Lossy conversion from float64 to uint8. Range [-1.0, 0.9999425411224365]. Convert image to uint8 prior to saving to suppress this warning.\n"
          ],
          "name": "stderr"
        },
        {
          "output_type": "stream",
          "text": [
            "Iteration [ 6000/10000] | d_real_loss: 0.0000 | d_Y_loss: 0.0000 | d_X_loss: 0.0000 | d_fake_loss: 0.0000 | g_loss: 1.0871\n",
            "Saved question3_sample_dir_lambda-3_cyclegan/sample-006000-X-Y.png\n",
            "Saved question3_sample_dir_lambda-3_cyclegan/sample-006000-Y-X.png\n"
          ],
          "name": "stdout"
        },
        {
          "output_type": "stream",
          "text": [
            "WARNING:root:Lossy conversion from float64 to uint8. Range [-1.0, 1.0]. Convert image to uint8 prior to saving to suppress this warning.\n",
            "WARNING:root:Lossy conversion from float64 to uint8. Range [-1.0, 0.9999830722808838]. Convert image to uint8 prior to saving to suppress this warning.\n"
          ],
          "name": "stderr"
        },
        {
          "output_type": "stream",
          "text": [
            "Saved question3_sample_dir_lambda-3_cyclegan/sample-006200-X-Y.png\n",
            "Saved question3_sample_dir_lambda-3_cyclegan/sample-006200-Y-X.png\n"
          ],
          "name": "stdout"
        },
        {
          "output_type": "stream",
          "text": [
            "WARNING:root:Lossy conversion from float64 to uint8. Range [-1.0, 1.0]. Convert image to uint8 prior to saving to suppress this warning.\n",
            "WARNING:root:Lossy conversion from float64 to uint8. Range [-1.0, 0.9998669624328613]. Convert image to uint8 prior to saving to suppress this warning.\n"
          ],
          "name": "stderr"
        },
        {
          "output_type": "stream",
          "text": [
            "Saved question3_sample_dir_lambda-3_cyclegan/sample-006400-X-Y.png\n",
            "Saved question3_sample_dir_lambda-3_cyclegan/sample-006400-Y-X.png\n",
            "Iteration [ 6500/10000] | d_real_loss: 0.0000 | d_Y_loss: 0.0000 | d_X_loss: 0.0000 | d_fake_loss: 0.0000 | g_loss: 1.0785\n"
          ],
          "name": "stdout"
        },
        {
          "output_type": "stream",
          "text": [
            "WARNING:root:Lossy conversion from float64 to uint8. Range [-1.0, 1.0]. Convert image to uint8 prior to saving to suppress this warning.\n",
            "WARNING:root:Lossy conversion from float64 to uint8. Range [-1.0, 0.9999698996543884]. Convert image to uint8 prior to saving to suppress this warning.\n"
          ],
          "name": "stderr"
        },
        {
          "output_type": "stream",
          "text": [
            "Saved question3_sample_dir_lambda-3_cyclegan/sample-006600-X-Y.png\n",
            "Saved question3_sample_dir_lambda-3_cyclegan/sample-006600-Y-X.png\n"
          ],
          "name": "stdout"
        },
        {
          "output_type": "stream",
          "text": [
            "WARNING:root:Lossy conversion from float64 to uint8. Range [-1.0, 1.0]. Convert image to uint8 prior to saving to suppress this warning.\n",
            "WARNING:root:Lossy conversion from float64 to uint8. Range [-1.0, 0.9999904036521912]. Convert image to uint8 prior to saving to suppress this warning.\n"
          ],
          "name": "stderr"
        },
        {
          "output_type": "stream",
          "text": [
            "Saved question3_sample_dir_lambda-3_cyclegan/sample-006800-X-Y.png\n",
            "Saved question3_sample_dir_lambda-3_cyclegan/sample-006800-Y-X.png\n"
          ],
          "name": "stdout"
        },
        {
          "output_type": "stream",
          "text": [
            "WARNING:root:Lossy conversion from float64 to uint8. Range [-1.0, 1.0]. Convert image to uint8 prior to saving to suppress this warning.\n",
            "WARNING:root:Lossy conversion from float64 to uint8. Range [-1.0, 0.9999907612800598]. Convert image to uint8 prior to saving to suppress this warning.\n"
          ],
          "name": "stderr"
        },
        {
          "output_type": "stream",
          "text": [
            "Iteration [ 7000/10000] | d_real_loss: 0.0000 | d_Y_loss: 0.0000 | d_X_loss: 0.0000 | d_fake_loss: 0.0000 | g_loss: 1.0762\n",
            "Saved question3_sample_dir_lambda-3_cyclegan/sample-007000-X-Y.png\n",
            "Saved question3_sample_dir_lambda-3_cyclegan/sample-007000-Y-X.png\n"
          ],
          "name": "stdout"
        },
        {
          "output_type": "stream",
          "text": [
            "WARNING:root:Lossy conversion from float64 to uint8. Range [-1.0, 1.0]. Convert image to uint8 prior to saving to suppress this warning.\n",
            "WARNING:root:Lossy conversion from float64 to uint8. Range [-1.0, 0.999990701675415]. Convert image to uint8 prior to saving to suppress this warning.\n"
          ],
          "name": "stderr"
        },
        {
          "output_type": "stream",
          "text": [
            "Saved question3_sample_dir_lambda-3_cyclegan/sample-007200-X-Y.png\n",
            "Saved question3_sample_dir_lambda-3_cyclegan/sample-007200-Y-X.png\n"
          ],
          "name": "stdout"
        },
        {
          "output_type": "stream",
          "text": [
            "WARNING:root:Lossy conversion from float64 to uint8. Range [-1.0, 1.0]. Convert image to uint8 prior to saving to suppress this warning.\n",
            "WARNING:root:Lossy conversion from float64 to uint8. Range [-1.0, 0.9999962449073792]. Convert image to uint8 prior to saving to suppress this warning.\n"
          ],
          "name": "stderr"
        },
        {
          "output_type": "stream",
          "text": [
            "Saved question3_sample_dir_lambda-3_cyclegan/sample-007400-X-Y.png\n",
            "Saved question3_sample_dir_lambda-3_cyclegan/sample-007400-Y-X.png\n",
            "Iteration [ 7500/10000] | d_real_loss: 0.0000 | d_Y_loss: 0.0000 | d_X_loss: 0.0000 | d_fake_loss: 0.0000 | g_loss: 1.0541\n"
          ],
          "name": "stdout"
        },
        {
          "output_type": "stream",
          "text": [
            "WARNING:root:Lossy conversion from float64 to uint8. Range [-1.0, 1.0]. Convert image to uint8 prior to saving to suppress this warning.\n",
            "WARNING:root:Lossy conversion from float64 to uint8. Range [-1.0, 0.9999850392341614]. Convert image to uint8 prior to saving to suppress this warning.\n"
          ],
          "name": "stderr"
        },
        {
          "output_type": "stream",
          "text": [
            "Saved question3_sample_dir_lambda-3_cyclegan/sample-007600-X-Y.png\n",
            "Saved question3_sample_dir_lambda-3_cyclegan/sample-007600-Y-X.png\n"
          ],
          "name": "stdout"
        },
        {
          "output_type": "stream",
          "text": [
            "WARNING:root:Lossy conversion from float64 to uint8. Range [-1.0, 1.0]. Convert image to uint8 prior to saving to suppress this warning.\n",
            "WARNING:root:Lossy conversion from float64 to uint8. Range [-1.0, 0.9999952912330627]. Convert image to uint8 prior to saving to suppress this warning.\n"
          ],
          "name": "stderr"
        },
        {
          "output_type": "stream",
          "text": [
            "Saved question3_sample_dir_lambda-3_cyclegan/sample-007800-X-Y.png\n",
            "Saved question3_sample_dir_lambda-3_cyclegan/sample-007800-Y-X.png\n"
          ],
          "name": "stdout"
        },
        {
          "output_type": "stream",
          "text": [
            "WARNING:root:Lossy conversion from float64 to uint8. Range [-1.0, 1.0]. Convert image to uint8 prior to saving to suppress this warning.\n",
            "WARNING:root:Lossy conversion from float64 to uint8. Range [-1.0, 0.9999940395355225]. Convert image to uint8 prior to saving to suppress this warning.\n"
          ],
          "name": "stderr"
        },
        {
          "output_type": "stream",
          "text": [
            "Iteration [ 8000/10000] | d_real_loss: 0.0000 | d_Y_loss: 0.0000 | d_X_loss: 0.0000 | d_fake_loss: 0.0000 | g_loss: 1.0588\n",
            "Saved question3_sample_dir_lambda-3_cyclegan/sample-008000-X-Y.png\n",
            "Saved question3_sample_dir_lambda-3_cyclegan/sample-008000-Y-X.png\n"
          ],
          "name": "stdout"
        },
        {
          "output_type": "stream",
          "text": [
            "WARNING:root:Lossy conversion from float64 to uint8. Range [-1.0, 1.0]. Convert image to uint8 prior to saving to suppress this warning.\n",
            "WARNING:root:Lossy conversion from float64 to uint8. Range [-1.0, 0.9999446272850037]. Convert image to uint8 prior to saving to suppress this warning.\n"
          ],
          "name": "stderr"
        },
        {
          "output_type": "stream",
          "text": [
            "Saved question3_sample_dir_lambda-3_cyclegan/sample-008200-X-Y.png\n",
            "Saved question3_sample_dir_lambda-3_cyclegan/sample-008200-Y-X.png\n"
          ],
          "name": "stdout"
        },
        {
          "output_type": "stream",
          "text": [
            "WARNING:root:Lossy conversion from float64 to uint8. Range [-1.0, 1.0]. Convert image to uint8 prior to saving to suppress this warning.\n",
            "WARNING:root:Lossy conversion from float64 to uint8. Range [-1.0, 0.9999932050704956]. Convert image to uint8 prior to saving to suppress this warning.\n"
          ],
          "name": "stderr"
        },
        {
          "output_type": "stream",
          "text": [
            "Saved question3_sample_dir_lambda-3_cyclegan/sample-008400-X-Y.png\n",
            "Saved question3_sample_dir_lambda-3_cyclegan/sample-008400-Y-X.png\n",
            "Iteration [ 8500/10000] | d_real_loss: 0.0000 | d_Y_loss: 0.0000 | d_X_loss: 0.0000 | d_fake_loss: 0.0000 | g_loss: 1.0710\n"
          ],
          "name": "stdout"
        },
        {
          "output_type": "stream",
          "text": [
            "WARNING:root:Lossy conversion from float64 to uint8. Range [-1.0, 1.0]. Convert image to uint8 prior to saving to suppress this warning.\n",
            "WARNING:root:Lossy conversion from float64 to uint8. Range [-1.0, 0.9999945163726807]. Convert image to uint8 prior to saving to suppress this warning.\n"
          ],
          "name": "stderr"
        },
        {
          "output_type": "stream",
          "text": [
            "Saved question3_sample_dir_lambda-3_cyclegan/sample-008600-X-Y.png\n",
            "Saved question3_sample_dir_lambda-3_cyclegan/sample-008600-Y-X.png\n"
          ],
          "name": "stdout"
        },
        {
          "output_type": "stream",
          "text": [
            "WARNING:root:Lossy conversion from float64 to uint8. Range [-1.0, 1.0]. Convert image to uint8 prior to saving to suppress this warning.\n",
            "WARNING:root:Lossy conversion from float64 to uint8. Range [-1.0, 0.9999901652336121]. Convert image to uint8 prior to saving to suppress this warning.\n"
          ],
          "name": "stderr"
        },
        {
          "output_type": "stream",
          "text": [
            "Saved question3_sample_dir_lambda-3_cyclegan/sample-008800-X-Y.png\n",
            "Saved question3_sample_dir_lambda-3_cyclegan/sample-008800-Y-X.png\n"
          ],
          "name": "stdout"
        },
        {
          "output_type": "stream",
          "text": [
            "WARNING:root:Lossy conversion from float64 to uint8. Range [-1.0, 1.0]. Convert image to uint8 prior to saving to suppress this warning.\n",
            "WARNING:root:Lossy conversion from float64 to uint8. Range [-1.0, 0.9999327659606934]. Convert image to uint8 prior to saving to suppress this warning.\n"
          ],
          "name": "stderr"
        },
        {
          "output_type": "stream",
          "text": [
            "Iteration [ 9000/10000] | d_real_loss: 0.0000 | d_Y_loss: 0.0000 | d_X_loss: 0.0000 | d_fake_loss: 0.0000 | g_loss: 1.0580\n",
            "Saved question3_sample_dir_lambda-3_cyclegan/sample-009000-X-Y.png\n",
            "Saved question3_sample_dir_lambda-3_cyclegan/sample-009000-Y-X.png\n"
          ],
          "name": "stdout"
        },
        {
          "output_type": "stream",
          "text": [
            "WARNING:root:Lossy conversion from float64 to uint8. Range [-1.0, 1.0]. Convert image to uint8 prior to saving to suppress this warning.\n",
            "WARNING:root:Lossy conversion from float64 to uint8. Range [-1.0, 0.9999855756759644]. Convert image to uint8 prior to saving to suppress this warning.\n"
          ],
          "name": "stderr"
        },
        {
          "output_type": "stream",
          "text": [
            "Saved question3_sample_dir_lambda-3_cyclegan/sample-009200-X-Y.png\n",
            "Saved question3_sample_dir_lambda-3_cyclegan/sample-009200-Y-X.png\n"
          ],
          "name": "stdout"
        },
        {
          "output_type": "stream",
          "text": [
            "WARNING:root:Lossy conversion from float64 to uint8. Range [-1.0, 1.0]. Convert image to uint8 prior to saving to suppress this warning.\n",
            "WARNING:root:Lossy conversion from float64 to uint8. Range [-1.0, 0.999988853931427]. Convert image to uint8 prior to saving to suppress this warning.\n"
          ],
          "name": "stderr"
        },
        {
          "output_type": "stream",
          "text": [
            "Saved question3_sample_dir_lambda-3_cyclegan/sample-009400-X-Y.png\n",
            "Saved question3_sample_dir_lambda-3_cyclegan/sample-009400-Y-X.png\n",
            "Iteration [ 9500/10000] | d_real_loss: 0.0000 | d_Y_loss: 0.0000 | d_X_loss: 0.0000 | d_fake_loss: 0.0000 | g_loss: 1.0494\n"
          ],
          "name": "stdout"
        },
        {
          "output_type": "stream",
          "text": [
            "WARNING:root:Lossy conversion from float64 to uint8. Range [-1.0, 1.0]. Convert image to uint8 prior to saving to suppress this warning.\n",
            "WARNING:root:Lossy conversion from float64 to uint8. Range [-1.0, 0.999992311000824]. Convert image to uint8 prior to saving to suppress this warning.\n"
          ],
          "name": "stderr"
        },
        {
          "output_type": "stream",
          "text": [
            "Saved question3_sample_dir_lambda-3_cyclegan/sample-009600-X-Y.png\n",
            "Saved question3_sample_dir_lambda-3_cyclegan/sample-009600-Y-X.png\n"
          ],
          "name": "stdout"
        },
        {
          "output_type": "stream",
          "text": [
            "WARNING:root:Lossy conversion from float64 to uint8. Range [-1.0, 1.0]. Convert image to uint8 prior to saving to suppress this warning.\n",
            "WARNING:root:Lossy conversion from float64 to uint8. Range [-1.0, 0.9999943971633911]. Convert image to uint8 prior to saving to suppress this warning.\n"
          ],
          "name": "stderr"
        },
        {
          "output_type": "stream",
          "text": [
            "Saved question3_sample_dir_lambda-3_cyclegan/sample-009800-X-Y.png\n",
            "Saved question3_sample_dir_lambda-3_cyclegan/sample-009800-Y-X.png\n"
          ],
          "name": "stdout"
        },
        {
          "output_type": "stream",
          "text": [
            "WARNING:root:Lossy conversion from float64 to uint8. Range [-1.0, 1.0]. Convert image to uint8 prior to saving to suppress this warning.\n",
            "WARNING:root:Lossy conversion from float64 to uint8. Range [-1.0, 0.9999899864196777]. Convert image to uint8 prior to saving to suppress this warning.\n"
          ],
          "name": "stderr"
        },
        {
          "output_type": "stream",
          "text": [
            "Iteration [10000/10000] | d_real_loss: 0.0000 | d_Y_loss: 0.0000 | d_X_loss: 0.0000 | d_fake_loss: 0.0000 | g_loss: 1.0789\n",
            "Saved question3_sample_dir_lambda-3_cyclegan/sample-010000-X-Y.png\n",
            "Saved question3_sample_dir_lambda-3_cyclegan/sample-010000-Y-X.png\n",
            "================================================================================\n",
            "                                      Opts                                      \n",
            "--------------------------------------------------------------------------------\n",
            "                             image_size: 28                                     \n",
            "                             g_conv_dim: 64                                     \n",
            "                             d_conv_dim: 64                                     \n",
            "             use_cycle_consistency_loss: 1                                      \n",
            "                            train_iters: 10000                                  \n",
            "                             batch_size: 16                                     \n",
            "                                     lr: 0.0003                                 \n",
            "                                  beta1: 0.5                                    \n",
            "                                  beta2: 0.999                                  \n",
            "                     checkpoint_dir: question3_checkpoint_lambda-6_cyclegan     \n",
            "                         sample_dir: question3_sample_dir_lambda-6_cyclegan     \n",
            "                               log_step: 500                                    \n",
            "                           sample_every: 200                                    \n",
            "                       checkpoint_every: 2000                                   \n",
            "                               CClambda: 6                                      \n",
            "================================================================================\n",
            "                 G_XtoY                \n",
            "---------------------------------------\n",
            "CycleGenerator(\n",
            "  (conv1): Sequential(\n",
            "    (0): Conv2d(1, 32, kernel_size=(4, 4), stride=(2, 2), padding=(1, 1), bias=False)\n",
            "    (1): BatchNorm2d(32, eps=1e-05, momentum=0.1, affine=True, track_running_stats=True)\n",
            "  )\n",
            "  (conv2): Sequential(\n",
            "    (0): Conv2d(32, 64, kernel_size=(4, 4), stride=(2, 2), padding=(1, 1), bias=False)\n",
            "    (1): BatchNorm2d(64, eps=1e-05, momentum=0.1, affine=True, track_running_stats=True)\n",
            "  )\n",
            "  (resnet_block): ResnetBlock(\n",
            "    (conv_layer): Sequential(\n",
            "      (0): Conv2d(64, 64, kernel_size=(3, 3), stride=(1, 1), padding=(1, 1), bias=False)\n",
            "      (1): BatchNorm2d(64, eps=1e-05, momentum=0.1, affine=True, track_running_stats=True)\n",
            "    )\n",
            "  )\n",
            "  (deconv1): Sequential(\n",
            "    (0): ConvTranspose2d(64, 32, kernel_size=(4, 4), stride=(2, 2), padding=(1, 1), bias=False)\n",
            "    (1): BatchNorm2d(32, eps=1e-05, momentum=0.1, affine=True, track_running_stats=True)\n",
            "  )\n",
            "  (deconv2): Sequential(\n",
            "    (0): ConvTranspose2d(32, 1, kernel_size=(4, 4), stride=(2, 2), padding=(1, 1), bias=False)\n",
            "    (1): BatchNorm2d(1, eps=1e-05, momentum=0.1, affine=True, track_running_stats=True)\n",
            "  )\n",
            ")\n",
            "---------------------------------------\n",
            "                 G_YtoX                \n",
            "---------------------------------------\n",
            "CycleGenerator(\n",
            "  (conv1): Sequential(\n",
            "    (0): Conv2d(1, 32, kernel_size=(4, 4), stride=(2, 2), padding=(1, 1), bias=False)\n",
            "    (1): BatchNorm2d(32, eps=1e-05, momentum=0.1, affine=True, track_running_stats=True)\n",
            "  )\n",
            "  (conv2): Sequential(\n",
            "    (0): Conv2d(32, 64, kernel_size=(4, 4), stride=(2, 2), padding=(1, 1), bias=False)\n",
            "    (1): BatchNorm2d(64, eps=1e-05, momentum=0.1, affine=True, track_running_stats=True)\n",
            "  )\n",
            "  (resnet_block): ResnetBlock(\n",
            "    (conv_layer): Sequential(\n",
            "      (0): Conv2d(64, 64, kernel_size=(3, 3), stride=(1, 1), padding=(1, 1), bias=False)\n",
            "      (1): BatchNorm2d(64, eps=1e-05, momentum=0.1, affine=True, track_running_stats=True)\n",
            "    )\n",
            "  )\n",
            "  (deconv1): Sequential(\n",
            "    (0): ConvTranspose2d(64, 32, kernel_size=(4, 4), stride=(2, 2), padding=(1, 1), bias=False)\n",
            "    (1): BatchNorm2d(32, eps=1e-05, momentum=0.1, affine=True, track_running_stats=True)\n",
            "  )\n",
            "  (deconv2): Sequential(\n",
            "    (0): ConvTranspose2d(32, 1, kernel_size=(4, 4), stride=(2, 2), padding=(1, 1), bias=False)\n",
            "    (1): BatchNorm2d(1, eps=1e-05, momentum=0.1, affine=True, track_running_stats=True)\n",
            "  )\n",
            ")\n",
            "---------------------------------------\n",
            "                  D_X                  \n",
            "---------------------------------------\n",
            "DCDiscriminator(\n",
            "  (conv1): Sequential(\n",
            "    (0): Conv2d(1, 32, kernel_size=(4, 4), stride=(2, 2), padding=(1, 1), bias=False)\n",
            "    (1): BatchNorm2d(32, eps=1e-05, momentum=0.1, affine=True, track_running_stats=True)\n",
            "  )\n",
            "  (conv2): Sequential(\n",
            "    (0): Conv2d(32, 64, kernel_size=(4, 4), stride=(2, 2), padding=(1, 1), bias=False)\n",
            "    (1): BatchNorm2d(64, eps=1e-05, momentum=0.1, affine=True, track_running_stats=True)\n",
            "  )\n",
            "  (conv3): Sequential(\n",
            "    (0): Conv2d(64, 128, kernel_size=(4, 4), stride=(2, 2), padding=(1, 1), bias=False)\n",
            "    (1): BatchNorm2d(128, eps=1e-05, momentum=0.1, affine=True, track_running_stats=True)\n",
            "  )\n",
            "  (conv4): Sequential(\n",
            "    (0): Conv2d(128, 1, kernel_size=(3, 3), stride=(4, 4), bias=False)\n",
            "  )\n",
            ")\n",
            "---------------------------------------\n",
            "                  D_Y                  \n",
            "---------------------------------------\n",
            "DCDiscriminator(\n",
            "  (conv1): Sequential(\n",
            "    (0): Conv2d(1, 32, kernel_size=(4, 4), stride=(2, 2), padding=(1, 1), bias=False)\n",
            "    (1): BatchNorm2d(32, eps=1e-05, momentum=0.1, affine=True, track_running_stats=True)\n",
            "  )\n",
            "  (conv2): Sequential(\n",
            "    (0): Conv2d(32, 64, kernel_size=(4, 4), stride=(2, 2), padding=(1, 1), bias=False)\n",
            "    (1): BatchNorm2d(64, eps=1e-05, momentum=0.1, affine=True, track_running_stats=True)\n",
            "  )\n",
            "  (conv3): Sequential(\n",
            "    (0): Conv2d(64, 128, kernel_size=(4, 4), stride=(2, 2), padding=(1, 1), bias=False)\n",
            "    (1): BatchNorm2d(128, eps=1e-05, momentum=0.1, affine=True, track_running_stats=True)\n",
            "  )\n",
            "  (conv4): Sequential(\n",
            "    (0): Conv2d(128, 1, kernel_size=(3, 3), stride=(4, 4), bias=False)\n",
            "  )\n",
            ")\n",
            "---------------------------------------\n",
            "Models moved to GPU.\n"
          ],
          "name": "stdout"
        },
        {
          "output_type": "stream",
          "text": [
            "WARNING:root:Lossy conversion from float64 to uint8. Range [-1.0, 1.0]. Convert image to uint8 prior to saving to suppress this warning.\n",
            "WARNING:root:Lossy conversion from float64 to uint8. Range [-1.0, 0.9999451041221619]. Convert image to uint8 prior to saving to suppress this warning.\n"
          ],
          "name": "stderr"
        },
        {
          "output_type": "stream",
          "text": [
            "Saved question3_sample_dir_lambda-6_cyclegan/sample-000200-X-Y.png\n",
            "Saved question3_sample_dir_lambda-6_cyclegan/sample-000200-Y-X.png\n"
          ],
          "name": "stdout"
        },
        {
          "output_type": "stream",
          "text": [
            "WARNING:root:Lossy conversion from float64 to uint8. Range [-1.0, 1.0]. Convert image to uint8 prior to saving to suppress this warning.\n",
            "WARNING:root:Lossy conversion from float64 to uint8. Range [-1.0, 0.9958510994911194]. Convert image to uint8 prior to saving to suppress this warning.\n"
          ],
          "name": "stderr"
        },
        {
          "output_type": "stream",
          "text": [
            "Saved question3_sample_dir_lambda-6_cyclegan/sample-000400-X-Y.png\n",
            "Saved question3_sample_dir_lambda-6_cyclegan/sample-000400-Y-X.png\n",
            "Iteration [  500/10000] | d_real_loss: 0.0001 | d_Y_loss: 0.0001 | d_X_loss: 0.0001 | d_fake_loss: 0.0001 | g_loss: 1.4111\n"
          ],
          "name": "stdout"
        },
        {
          "output_type": "stream",
          "text": [
            "WARNING:root:Lossy conversion from float64 to uint8. Range [-1.0, 1.0]. Convert image to uint8 prior to saving to suppress this warning.\n",
            "WARNING:root:Lossy conversion from float64 to uint8. Range [-1.0, 0.9968729019165039]. Convert image to uint8 prior to saving to suppress this warning.\n"
          ],
          "name": "stderr"
        },
        {
          "output_type": "stream",
          "text": [
            "Saved question3_sample_dir_lambda-6_cyclegan/sample-000600-X-Y.png\n",
            "Saved question3_sample_dir_lambda-6_cyclegan/sample-000600-Y-X.png\n"
          ],
          "name": "stdout"
        },
        {
          "output_type": "stream",
          "text": [
            "WARNING:root:Lossy conversion from float64 to uint8. Range [-1.0, 1.0]. Convert image to uint8 prior to saving to suppress this warning.\n",
            "WARNING:root:Lossy conversion from float64 to uint8. Range [-1.0, 0.9989762902259827]. Convert image to uint8 prior to saving to suppress this warning.\n"
          ],
          "name": "stderr"
        },
        {
          "output_type": "stream",
          "text": [
            "Saved question3_sample_dir_lambda-6_cyclegan/sample-000800-X-Y.png\n",
            "Saved question3_sample_dir_lambda-6_cyclegan/sample-000800-Y-X.png\n"
          ],
          "name": "stdout"
        },
        {
          "output_type": "stream",
          "text": [
            "WARNING:root:Lossy conversion from float64 to uint8. Range [-1.0, 1.0]. Convert image to uint8 prior to saving to suppress this warning.\n",
            "WARNING:root:Lossy conversion from float64 to uint8. Range [-1.0, 0.9993846416473389]. Convert image to uint8 prior to saving to suppress this warning.\n"
          ],
          "name": "stderr"
        },
        {
          "output_type": "stream",
          "text": [
            "Iteration [ 1000/10000] | d_real_loss: 0.0000 | d_Y_loss: 0.0000 | d_X_loss: 0.0000 | d_fake_loss: 0.0000 | g_loss: 1.2452\n",
            "Saved question3_sample_dir_lambda-6_cyclegan/sample-001000-X-Y.png\n",
            "Saved question3_sample_dir_lambda-6_cyclegan/sample-001000-Y-X.png\n"
          ],
          "name": "stdout"
        },
        {
          "output_type": "stream",
          "text": [
            "WARNING:root:Lossy conversion from float64 to uint8. Range [-1.0, 1.0]. Convert image to uint8 prior to saving to suppress this warning.\n",
            "WARNING:root:Lossy conversion from float64 to uint8. Range [-1.0, 0.9999977946281433]. Convert image to uint8 prior to saving to suppress this warning.\n"
          ],
          "name": "stderr"
        },
        {
          "output_type": "stream",
          "text": [
            "Saved question3_sample_dir_lambda-6_cyclegan/sample-001200-X-Y.png\n",
            "Saved question3_sample_dir_lambda-6_cyclegan/sample-001200-Y-X.png\n"
          ],
          "name": "stdout"
        },
        {
          "output_type": "stream",
          "text": [
            "WARNING:root:Lossy conversion from float64 to uint8. Range [-1.0, 1.0]. Convert image to uint8 prior to saving to suppress this warning.\n",
            "WARNING:root:Lossy conversion from float64 to uint8. Range [-1.0, 0.9987929463386536]. Convert image to uint8 prior to saving to suppress this warning.\n"
          ],
          "name": "stderr"
        },
        {
          "output_type": "stream",
          "text": [
            "Saved question3_sample_dir_lambda-6_cyclegan/sample-001400-X-Y.png\n",
            "Saved question3_sample_dir_lambda-6_cyclegan/sample-001400-Y-X.png\n",
            "Iteration [ 1500/10000] | d_real_loss: 0.0000 | d_Y_loss: 0.0000 | d_X_loss: 0.0000 | d_fake_loss: 0.0000 | g_loss: 1.2121\n"
          ],
          "name": "stdout"
        },
        {
          "output_type": "stream",
          "text": [
            "WARNING:root:Lossy conversion from float64 to uint8. Range [-1.0, 1.0]. Convert image to uint8 prior to saving to suppress this warning.\n",
            "WARNING:root:Lossy conversion from float64 to uint8. Range [-1.0, 0.9999780654907227]. Convert image to uint8 prior to saving to suppress this warning.\n"
          ],
          "name": "stderr"
        },
        {
          "output_type": "stream",
          "text": [
            "Saved question3_sample_dir_lambda-6_cyclegan/sample-001600-X-Y.png\n",
            "Saved question3_sample_dir_lambda-6_cyclegan/sample-001600-Y-X.png\n"
          ],
          "name": "stdout"
        },
        {
          "output_type": "stream",
          "text": [
            "WARNING:root:Lossy conversion from float64 to uint8. Range [-1.0, 1.0]. Convert image to uint8 prior to saving to suppress this warning.\n",
            "WARNING:root:Lossy conversion from float64 to uint8. Range [-1.0, 0.9999988079071045]. Convert image to uint8 prior to saving to suppress this warning.\n"
          ],
          "name": "stderr"
        },
        {
          "output_type": "stream",
          "text": [
            "Saved question3_sample_dir_lambda-6_cyclegan/sample-001800-X-Y.png\n",
            "Saved question3_sample_dir_lambda-6_cyclegan/sample-001800-Y-X.png\n"
          ],
          "name": "stdout"
        },
        {
          "output_type": "stream",
          "text": [
            "WARNING:root:Lossy conversion from float64 to uint8. Range [-1.0, 1.0]. Convert image to uint8 prior to saving to suppress this warning.\n",
            "WARNING:root:Lossy conversion from float64 to uint8. Range [-1.0, 0.9999997019767761]. Convert image to uint8 prior to saving to suppress this warning.\n"
          ],
          "name": "stderr"
        },
        {
          "output_type": "stream",
          "text": [
            "Iteration [ 2000/10000] | d_real_loss: 0.0000 | d_Y_loss: 0.0000 | d_X_loss: 0.0000 | d_fake_loss: 0.0000 | g_loss: 1.2068\n",
            "Saved question3_sample_dir_lambda-6_cyclegan/sample-002000-X-Y.png\n",
            "Saved question3_sample_dir_lambda-6_cyclegan/sample-002000-Y-X.png\n"
          ],
          "name": "stdout"
        },
        {
          "output_type": "stream",
          "text": [
            "WARNING:root:Lossy conversion from float64 to uint8. Range [-1.0, 1.0]. Convert image to uint8 prior to saving to suppress this warning.\n",
            "WARNING:root:Lossy conversion from float64 to uint8. Range [-1.0, 0.9999989867210388]. Convert image to uint8 prior to saving to suppress this warning.\n"
          ],
          "name": "stderr"
        },
        {
          "output_type": "stream",
          "text": [
            "Saved question3_sample_dir_lambda-6_cyclegan/sample-002200-X-Y.png\n",
            "Saved question3_sample_dir_lambda-6_cyclegan/sample-002200-Y-X.png\n"
          ],
          "name": "stdout"
        },
        {
          "output_type": "stream",
          "text": [
            "WARNING:root:Lossy conversion from float64 to uint8. Range [-1.0, 1.0]. Convert image to uint8 prior to saving to suppress this warning.\n",
            "WARNING:root:Lossy conversion from float64 to uint8. Range [-1.0, 0.999999463558197]. Convert image to uint8 prior to saving to suppress this warning.\n"
          ],
          "name": "stderr"
        },
        {
          "output_type": "stream",
          "text": [
            "Saved question3_sample_dir_lambda-6_cyclegan/sample-002400-X-Y.png\n",
            "Saved question3_sample_dir_lambda-6_cyclegan/sample-002400-Y-X.png\n",
            "Iteration [ 2500/10000] | d_real_loss: 0.0000 | d_Y_loss: 0.0000 | d_X_loss: 0.0000 | d_fake_loss: 0.0000 | g_loss: 1.2309\n"
          ],
          "name": "stdout"
        },
        {
          "output_type": "stream",
          "text": [
            "WARNING:root:Lossy conversion from float64 to uint8. Range [-1.0, 1.0]. Convert image to uint8 prior to saving to suppress this warning.\n",
            "WARNING:root:Lossy conversion from float64 to uint8. Range [-1.0, 0.9999997615814209]. Convert image to uint8 prior to saving to suppress this warning.\n"
          ],
          "name": "stderr"
        },
        {
          "output_type": "stream",
          "text": [
            "Saved question3_sample_dir_lambda-6_cyclegan/sample-002600-X-Y.png\n",
            "Saved question3_sample_dir_lambda-6_cyclegan/sample-002600-Y-X.png\n"
          ],
          "name": "stdout"
        },
        {
          "output_type": "stream",
          "text": [
            "WARNING:root:Lossy conversion from float64 to uint8. Range [-1.0, 1.0]. Convert image to uint8 prior to saving to suppress this warning.\n",
            "WARNING:root:Lossy conversion from float64 to uint8. Range [-1.0, 0.9999966025352478]. Convert image to uint8 prior to saving to suppress this warning.\n"
          ],
          "name": "stderr"
        },
        {
          "output_type": "stream",
          "text": [
            "Saved question3_sample_dir_lambda-6_cyclegan/sample-002800-X-Y.png\n",
            "Saved question3_sample_dir_lambda-6_cyclegan/sample-002800-Y-X.png\n"
          ],
          "name": "stdout"
        },
        {
          "output_type": "stream",
          "text": [
            "WARNING:root:Lossy conversion from float64 to uint8. Range [-1.0, 1.0]. Convert image to uint8 prior to saving to suppress this warning.\n",
            "WARNING:root:Lossy conversion from float64 to uint8. Range [-1.0, 0.9999992847442627]. Convert image to uint8 prior to saving to suppress this warning.\n"
          ],
          "name": "stderr"
        },
        {
          "output_type": "stream",
          "text": [
            "Iteration [ 3000/10000] | d_real_loss: 0.0000 | d_Y_loss: 0.0000 | d_X_loss: 0.0000 | d_fake_loss: 0.0000 | g_loss: 1.1831\n",
            "Saved question3_sample_dir_lambda-6_cyclegan/sample-003000-X-Y.png\n",
            "Saved question3_sample_dir_lambda-6_cyclegan/sample-003000-Y-X.png\n"
          ],
          "name": "stdout"
        },
        {
          "output_type": "stream",
          "text": [
            "WARNING:root:Lossy conversion from float64 to uint8. Range [-1.0, 1.0]. Convert image to uint8 prior to saving to suppress this warning.\n",
            "WARNING:root:Lossy conversion from float64 to uint8. Range [-1.0, 0.9999990463256836]. Convert image to uint8 prior to saving to suppress this warning.\n"
          ],
          "name": "stderr"
        },
        {
          "output_type": "stream",
          "text": [
            "Saved question3_sample_dir_lambda-6_cyclegan/sample-003200-X-Y.png\n",
            "Saved question3_sample_dir_lambda-6_cyclegan/sample-003200-Y-X.png\n"
          ],
          "name": "stdout"
        },
        {
          "output_type": "stream",
          "text": [
            "WARNING:root:Lossy conversion from float64 to uint8. Range [-1.0, 1.0]. Convert image to uint8 prior to saving to suppress this warning.\n",
            "WARNING:root:Lossy conversion from float64 to uint8. Range [-1.0, 0.9999991059303284]. Convert image to uint8 prior to saving to suppress this warning.\n"
          ],
          "name": "stderr"
        },
        {
          "output_type": "stream",
          "text": [
            "Saved question3_sample_dir_lambda-6_cyclegan/sample-003400-X-Y.png\n",
            "Saved question3_sample_dir_lambda-6_cyclegan/sample-003400-Y-X.png\n",
            "Iteration [ 3500/10000] | d_real_loss: 0.0000 | d_Y_loss: 0.0000 | d_X_loss: 0.0000 | d_fake_loss: 0.0000 | g_loss: 1.1229\n"
          ],
          "name": "stdout"
        },
        {
          "output_type": "stream",
          "text": [
            "WARNING:root:Lossy conversion from float64 to uint8. Range [-1.0, 1.0]. Convert image to uint8 prior to saving to suppress this warning.\n",
            "WARNING:root:Lossy conversion from float64 to uint8. Range [-1.0, 0.9999996423721313]. Convert image to uint8 prior to saving to suppress this warning.\n"
          ],
          "name": "stderr"
        },
        {
          "output_type": "stream",
          "text": [
            "Saved question3_sample_dir_lambda-6_cyclegan/sample-003600-X-Y.png\n",
            "Saved question3_sample_dir_lambda-6_cyclegan/sample-003600-Y-X.png\n"
          ],
          "name": "stdout"
        },
        {
          "output_type": "stream",
          "text": [
            "WARNING:root:Lossy conversion from float64 to uint8. Range [-1.0, 1.0]. Convert image to uint8 prior to saving to suppress this warning.\n",
            "WARNING:root:Lossy conversion from float64 to uint8. Range [-1.0, 0.9999995827674866]. Convert image to uint8 prior to saving to suppress this warning.\n"
          ],
          "name": "stderr"
        },
        {
          "output_type": "stream",
          "text": [
            "Saved question3_sample_dir_lambda-6_cyclegan/sample-003800-X-Y.png\n",
            "Saved question3_sample_dir_lambda-6_cyclegan/sample-003800-Y-X.png\n"
          ],
          "name": "stdout"
        },
        {
          "output_type": "stream",
          "text": [
            "WARNING:root:Lossy conversion from float64 to uint8. Range [-1.0, 1.0]. Convert image to uint8 prior to saving to suppress this warning.\n",
            "WARNING:root:Lossy conversion from float64 to uint8. Range [-1.0, 0.999999463558197]. Convert image to uint8 prior to saving to suppress this warning.\n"
          ],
          "name": "stderr"
        },
        {
          "output_type": "stream",
          "text": [
            "Iteration [ 4000/10000] | d_real_loss: 0.0000 | d_Y_loss: 0.0000 | d_X_loss: 0.0000 | d_fake_loss: 0.0000 | g_loss: 1.1574\n",
            "Saved question3_sample_dir_lambda-6_cyclegan/sample-004000-X-Y.png\n",
            "Saved question3_sample_dir_lambda-6_cyclegan/sample-004000-Y-X.png\n"
          ],
          "name": "stdout"
        },
        {
          "output_type": "stream",
          "text": [
            "WARNING:root:Lossy conversion from float64 to uint8. Range [-1.0, 1.0]. Convert image to uint8 prior to saving to suppress this warning.\n",
            "WARNING:root:Lossy conversion from float64 to uint8. Range [-1.0, 0.9999997615814209]. Convert image to uint8 prior to saving to suppress this warning.\n"
          ],
          "name": "stderr"
        },
        {
          "output_type": "stream",
          "text": [
            "Saved question3_sample_dir_lambda-6_cyclegan/sample-004200-X-Y.png\n",
            "Saved question3_sample_dir_lambda-6_cyclegan/sample-004200-Y-X.png\n"
          ],
          "name": "stdout"
        },
        {
          "output_type": "stream",
          "text": [
            "WARNING:root:Lossy conversion from float64 to uint8. Range [-1.0, 1.0]. Convert image to uint8 prior to saving to suppress this warning.\n",
            "WARNING:root:Lossy conversion from float64 to uint8. Range [-1.0, 0.999999463558197]. Convert image to uint8 prior to saving to suppress this warning.\n"
          ],
          "name": "stderr"
        },
        {
          "output_type": "stream",
          "text": [
            "Saved question3_sample_dir_lambda-6_cyclegan/sample-004400-X-Y.png\n",
            "Saved question3_sample_dir_lambda-6_cyclegan/sample-004400-Y-X.png\n",
            "Iteration [ 4500/10000] | d_real_loss: 0.0000 | d_Y_loss: 0.0000 | d_X_loss: 0.0000 | d_fake_loss: 0.0000 | g_loss: 1.1246\n"
          ],
          "name": "stdout"
        },
        {
          "output_type": "stream",
          "text": [
            "WARNING:root:Lossy conversion from float64 to uint8. Range [-1.0, 1.0]. Convert image to uint8 prior to saving to suppress this warning.\n",
            "WARNING:root:Lossy conversion from float64 to uint8. Range [-1.0, 0.9999992251396179]. Convert image to uint8 prior to saving to suppress this warning.\n"
          ],
          "name": "stderr"
        },
        {
          "output_type": "stream",
          "text": [
            "Saved question3_sample_dir_lambda-6_cyclegan/sample-004600-X-Y.png\n",
            "Saved question3_sample_dir_lambda-6_cyclegan/sample-004600-Y-X.png\n"
          ],
          "name": "stdout"
        },
        {
          "output_type": "stream",
          "text": [
            "WARNING:root:Lossy conversion from float64 to uint8. Range [-1.0, 1.0]. Convert image to uint8 prior to saving to suppress this warning.\n",
            "WARNING:root:Lossy conversion from float64 to uint8. Range [-1.0, 0.9999995827674866]. Convert image to uint8 prior to saving to suppress this warning.\n"
          ],
          "name": "stderr"
        },
        {
          "output_type": "stream",
          "text": [
            "Saved question3_sample_dir_lambda-6_cyclegan/sample-004800-X-Y.png\n",
            "Saved question3_sample_dir_lambda-6_cyclegan/sample-004800-Y-X.png\n"
          ],
          "name": "stdout"
        },
        {
          "output_type": "stream",
          "text": [
            "WARNING:root:Lossy conversion from float64 to uint8. Range [-1.0, 1.0]. Convert image to uint8 prior to saving to suppress this warning.\n",
            "WARNING:root:Lossy conversion from float64 to uint8. Range [-1.0, 0.9999993443489075]. Convert image to uint8 prior to saving to suppress this warning.\n"
          ],
          "name": "stderr"
        },
        {
          "output_type": "stream",
          "text": [
            "Iteration [ 5000/10000] | d_real_loss: 0.0000 | d_Y_loss: 0.0000 | d_X_loss: 0.0000 | d_fake_loss: 0.0000 | g_loss: 1.1334\n",
            "Saved question3_sample_dir_lambda-6_cyclegan/sample-005000-X-Y.png\n",
            "Saved question3_sample_dir_lambda-6_cyclegan/sample-005000-Y-X.png\n"
          ],
          "name": "stdout"
        },
        {
          "output_type": "stream",
          "text": [
            "WARNING:root:Lossy conversion from float64 to uint8. Range [-1.0, 1.0]. Convert image to uint8 prior to saving to suppress this warning.\n",
            "WARNING:root:Lossy conversion from float64 to uint8. Range [-1.0, 0.9999999403953552]. Convert image to uint8 prior to saving to suppress this warning.\n"
          ],
          "name": "stderr"
        },
        {
          "output_type": "stream",
          "text": [
            "Saved question3_sample_dir_lambda-6_cyclegan/sample-005200-X-Y.png\n",
            "Saved question3_sample_dir_lambda-6_cyclegan/sample-005200-Y-X.png\n"
          ],
          "name": "stdout"
        },
        {
          "output_type": "stream",
          "text": [
            "WARNING:root:Lossy conversion from float64 to uint8. Range [-1.0, 1.0]. Convert image to uint8 prior to saving to suppress this warning.\n",
            "WARNING:root:Lossy conversion from float64 to uint8. Range [-1.0, 1.0]. Convert image to uint8 prior to saving to suppress this warning.\n"
          ],
          "name": "stderr"
        },
        {
          "output_type": "stream",
          "text": [
            "Saved question3_sample_dir_lambda-6_cyclegan/sample-005400-X-Y.png\n",
            "Saved question3_sample_dir_lambda-6_cyclegan/sample-005400-Y-X.png\n",
            "Iteration [ 5500/10000] | d_real_loss: 0.0000 | d_Y_loss: 0.0000 | d_X_loss: 0.0000 | d_fake_loss: 0.0000 | g_loss: 1.1151\n"
          ],
          "name": "stdout"
        },
        {
          "output_type": "stream",
          "text": [
            "WARNING:root:Lossy conversion from float64 to uint8. Range [-1.0, 1.0]. Convert image to uint8 prior to saving to suppress this warning.\n",
            "WARNING:root:Lossy conversion from float64 to uint8. Range [-1.0, 0.9999999403953552]. Convert image to uint8 prior to saving to suppress this warning.\n"
          ],
          "name": "stderr"
        },
        {
          "output_type": "stream",
          "text": [
            "Saved question3_sample_dir_lambda-6_cyclegan/sample-005600-X-Y.png\n",
            "Saved question3_sample_dir_lambda-6_cyclegan/sample-005600-Y-X.png\n"
          ],
          "name": "stdout"
        },
        {
          "output_type": "stream",
          "text": [
            "WARNING:root:Lossy conversion from float64 to uint8. Range [-1.0, 1.0]. Convert image to uint8 prior to saving to suppress this warning.\n",
            "WARNING:root:Lossy conversion from float64 to uint8. Range [-1.0, 0.9999999403953552]. Convert image to uint8 prior to saving to suppress this warning.\n"
          ],
          "name": "stderr"
        },
        {
          "output_type": "stream",
          "text": [
            "Saved question3_sample_dir_lambda-6_cyclegan/sample-005800-X-Y.png\n",
            "Saved question3_sample_dir_lambda-6_cyclegan/sample-005800-Y-X.png\n"
          ],
          "name": "stdout"
        },
        {
          "output_type": "stream",
          "text": [
            "WARNING:root:Lossy conversion from float64 to uint8. Range [-1.0, 1.0]. Convert image to uint8 prior to saving to suppress this warning.\n",
            "WARNING:root:Lossy conversion from float64 to uint8. Range [-1.0, 0.9999999403953552]. Convert image to uint8 prior to saving to suppress this warning.\n"
          ],
          "name": "stderr"
        },
        {
          "output_type": "stream",
          "text": [
            "Iteration [ 6000/10000] | d_real_loss: 0.0000 | d_Y_loss: 0.0000 | d_X_loss: 0.0000 | d_fake_loss: 0.0000 | g_loss: 1.1133\n",
            "Saved question3_sample_dir_lambda-6_cyclegan/sample-006000-X-Y.png\n",
            "Saved question3_sample_dir_lambda-6_cyclegan/sample-006000-Y-X.png\n"
          ],
          "name": "stdout"
        },
        {
          "output_type": "stream",
          "text": [
            "WARNING:root:Lossy conversion from float64 to uint8. Range [-1.0, 1.0]. Convert image to uint8 prior to saving to suppress this warning.\n",
            "WARNING:root:Lossy conversion from float64 to uint8. Range [-1.0, 0.9999999403953552]. Convert image to uint8 prior to saving to suppress this warning.\n"
          ],
          "name": "stderr"
        },
        {
          "output_type": "stream",
          "text": [
            "Saved question3_sample_dir_lambda-6_cyclegan/sample-006200-X-Y.png\n",
            "Saved question3_sample_dir_lambda-6_cyclegan/sample-006200-Y-X.png\n"
          ],
          "name": "stdout"
        },
        {
          "output_type": "stream",
          "text": [
            "WARNING:root:Lossy conversion from float64 to uint8. Range [-1.0, 1.0]. Convert image to uint8 prior to saving to suppress this warning.\n",
            "WARNING:root:Lossy conversion from float64 to uint8. Range [-1.0, 1.0]. Convert image to uint8 prior to saving to suppress this warning.\n"
          ],
          "name": "stderr"
        },
        {
          "output_type": "stream",
          "text": [
            "Saved question3_sample_dir_lambda-6_cyclegan/sample-006400-X-Y.png\n",
            "Saved question3_sample_dir_lambda-6_cyclegan/sample-006400-Y-X.png\n",
            "Iteration [ 6500/10000] | d_real_loss: 0.0000 | d_Y_loss: 0.0000 | d_X_loss: 0.0000 | d_fake_loss: 0.0000 | g_loss: 1.1054\n"
          ],
          "name": "stdout"
        },
        {
          "output_type": "stream",
          "text": [
            "WARNING:root:Lossy conversion from float64 to uint8. Range [-1.0, 1.0]. Convert image to uint8 prior to saving to suppress this warning.\n",
            "WARNING:root:Lossy conversion from float64 to uint8. Range [-1.0, 0.9999999403953552]. Convert image to uint8 prior to saving to suppress this warning.\n"
          ],
          "name": "stderr"
        },
        {
          "output_type": "stream",
          "text": [
            "Saved question3_sample_dir_lambda-6_cyclegan/sample-006600-X-Y.png\n",
            "Saved question3_sample_dir_lambda-6_cyclegan/sample-006600-Y-X.png\n"
          ],
          "name": "stdout"
        },
        {
          "output_type": "stream",
          "text": [
            "WARNING:root:Lossy conversion from float64 to uint8. Range [-1.0, 1.0]. Convert image to uint8 prior to saving to suppress this warning.\n",
            "WARNING:root:Lossy conversion from float64 to uint8. Range [-1.0, 0.9999998807907104]. Convert image to uint8 prior to saving to suppress this warning.\n"
          ],
          "name": "stderr"
        },
        {
          "output_type": "stream",
          "text": [
            "Saved question3_sample_dir_lambda-6_cyclegan/sample-006800-X-Y.png\n",
            "Saved question3_sample_dir_lambda-6_cyclegan/sample-006800-Y-X.png\n"
          ],
          "name": "stdout"
        },
        {
          "output_type": "stream",
          "text": [
            "WARNING:root:Lossy conversion from float64 to uint8. Range [-1.0, 1.0]. Convert image to uint8 prior to saving to suppress this warning.\n",
            "WARNING:root:Lossy conversion from float64 to uint8. Range [-1.0, 0.9999999403953552]. Convert image to uint8 prior to saving to suppress this warning.\n"
          ],
          "name": "stderr"
        },
        {
          "output_type": "stream",
          "text": [
            "Iteration [ 7000/10000] | d_real_loss: 0.0000 | d_Y_loss: 0.0000 | d_X_loss: 0.0000 | d_fake_loss: 0.0000 | g_loss: 1.1293\n",
            "Saved question3_sample_dir_lambda-6_cyclegan/sample-007000-X-Y.png\n",
            "Saved question3_sample_dir_lambda-6_cyclegan/sample-007000-Y-X.png\n"
          ],
          "name": "stdout"
        },
        {
          "output_type": "stream",
          "text": [
            "WARNING:root:Lossy conversion from float64 to uint8. Range [-1.0, 1.0]. Convert image to uint8 prior to saving to suppress this warning.\n",
            "WARNING:root:Lossy conversion from float64 to uint8. Range [-1.0, 1.0]. Convert image to uint8 prior to saving to suppress this warning.\n"
          ],
          "name": "stderr"
        },
        {
          "output_type": "stream",
          "text": [
            "Saved question3_sample_dir_lambda-6_cyclegan/sample-007200-X-Y.png\n",
            "Saved question3_sample_dir_lambda-6_cyclegan/sample-007200-Y-X.png\n"
          ],
          "name": "stdout"
        },
        {
          "output_type": "stream",
          "text": [
            "WARNING:root:Lossy conversion from float64 to uint8. Range [-1.0, 1.0]. Convert image to uint8 prior to saving to suppress this warning.\n",
            "WARNING:root:Lossy conversion from float64 to uint8. Range [-1.0, 1.0]. Convert image to uint8 prior to saving to suppress this warning.\n"
          ],
          "name": "stderr"
        },
        {
          "output_type": "stream",
          "text": [
            "Saved question3_sample_dir_lambda-6_cyclegan/sample-007400-X-Y.png\n",
            "Saved question3_sample_dir_lambda-6_cyclegan/sample-007400-Y-X.png\n",
            "Iteration [ 7500/10000] | d_real_loss: 0.0000 | d_Y_loss: 0.0000 | d_X_loss: 0.0000 | d_fake_loss: 0.0000 | g_loss: 1.1029\n"
          ],
          "name": "stdout"
        },
        {
          "output_type": "stream",
          "text": [
            "WARNING:root:Lossy conversion from float64 to uint8. Range [-1.0, 1.0]. Convert image to uint8 prior to saving to suppress this warning.\n",
            "WARNING:root:Lossy conversion from float64 to uint8. Range [-1.0, 0.9999999403953552]. Convert image to uint8 prior to saving to suppress this warning.\n"
          ],
          "name": "stderr"
        },
        {
          "output_type": "stream",
          "text": [
            "Saved question3_sample_dir_lambda-6_cyclegan/sample-007600-X-Y.png\n",
            "Saved question3_sample_dir_lambda-6_cyclegan/sample-007600-Y-X.png\n"
          ],
          "name": "stdout"
        },
        {
          "output_type": "stream",
          "text": [
            "WARNING:root:Lossy conversion from float64 to uint8. Range [-1.0, 1.0]. Convert image to uint8 prior to saving to suppress this warning.\n",
            "WARNING:root:Lossy conversion from float64 to uint8. Range [-1.0, 0.9999978542327881]. Convert image to uint8 prior to saving to suppress this warning.\n"
          ],
          "name": "stderr"
        },
        {
          "output_type": "stream",
          "text": [
            "Saved question3_sample_dir_lambda-6_cyclegan/sample-007800-X-Y.png\n",
            "Saved question3_sample_dir_lambda-6_cyclegan/sample-007800-Y-X.png\n"
          ],
          "name": "stdout"
        },
        {
          "output_type": "stream",
          "text": [
            "WARNING:root:Lossy conversion from float64 to uint8. Range [-1.0, 1.0]. Convert image to uint8 prior to saving to suppress this warning.\n",
            "WARNING:root:Lossy conversion from float64 to uint8. Range [-1.0, 0.9999998211860657]. Convert image to uint8 prior to saving to suppress this warning.\n"
          ],
          "name": "stderr"
        },
        {
          "output_type": "stream",
          "text": [
            "Iteration [ 8000/10000] | d_real_loss: 0.0000 | d_Y_loss: 0.0000 | d_X_loss: 0.0000 | d_fake_loss: 0.0000 | g_loss: 1.1743\n",
            "Saved question3_sample_dir_lambda-6_cyclegan/sample-008000-X-Y.png\n",
            "Saved question3_sample_dir_lambda-6_cyclegan/sample-008000-Y-X.png\n"
          ],
          "name": "stdout"
        },
        {
          "output_type": "stream",
          "text": [
            "WARNING:root:Lossy conversion from float64 to uint8. Range [-1.0, 1.0]. Convert image to uint8 prior to saving to suppress this warning.\n",
            "WARNING:root:Lossy conversion from float64 to uint8. Range [-1.0, 0.9999998211860657]. Convert image to uint8 prior to saving to suppress this warning.\n"
          ],
          "name": "stderr"
        },
        {
          "output_type": "stream",
          "text": [
            "Saved question3_sample_dir_lambda-6_cyclegan/sample-008200-X-Y.png\n",
            "Saved question3_sample_dir_lambda-6_cyclegan/sample-008200-Y-X.png\n"
          ],
          "name": "stdout"
        },
        {
          "output_type": "stream",
          "text": [
            "WARNING:root:Lossy conversion from float64 to uint8. Range [-1.0, 1.0]. Convert image to uint8 prior to saving to suppress this warning.\n",
            "WARNING:root:Lossy conversion from float64 to uint8. Range [-1.0, 0.9999999403953552]. Convert image to uint8 prior to saving to suppress this warning.\n"
          ],
          "name": "stderr"
        },
        {
          "output_type": "stream",
          "text": [
            "Saved question3_sample_dir_lambda-6_cyclegan/sample-008400-X-Y.png\n",
            "Saved question3_sample_dir_lambda-6_cyclegan/sample-008400-Y-X.png\n",
            "Iteration [ 8500/10000] | d_real_loss: 0.0000 | d_Y_loss: 0.0000 | d_X_loss: 0.0000 | d_fake_loss: 0.0000 | g_loss: 1.1119\n"
          ],
          "name": "stdout"
        },
        {
          "output_type": "stream",
          "text": [
            "WARNING:root:Lossy conversion from float64 to uint8. Range [-1.0, 1.0]. Convert image to uint8 prior to saving to suppress this warning.\n",
            "WARNING:root:Lossy conversion from float64 to uint8. Range [-1.0, 0.9999998807907104]. Convert image to uint8 prior to saving to suppress this warning.\n"
          ],
          "name": "stderr"
        },
        {
          "output_type": "stream",
          "text": [
            "Saved question3_sample_dir_lambda-6_cyclegan/sample-008600-X-Y.png\n",
            "Saved question3_sample_dir_lambda-6_cyclegan/sample-008600-Y-X.png\n"
          ],
          "name": "stdout"
        },
        {
          "output_type": "stream",
          "text": [
            "WARNING:root:Lossy conversion from float64 to uint8. Range [-1.0, 1.0]. Convert image to uint8 prior to saving to suppress this warning.\n",
            "WARNING:root:Lossy conversion from float64 to uint8. Range [-1.0, 0.9999999403953552]. Convert image to uint8 prior to saving to suppress this warning.\n"
          ],
          "name": "stderr"
        },
        {
          "output_type": "stream",
          "text": [
            "Saved question3_sample_dir_lambda-6_cyclegan/sample-008800-X-Y.png\n",
            "Saved question3_sample_dir_lambda-6_cyclegan/sample-008800-Y-X.png\n"
          ],
          "name": "stdout"
        },
        {
          "output_type": "stream",
          "text": [
            "WARNING:root:Lossy conversion from float64 to uint8. Range [-1.0, 1.0]. Convert image to uint8 prior to saving to suppress this warning.\n",
            "WARNING:root:Lossy conversion from float64 to uint8. Range [-1.0, 0.9999993443489075]. Convert image to uint8 prior to saving to suppress this warning.\n"
          ],
          "name": "stderr"
        },
        {
          "output_type": "stream",
          "text": [
            "Iteration [ 9000/10000] | d_real_loss: 0.0000 | d_Y_loss: 0.0000 | d_X_loss: 0.0000 | d_fake_loss: 0.0000 | g_loss: 1.1223\n",
            "Saved question3_sample_dir_lambda-6_cyclegan/sample-009000-X-Y.png\n",
            "Saved question3_sample_dir_lambda-6_cyclegan/sample-009000-Y-X.png\n"
          ],
          "name": "stdout"
        },
        {
          "output_type": "stream",
          "text": [
            "WARNING:root:Lossy conversion from float64 to uint8. Range [-1.0, 1.0]. Convert image to uint8 prior to saving to suppress this warning.\n",
            "WARNING:root:Lossy conversion from float64 to uint8. Range [-1.0, 0.9999997615814209]. Convert image to uint8 prior to saving to suppress this warning.\n"
          ],
          "name": "stderr"
        },
        {
          "output_type": "stream",
          "text": [
            "Saved question3_sample_dir_lambda-6_cyclegan/sample-009200-X-Y.png\n",
            "Saved question3_sample_dir_lambda-6_cyclegan/sample-009200-Y-X.png\n"
          ],
          "name": "stdout"
        },
        {
          "output_type": "stream",
          "text": [
            "WARNING:root:Lossy conversion from float64 to uint8. Range [-1.0, 1.0]. Convert image to uint8 prior to saving to suppress this warning.\n",
            "WARNING:root:Lossy conversion from float64 to uint8. Range [-1.0, 0.9999998211860657]. Convert image to uint8 prior to saving to suppress this warning.\n"
          ],
          "name": "stderr"
        },
        {
          "output_type": "stream",
          "text": [
            "Saved question3_sample_dir_lambda-6_cyclegan/sample-009400-X-Y.png\n",
            "Saved question3_sample_dir_lambda-6_cyclegan/sample-009400-Y-X.png\n",
            "Iteration [ 9500/10000] | d_real_loss: 0.0000 | d_Y_loss: 0.0000 | d_X_loss: 0.0000 | d_fake_loss: 0.0000 | g_loss: 1.1588\n"
          ],
          "name": "stdout"
        },
        {
          "output_type": "stream",
          "text": [
            "WARNING:root:Lossy conversion from float64 to uint8. Range [-1.0, 1.0]. Convert image to uint8 prior to saving to suppress this warning.\n",
            "WARNING:root:Lossy conversion from float64 to uint8. Range [-1.0, 0.9999998807907104]. Convert image to uint8 prior to saving to suppress this warning.\n"
          ],
          "name": "stderr"
        },
        {
          "output_type": "stream",
          "text": [
            "Saved question3_sample_dir_lambda-6_cyclegan/sample-009600-X-Y.png\n",
            "Saved question3_sample_dir_lambda-6_cyclegan/sample-009600-Y-X.png\n"
          ],
          "name": "stdout"
        },
        {
          "output_type": "stream",
          "text": [
            "WARNING:root:Lossy conversion from float64 to uint8. Range [-1.0, 1.0]. Convert image to uint8 prior to saving to suppress this warning.\n",
            "WARNING:root:Lossy conversion from float64 to uint8. Range [-1.0, 0.9999999403953552]. Convert image to uint8 prior to saving to suppress this warning.\n"
          ],
          "name": "stderr"
        },
        {
          "output_type": "stream",
          "text": [
            "Saved question3_sample_dir_lambda-6_cyclegan/sample-009800-X-Y.png\n",
            "Saved question3_sample_dir_lambda-6_cyclegan/sample-009800-Y-X.png\n"
          ],
          "name": "stdout"
        },
        {
          "output_type": "stream",
          "text": [
            "WARNING:root:Lossy conversion from float64 to uint8. Range [-1.0, 1.0]. Convert image to uint8 prior to saving to suppress this warning.\n",
            "WARNING:root:Lossy conversion from float64 to uint8. Range [-1.0, 0.9999999403953552]. Convert image to uint8 prior to saving to suppress this warning.\n"
          ],
          "name": "stderr"
        },
        {
          "output_type": "stream",
          "text": [
            "Iteration [10000/10000] | d_real_loss: 0.0000 | d_Y_loss: 0.0000 | d_X_loss: 0.0000 | d_fake_loss: 0.0000 | g_loss: 1.1103\n",
            "Saved question3_sample_dir_lambda-6_cyclegan/sample-010000-X-Y.png\n",
            "Saved question3_sample_dir_lambda-6_cyclegan/sample-010000-Y-X.png\n"
          ],
          "name": "stdout"
        }
      ]
    },
    {
      "cell_type": "code",
      "metadata": {
        "colab": {
          "base_uri": "https://localhost:8080/"
        },
        "id": "uGflMurawT-h",
        "outputId": "381eb1da-e84c-4250-f1a3-dca259e9002f"
      },
      "source": [
        "opts.use_cycle_consistency_loss = False\n",
        "opts.train_iters = 10000\n",
        "opts.log_step = 500\n",
        "opts.sample_every = 200\n",
        "opts.checkpoint_every = 2000\n",
        "\n",
        "my_lambda = 0\n",
        "opts.checkpoint_dir = 'question3_checkpoint_lambda-'+str(my_lambda)+'_cyclegan'\n",
        "opts.sample_dir = 'question3_sample_dir_lambda-'+str(my_lambda)+'_cyclegan'\n",
        "print_opts(opts)\n",
        "main(opts)"
      ],
      "execution_count": null,
      "outputs": [
        {
          "output_type": "stream",
          "text": [
            "================================================================================\n",
            "                                      Opts                                      \n",
            "--------------------------------------------------------------------------------\n",
            "                             image_size: 28                                     \n",
            "                             g_conv_dim: 64                                     \n",
            "                             d_conv_dim: 64                                     \n",
            "                            train_iters: 10000                                  \n",
            "                             batch_size: 16                                     \n",
            "                                     lr: 0.0003                                 \n",
            "                                  beta1: 0.5                                    \n",
            "                                  beta2: 0.999                                  \n",
            "                     checkpoint_dir: question3_checkpoint_lambda-0_cyclegan     \n",
            "                         sample_dir: question3_sample_dir_lambda-0_cyclegan     \n",
            "                               log_step: 500                                    \n",
            "                           sample_every: 200                                    \n",
            "                       checkpoint_every: 2000                                   \n",
            "                               CClambda: 6                                      \n",
            "================================================================================\n",
            "                 G_XtoY                \n",
            "---------------------------------------\n",
            "CycleGenerator(\n",
            "  (conv1): Sequential(\n",
            "    (0): Conv2d(1, 32, kernel_size=(4, 4), stride=(2, 2), padding=(1, 1), bias=False)\n",
            "    (1): BatchNorm2d(32, eps=1e-05, momentum=0.1, affine=True, track_running_stats=True)\n",
            "  )\n",
            "  (conv2): Sequential(\n",
            "    (0): Conv2d(32, 64, kernel_size=(4, 4), stride=(2, 2), padding=(1, 1), bias=False)\n",
            "    (1): BatchNorm2d(64, eps=1e-05, momentum=0.1, affine=True, track_running_stats=True)\n",
            "  )\n",
            "  (resnet_block): ResnetBlock(\n",
            "    (conv_layer): Sequential(\n",
            "      (0): Conv2d(64, 64, kernel_size=(3, 3), stride=(1, 1), padding=(1, 1), bias=False)\n",
            "      (1): BatchNorm2d(64, eps=1e-05, momentum=0.1, affine=True, track_running_stats=True)\n",
            "    )\n",
            "  )\n",
            "  (deconv1): Sequential(\n",
            "    (0): ConvTranspose2d(64, 32, kernel_size=(4, 4), stride=(2, 2), padding=(1, 1), bias=False)\n",
            "    (1): BatchNorm2d(32, eps=1e-05, momentum=0.1, affine=True, track_running_stats=True)\n",
            "  )\n",
            "  (deconv2): Sequential(\n",
            "    (0): ConvTranspose2d(32, 1, kernel_size=(4, 4), stride=(2, 2), padding=(1, 1), bias=False)\n",
            "    (1): BatchNorm2d(1, eps=1e-05, momentum=0.1, affine=True, track_running_stats=True)\n",
            "  )\n",
            ")\n",
            "---------------------------------------\n",
            "                 G_YtoX                \n",
            "---------------------------------------\n",
            "CycleGenerator(\n",
            "  (conv1): Sequential(\n",
            "    (0): Conv2d(1, 32, kernel_size=(4, 4), stride=(2, 2), padding=(1, 1), bias=False)\n",
            "    (1): BatchNorm2d(32, eps=1e-05, momentum=0.1, affine=True, track_running_stats=True)\n",
            "  )\n",
            "  (conv2): Sequential(\n",
            "    (0): Conv2d(32, 64, kernel_size=(4, 4), stride=(2, 2), padding=(1, 1), bias=False)\n",
            "    (1): BatchNorm2d(64, eps=1e-05, momentum=0.1, affine=True, track_running_stats=True)\n",
            "  )\n",
            "  (resnet_block): ResnetBlock(\n",
            "    (conv_layer): Sequential(\n",
            "      (0): Conv2d(64, 64, kernel_size=(3, 3), stride=(1, 1), padding=(1, 1), bias=False)\n",
            "      (1): BatchNorm2d(64, eps=1e-05, momentum=0.1, affine=True, track_running_stats=True)\n",
            "    )\n",
            "  )\n",
            "  (deconv1): Sequential(\n",
            "    (0): ConvTranspose2d(64, 32, kernel_size=(4, 4), stride=(2, 2), padding=(1, 1), bias=False)\n",
            "    (1): BatchNorm2d(32, eps=1e-05, momentum=0.1, affine=True, track_running_stats=True)\n",
            "  )\n",
            "  (deconv2): Sequential(\n",
            "    (0): ConvTranspose2d(32, 1, kernel_size=(4, 4), stride=(2, 2), padding=(1, 1), bias=False)\n",
            "    (1): BatchNorm2d(1, eps=1e-05, momentum=0.1, affine=True, track_running_stats=True)\n",
            "  )\n",
            ")\n",
            "---------------------------------------\n",
            "                  D_X                  \n",
            "---------------------------------------\n",
            "DCDiscriminator(\n",
            "  (conv1): Sequential(\n",
            "    (0): Conv2d(1, 32, kernel_size=(4, 4), stride=(2, 2), padding=(1, 1), bias=False)\n",
            "    (1): BatchNorm2d(32, eps=1e-05, momentum=0.1, affine=True, track_running_stats=True)\n",
            "  )\n",
            "  (conv2): Sequential(\n",
            "    (0): Conv2d(32, 64, kernel_size=(4, 4), stride=(2, 2), padding=(1, 1), bias=False)\n",
            "    (1): BatchNorm2d(64, eps=1e-05, momentum=0.1, affine=True, track_running_stats=True)\n",
            "  )\n",
            "  (conv3): Sequential(\n",
            "    (0): Conv2d(64, 128, kernel_size=(4, 4), stride=(2, 2), padding=(1, 1), bias=False)\n",
            "    (1): BatchNorm2d(128, eps=1e-05, momentum=0.1, affine=True, track_running_stats=True)\n",
            "  )\n",
            "  (conv4): Sequential(\n",
            "    (0): Conv2d(128, 1, kernel_size=(3, 3), stride=(4, 4), bias=False)\n",
            "  )\n",
            ")\n",
            "---------------------------------------\n",
            "                  D_Y                  \n",
            "---------------------------------------\n",
            "DCDiscriminator(\n",
            "  (conv1): Sequential(\n",
            "    (0): Conv2d(1, 32, kernel_size=(4, 4), stride=(2, 2), padding=(1, 1), bias=False)\n",
            "    (1): BatchNorm2d(32, eps=1e-05, momentum=0.1, affine=True, track_running_stats=True)\n",
            "  )\n",
            "  (conv2): Sequential(\n",
            "    (0): Conv2d(32, 64, kernel_size=(4, 4), stride=(2, 2), padding=(1, 1), bias=False)\n",
            "    (1): BatchNorm2d(64, eps=1e-05, momentum=0.1, affine=True, track_running_stats=True)\n",
            "  )\n",
            "  (conv3): Sequential(\n",
            "    (0): Conv2d(64, 128, kernel_size=(4, 4), stride=(2, 2), padding=(1, 1), bias=False)\n",
            "    (1): BatchNorm2d(128, eps=1e-05, momentum=0.1, affine=True, track_running_stats=True)\n",
            "  )\n",
            "  (conv4): Sequential(\n",
            "    (0): Conv2d(128, 1, kernel_size=(3, 3), stride=(4, 4), bias=False)\n",
            "  )\n",
            ")\n",
            "---------------------------------------\n",
            "Models moved to GPU.\n"
          ],
          "name": "stdout"
        },
        {
          "output_type": "stream",
          "text": [
            "/usr/local/lib/python3.7/dist-packages/torch/nn/functional.py:1709: UserWarning: nn.functional.sigmoid is deprecated. Use torch.sigmoid instead.\n",
            "  warnings.warn(\"nn.functional.sigmoid is deprecated. Use torch.sigmoid instead.\")\n",
            "/usr/local/lib/python3.7/dist-packages/torch/nn/functional.py:1698: UserWarning: nn.functional.tanh is deprecated. Use torch.tanh instead.\n",
            "  warnings.warn(\"nn.functional.tanh is deprecated. Use torch.tanh instead.\")\n",
            "WARNING:root:Lossy conversion from float64 to uint8. Range [-0.9995154738426208, 1.0]. Convert image to uint8 prior to saving to suppress this warning.\n",
            "WARNING:root:Lossy conversion from float64 to uint8. Range [-0.9997776746749878, 1.0]. Convert image to uint8 prior to saving to suppress this warning.\n"
          ],
          "name": "stderr"
        },
        {
          "output_type": "stream",
          "text": [
            "Saved question3_sample_dir_lambda-0_cyclegan/sample-000200-X-Y.png\n",
            "Saved question3_sample_dir_lambda-0_cyclegan/sample-000200-Y-X.png\n"
          ],
          "name": "stdout"
        },
        {
          "output_type": "stream",
          "text": [
            "WARNING:root:Lossy conversion from float64 to uint8. Range [-0.9999969601631165, 1.0]. Convert image to uint8 prior to saving to suppress this warning.\n",
            "WARNING:root:Lossy conversion from float64 to uint8. Range [-0.8974285125732422, 1.0]. Convert image to uint8 prior to saving to suppress this warning.\n"
          ],
          "name": "stderr"
        },
        {
          "output_type": "stream",
          "text": [
            "Saved question3_sample_dir_lambda-0_cyclegan/sample-000400-X-Y.png\n",
            "Saved question3_sample_dir_lambda-0_cyclegan/sample-000400-Y-X.png\n",
            "Iteration [  500/10000] | d_real_loss: 0.1500 | d_Y_loss: 0.0002 | d_X_loss: 0.0045 | d_fake_loss: 0.0047 | g_loss: 0.9840\n"
          ],
          "name": "stdout"
        },
        {
          "output_type": "stream",
          "text": [
            "WARNING:root:Lossy conversion from float64 to uint8. Range [-0.9999999403953552, 1.0]. Convert image to uint8 prior to saving to suppress this warning.\n",
            "WARNING:root:Lossy conversion from float64 to uint8. Range [-0.636867880821228, 0.9999995231628418]. Convert image to uint8 prior to saving to suppress this warning.\n"
          ],
          "name": "stderr"
        },
        {
          "output_type": "stream",
          "text": [
            "Saved question3_sample_dir_lambda-0_cyclegan/sample-000600-X-Y.png\n",
            "Saved question3_sample_dir_lambda-0_cyclegan/sample-000600-Y-X.png\n"
          ],
          "name": "stdout"
        },
        {
          "output_type": "stream",
          "text": [
            "WARNING:root:Lossy conversion from float64 to uint8. Range [-1.0, 1.0]. Convert image to uint8 prior to saving to suppress this warning.\n",
            "WARNING:root:Lossy conversion from float64 to uint8. Range [-0.5146275758743286, 0.9999927878379822]. Convert image to uint8 prior to saving to suppress this warning.\n"
          ],
          "name": "stderr"
        },
        {
          "output_type": "stream",
          "text": [
            "Saved question3_sample_dir_lambda-0_cyclegan/sample-000800-X-Y.png\n",
            "Saved question3_sample_dir_lambda-0_cyclegan/sample-000800-Y-X.png\n"
          ],
          "name": "stdout"
        },
        {
          "output_type": "stream",
          "text": [
            "WARNING:root:Lossy conversion from float64 to uint8. Range [-0.9999924302101135, 1.0]. Convert image to uint8 prior to saving to suppress this warning.\n",
            "WARNING:root:Lossy conversion from float64 to uint8. Range [-0.6241378784179688, 0.9999973773956299]. Convert image to uint8 prior to saving to suppress this warning.\n"
          ],
          "name": "stderr"
        },
        {
          "output_type": "stream",
          "text": [
            "Iteration [ 1000/10000] | d_real_loss: 0.0002 | d_Y_loss: 0.0000 | d_X_loss: 0.0017 | d_fake_loss: 0.0017 | g_loss: 0.9963\n",
            "Saved question3_sample_dir_lambda-0_cyclegan/sample-001000-X-Y.png\n",
            "Saved question3_sample_dir_lambda-0_cyclegan/sample-001000-Y-X.png\n"
          ],
          "name": "stdout"
        },
        {
          "output_type": "stream",
          "text": [
            "WARNING:root:Lossy conversion from float64 to uint8. Range [-0.9999943971633911, 1.0]. Convert image to uint8 prior to saving to suppress this warning.\n",
            "WARNING:root:Lossy conversion from float64 to uint8. Range [-0.3795909583568573, 0.9998839497566223]. Convert image to uint8 prior to saving to suppress this warning.\n"
          ],
          "name": "stderr"
        },
        {
          "output_type": "stream",
          "text": [
            "Saved question3_sample_dir_lambda-0_cyclegan/sample-001200-X-Y.png\n",
            "Saved question3_sample_dir_lambda-0_cyclegan/sample-001200-Y-X.png\n"
          ],
          "name": "stdout"
        },
        {
          "output_type": "stream",
          "text": [
            "WARNING:root:Lossy conversion from float64 to uint8. Range [-0.9999999403953552, 1.0]. Convert image to uint8 prior to saving to suppress this warning.\n",
            "WARNING:root:Lossy conversion from float64 to uint8. Range [-0.5226810574531555, 0.9997912645339966]. Convert image to uint8 prior to saving to suppress this warning.\n"
          ],
          "name": "stderr"
        },
        {
          "output_type": "stream",
          "text": [
            "Saved question3_sample_dir_lambda-0_cyclegan/sample-001400-X-Y.png\n",
            "Saved question3_sample_dir_lambda-0_cyclegan/sample-001400-Y-X.png\n",
            "Iteration [ 1500/10000] | d_real_loss: 0.0128 | d_Y_loss: 0.0000 | d_X_loss: 0.0015 | d_fake_loss: 0.0015 | g_loss: 0.9956\n"
          ],
          "name": "stdout"
        },
        {
          "output_type": "stream",
          "text": [
            "WARNING:root:Lossy conversion from float64 to uint8. Range [-0.9999996423721313, 1.0]. Convert image to uint8 prior to saving to suppress this warning.\n",
            "WARNING:root:Lossy conversion from float64 to uint8. Range [-0.3220701515674591, 0.9978641271591187]. Convert image to uint8 prior to saving to suppress this warning.\n"
          ],
          "name": "stderr"
        },
        {
          "output_type": "stream",
          "text": [
            "Saved question3_sample_dir_lambda-0_cyclegan/sample-001600-X-Y.png\n",
            "Saved question3_sample_dir_lambda-0_cyclegan/sample-001600-Y-X.png\n"
          ],
          "name": "stdout"
        },
        {
          "output_type": "stream",
          "text": [
            "WARNING:root:Lossy conversion from float64 to uint8. Range [-0.9999990463256836, 1.0]. Convert image to uint8 prior to saving to suppress this warning.\n",
            "WARNING:root:Lossy conversion from float64 to uint8. Range [-0.3177962899208069, 0.9961947798728943]. Convert image to uint8 prior to saving to suppress this warning.\n"
          ],
          "name": "stderr"
        },
        {
          "output_type": "stream",
          "text": [
            "Saved question3_sample_dir_lambda-0_cyclegan/sample-001800-X-Y.png\n",
            "Saved question3_sample_dir_lambda-0_cyclegan/sample-001800-Y-X.png\n"
          ],
          "name": "stdout"
        },
        {
          "output_type": "stream",
          "text": [
            "WARNING:root:Lossy conversion from float64 to uint8. Range [-0.999999463558197, 1.0]. Convert image to uint8 prior to saving to suppress this warning.\n",
            "WARNING:root:Lossy conversion from float64 to uint8. Range [-0.3778305649757385, 0.9960784316062927]. Convert image to uint8 prior to saving to suppress this warning.\n"
          ],
          "name": "stderr"
        },
        {
          "output_type": "stream",
          "text": [
            "Iteration [ 2000/10000] | d_real_loss: 0.0029 | d_Y_loss: 0.0000 | d_X_loss: 0.0032 | d_fake_loss: 0.0032 | g_loss: 0.9970\n",
            "Saved question3_sample_dir_lambda-0_cyclegan/sample-002000-X-Y.png\n",
            "Saved question3_sample_dir_lambda-0_cyclegan/sample-002000-Y-X.png\n"
          ],
          "name": "stdout"
        },
        {
          "output_type": "stream",
          "text": [
            "WARNING:root:Lossy conversion from float64 to uint8. Range [-1.0, 1.0]. Convert image to uint8 prior to saving to suppress this warning.\n",
            "WARNING:root:Lossy conversion from float64 to uint8. Range [-0.31649455428123474, 0.9960784316062927]. Convert image to uint8 prior to saving to suppress this warning.\n"
          ],
          "name": "stderr"
        },
        {
          "output_type": "stream",
          "text": [
            "Saved question3_sample_dir_lambda-0_cyclegan/sample-002200-X-Y.png\n",
            "Saved question3_sample_dir_lambda-0_cyclegan/sample-002200-Y-X.png\n"
          ],
          "name": "stdout"
        },
        {
          "output_type": "stream",
          "text": [
            "WARNING:root:Lossy conversion from float64 to uint8. Range [-0.9999899864196777, 1.0]. Convert image to uint8 prior to saving to suppress this warning.\n",
            "WARNING:root:Lossy conversion from float64 to uint8. Range [-0.3022540807723999, 0.996324896812439]. Convert image to uint8 prior to saving to suppress this warning.\n"
          ],
          "name": "stderr"
        },
        {
          "output_type": "stream",
          "text": [
            "Saved question3_sample_dir_lambda-0_cyclegan/sample-002400-X-Y.png\n",
            "Saved question3_sample_dir_lambda-0_cyclegan/sample-002400-Y-X.png\n",
            "Iteration [ 2500/10000] | d_real_loss: 0.0006 | d_Y_loss: 0.0000 | d_X_loss: 0.0017 | d_fake_loss: 0.0017 | g_loss: 0.9995\n"
          ],
          "name": "stdout"
        },
        {
          "output_type": "stream",
          "text": [
            "WARNING:root:Lossy conversion from float64 to uint8. Range [-0.9892130494117737, 1.0]. Convert image to uint8 prior to saving to suppress this warning.\n",
            "WARNING:root:Lossy conversion from float64 to uint8. Range [-0.513994038105011, 0.9965903759002686]. Convert image to uint8 prior to saving to suppress this warning.\n"
          ],
          "name": "stderr"
        },
        {
          "output_type": "stream",
          "text": [
            "Saved question3_sample_dir_lambda-0_cyclegan/sample-002600-X-Y.png\n",
            "Saved question3_sample_dir_lambda-0_cyclegan/sample-002600-Y-X.png\n"
          ],
          "name": "stdout"
        },
        {
          "output_type": "stream",
          "text": [
            "WARNING:root:Lossy conversion from float64 to uint8. Range [-0.9462003111839294, 1.0]. Convert image to uint8 prior to saving to suppress this warning.\n",
            "WARNING:root:Lossy conversion from float64 to uint8. Range [-0.2947080433368683, 0.9994764924049377]. Convert image to uint8 prior to saving to suppress this warning.\n"
          ],
          "name": "stderr"
        },
        {
          "output_type": "stream",
          "text": [
            "Saved question3_sample_dir_lambda-0_cyclegan/sample-002800-X-Y.png\n",
            "Saved question3_sample_dir_lambda-0_cyclegan/sample-002800-Y-X.png\n"
          ],
          "name": "stdout"
        },
        {
          "output_type": "stream",
          "text": [
            "WARNING:root:Lossy conversion from float64 to uint8. Range [-0.028275277465581894, 1.0]. Convert image to uint8 prior to saving to suppress this warning.\n",
            "WARNING:root:Lossy conversion from float64 to uint8. Range [-0.29026612639427185, 0.9990547299385071]. Convert image to uint8 prior to saving to suppress this warning.\n"
          ],
          "name": "stderr"
        },
        {
          "output_type": "stream",
          "text": [
            "Iteration [ 3000/10000] | d_real_loss: 0.2014 | d_Y_loss: 0.5590 | d_X_loss: 0.0058 | d_fake_loss: 0.5648 | g_loss: 0.9519\n",
            "Saved question3_sample_dir_lambda-0_cyclegan/sample-003000-X-Y.png\n",
            "Saved question3_sample_dir_lambda-0_cyclegan/sample-003000-Y-X.png\n"
          ],
          "name": "stdout"
        },
        {
          "output_type": "stream",
          "text": [
            "WARNING:root:Lossy conversion from float64 to uint8. Range [-0.05313842371106148, 1.0]. Convert image to uint8 prior to saving to suppress this warning.\n",
            "WARNING:root:Lossy conversion from float64 to uint8. Range [-0.32408013939857483, 0.9981971383094788]. Convert image to uint8 prior to saving to suppress this warning.\n"
          ],
          "name": "stderr"
        },
        {
          "output_type": "stream",
          "text": [
            "Saved question3_sample_dir_lambda-0_cyclegan/sample-003200-X-Y.png\n",
            "Saved question3_sample_dir_lambda-0_cyclegan/sample-003200-Y-X.png\n"
          ],
          "name": "stdout"
        },
        {
          "output_type": "stream",
          "text": [
            "WARNING:root:Lossy conversion from float64 to uint8. Range [-0.07211589068174362, 1.0]. Convert image to uint8 prior to saving to suppress this warning.\n",
            "WARNING:root:Lossy conversion from float64 to uint8. Range [-0.2991059720516205, 0.9983596205711365]. Convert image to uint8 prior to saving to suppress this warning.\n"
          ],
          "name": "stderr"
        },
        {
          "output_type": "stream",
          "text": [
            "Saved question3_sample_dir_lambda-0_cyclegan/sample-003400-X-Y.png\n",
            "Saved question3_sample_dir_lambda-0_cyclegan/sample-003400-Y-X.png\n",
            "Iteration [ 3500/10000] | d_real_loss: 0.0247 | d_Y_loss: 0.0348 | d_X_loss: 0.0094 | d_fake_loss: 0.0442 | g_loss: 0.9263\n"
          ],
          "name": "stdout"
        },
        {
          "output_type": "stream",
          "text": [
            "WARNING:root:Lossy conversion from float64 to uint8. Range [-0.03564360365271568, 1.0]. Convert image to uint8 prior to saving to suppress this warning.\n",
            "WARNING:root:Lossy conversion from float64 to uint8. Range [-0.3267472982406616, 0.9996796250343323]. Convert image to uint8 prior to saving to suppress this warning.\n"
          ],
          "name": "stderr"
        },
        {
          "output_type": "stream",
          "text": [
            "Saved question3_sample_dir_lambda-0_cyclegan/sample-003600-X-Y.png\n",
            "Saved question3_sample_dir_lambda-0_cyclegan/sample-003600-Y-X.png\n"
          ],
          "name": "stdout"
        },
        {
          "output_type": "stream",
          "text": [
            "WARNING:root:Lossy conversion from float64 to uint8. Range [-0.05352195352315903, 1.0]. Convert image to uint8 prior to saving to suppress this warning.\n",
            "WARNING:root:Lossy conversion from float64 to uint8. Range [-0.4673645794391632, 0.9995531439781189]. Convert image to uint8 prior to saving to suppress this warning.\n"
          ],
          "name": "stderr"
        },
        {
          "output_type": "stream",
          "text": [
            "Saved question3_sample_dir_lambda-0_cyclegan/sample-003800-X-Y.png\n",
            "Saved question3_sample_dir_lambda-0_cyclegan/sample-003800-Y-X.png\n"
          ],
          "name": "stdout"
        },
        {
          "output_type": "stream",
          "text": [
            "WARNING:root:Lossy conversion from float64 to uint8. Range [-0.043810006231069565, 1.0]. Convert image to uint8 prior to saving to suppress this warning.\n",
            "WARNING:root:Lossy conversion from float64 to uint8. Range [-0.26589247584342957, 0.9998264312744141]. Convert image to uint8 prior to saving to suppress this warning.\n"
          ],
          "name": "stderr"
        },
        {
          "output_type": "stream",
          "text": [
            "Iteration [ 4000/10000] | d_real_loss: 0.1627 | d_Y_loss: 0.1173 | d_X_loss: 0.0630 | d_fake_loss: 0.1803 | g_loss: 0.8612\n",
            "Saved question3_sample_dir_lambda-0_cyclegan/sample-004000-X-Y.png\n",
            "Saved question3_sample_dir_lambda-0_cyclegan/sample-004000-Y-X.png\n"
          ],
          "name": "stdout"
        },
        {
          "output_type": "stream",
          "text": [
            "WARNING:root:Lossy conversion from float64 to uint8. Range [-0.03269559517502785, 1.0]. Convert image to uint8 prior to saving to suppress this warning.\n",
            "WARNING:root:Lossy conversion from float64 to uint8. Range [-0.3143244683742523, 0.9998751878738403]. Convert image to uint8 prior to saving to suppress this warning.\n"
          ],
          "name": "stderr"
        },
        {
          "output_type": "stream",
          "text": [
            "Saved question3_sample_dir_lambda-0_cyclegan/sample-004200-X-Y.png\n",
            "Saved question3_sample_dir_lambda-0_cyclegan/sample-004200-Y-X.png\n"
          ],
          "name": "stdout"
        },
        {
          "output_type": "stream",
          "text": [
            "WARNING:root:Lossy conversion from float64 to uint8. Range [-0.03297152742743492, 1.0]. Convert image to uint8 prior to saving to suppress this warning.\n",
            "WARNING:root:Lossy conversion from float64 to uint8. Range [-0.29859474301338196, 0.9998317956924438]. Convert image to uint8 prior to saving to suppress this warning.\n"
          ],
          "name": "stderr"
        },
        {
          "output_type": "stream",
          "text": [
            "Saved question3_sample_dir_lambda-0_cyclegan/sample-004400-X-Y.png\n",
            "Saved question3_sample_dir_lambda-0_cyclegan/sample-004400-Y-X.png\n",
            "Iteration [ 4500/10000] | d_real_loss: 0.0795 | d_Y_loss: 0.0052 | d_X_loss: 0.0084 | d_fake_loss: 0.0136 | g_loss: 0.9157\n"
          ],
          "name": "stdout"
        },
        {
          "output_type": "stream",
          "text": [
            "WARNING:root:Lossy conversion from float64 to uint8. Range [-0.02202131599187851, 1.0]. Convert image to uint8 prior to saving to suppress this warning.\n",
            "WARNING:root:Lossy conversion from float64 to uint8. Range [-0.2968045175075531, 0.9996200203895569]. Convert image to uint8 prior to saving to suppress this warning.\n"
          ],
          "name": "stderr"
        },
        {
          "output_type": "stream",
          "text": [
            "Saved question3_sample_dir_lambda-0_cyclegan/sample-004600-X-Y.png\n",
            "Saved question3_sample_dir_lambda-0_cyclegan/sample-004600-Y-X.png\n"
          ],
          "name": "stdout"
        },
        {
          "output_type": "stream",
          "text": [
            "WARNING:root:Lossy conversion from float64 to uint8. Range [-0.028255729004740715, 1.0]. Convert image to uint8 prior to saving to suppress this warning.\n",
            "WARNING:root:Lossy conversion from float64 to uint8. Range [-0.32905495166778564, 0.9990042448043823]. Convert image to uint8 prior to saving to suppress this warning.\n"
          ],
          "name": "stderr"
        },
        {
          "output_type": "stream",
          "text": [
            "Saved question3_sample_dir_lambda-0_cyclegan/sample-004800-X-Y.png\n",
            "Saved question3_sample_dir_lambda-0_cyclegan/sample-004800-Y-X.png\n"
          ],
          "name": "stdout"
        },
        {
          "output_type": "stream",
          "text": [
            "WARNING:root:Lossy conversion from float64 to uint8. Range [-0.029445340856909752, 1.0]. Convert image to uint8 prior to saving to suppress this warning.\n",
            "WARNING:root:Lossy conversion from float64 to uint8. Range [-0.30901333689689636, 0.999829888343811]. Convert image to uint8 prior to saving to suppress this warning.\n"
          ],
          "name": "stderr"
        },
        {
          "output_type": "stream",
          "text": [
            "Iteration [ 5000/10000] | d_real_loss: 0.3421 | d_Y_loss: 0.0587 | d_X_loss: 0.0027 | d_fake_loss: 0.0614 | g_loss: 0.8280\n",
            "Saved question3_sample_dir_lambda-0_cyclegan/sample-005000-X-Y.png\n",
            "Saved question3_sample_dir_lambda-0_cyclegan/sample-005000-Y-X.png\n"
          ],
          "name": "stdout"
        },
        {
          "output_type": "stream",
          "text": [
            "WARNING:root:Lossy conversion from float64 to uint8. Range [-0.020125867798924446, 1.0]. Convert image to uint8 prior to saving to suppress this warning.\n",
            "WARNING:root:Lossy conversion from float64 to uint8. Range [-0.4638519287109375, 0.9997909665107727]. Convert image to uint8 prior to saving to suppress this warning.\n"
          ],
          "name": "stderr"
        },
        {
          "output_type": "stream",
          "text": [
            "Saved question3_sample_dir_lambda-0_cyclegan/sample-005200-X-Y.png\n",
            "Saved question3_sample_dir_lambda-0_cyclegan/sample-005200-Y-X.png\n"
          ],
          "name": "stdout"
        },
        {
          "output_type": "stream",
          "text": [
            "WARNING:root:Lossy conversion from float64 to uint8. Range [-0.020214099436998367, 1.0]. Convert image to uint8 prior to saving to suppress this warning.\n",
            "WARNING:root:Lossy conversion from float64 to uint8. Range [-0.3704991936683655, 0.9998419880867004]. Convert image to uint8 prior to saving to suppress this warning.\n"
          ],
          "name": "stderr"
        },
        {
          "output_type": "stream",
          "text": [
            "Saved question3_sample_dir_lambda-0_cyclegan/sample-005400-X-Y.png\n",
            "Saved question3_sample_dir_lambda-0_cyclegan/sample-005400-Y-X.png\n",
            "Iteration [ 5500/10000] | d_real_loss: 0.0648 | d_Y_loss: 0.0059 | d_X_loss: 0.0086 | d_fake_loss: 0.0146 | g_loss: 0.9029\n"
          ],
          "name": "stdout"
        },
        {
          "output_type": "stream",
          "text": [
            "WARNING:root:Lossy conversion from float64 to uint8. Range [-0.024917636066675186, 1.0]. Convert image to uint8 prior to saving to suppress this warning.\n",
            "WARNING:root:Lossy conversion from float64 to uint8. Range [-0.3003422021865845, 0.999949038028717]. Convert image to uint8 prior to saving to suppress this warning.\n"
          ],
          "name": "stderr"
        },
        {
          "output_type": "stream",
          "text": [
            "Saved question3_sample_dir_lambda-0_cyclegan/sample-005600-X-Y.png\n",
            "Saved question3_sample_dir_lambda-0_cyclegan/sample-005600-Y-X.png\n"
          ],
          "name": "stdout"
        },
        {
          "output_type": "stream",
          "text": [
            "WARNING:root:Lossy conversion from float64 to uint8. Range [-0.013675287365913391, 1.0]. Convert image to uint8 prior to saving to suppress this warning.\n",
            "WARNING:root:Lossy conversion from float64 to uint8. Range [-0.3188563883304596, 0.9999798536300659]. Convert image to uint8 prior to saving to suppress this warning.\n"
          ],
          "name": "stderr"
        },
        {
          "output_type": "stream",
          "text": [
            "Saved question3_sample_dir_lambda-0_cyclegan/sample-005800-X-Y.png\n",
            "Saved question3_sample_dir_lambda-0_cyclegan/sample-005800-Y-X.png\n"
          ],
          "name": "stdout"
        },
        {
          "output_type": "stream",
          "text": [
            "WARNING:root:Lossy conversion from float64 to uint8. Range [-0.014233199879527092, 1.0]. Convert image to uint8 prior to saving to suppress this warning.\n",
            "WARNING:root:Lossy conversion from float64 to uint8. Range [-0.2183903455734253, 0.9998753666877747]. Convert image to uint8 prior to saving to suppress this warning.\n"
          ],
          "name": "stderr"
        },
        {
          "output_type": "stream",
          "text": [
            "Iteration [ 6000/10000] | d_real_loss: 0.0084 | d_Y_loss: 0.0423 | d_X_loss: 0.0110 | d_fake_loss: 0.0533 | g_loss: 0.8722\n",
            "Saved question3_sample_dir_lambda-0_cyclegan/sample-006000-X-Y.png\n",
            "Saved question3_sample_dir_lambda-0_cyclegan/sample-006000-Y-X.png\n"
          ],
          "name": "stdout"
        },
        {
          "output_type": "stream",
          "text": [
            "WARNING:root:Lossy conversion from float64 to uint8. Range [-0.0137427793815732, 1.0]. Convert image to uint8 prior to saving to suppress this warning.\n",
            "WARNING:root:Lossy conversion from float64 to uint8. Range [-0.4751805365085602, 0.9999955892562866]. Convert image to uint8 prior to saving to suppress this warning.\n"
          ],
          "name": "stderr"
        },
        {
          "output_type": "stream",
          "text": [
            "Saved question3_sample_dir_lambda-0_cyclegan/sample-006200-X-Y.png\n",
            "Saved question3_sample_dir_lambda-0_cyclegan/sample-006200-Y-X.png\n"
          ],
          "name": "stdout"
        },
        {
          "output_type": "stream",
          "text": [
            "WARNING:root:Lossy conversion from float64 to uint8. Range [-0.009833118878304958, 1.0]. Convert image to uint8 prior to saving to suppress this warning.\n",
            "WARNING:root:Lossy conversion from float64 to uint8. Range [-0.24219030141830444, 0.9999343752861023]. Convert image to uint8 prior to saving to suppress this warning.\n"
          ],
          "name": "stderr"
        },
        {
          "output_type": "stream",
          "text": [
            "Saved question3_sample_dir_lambda-0_cyclegan/sample-006400-X-Y.png\n",
            "Saved question3_sample_dir_lambda-0_cyclegan/sample-006400-Y-X.png\n",
            "Iteration [ 6500/10000] | d_real_loss: 0.0406 | d_Y_loss: 0.0283 | d_X_loss: 0.1732 | d_fake_loss: 0.2015 | g_loss: 0.9088\n"
          ],
          "name": "stdout"
        },
        {
          "output_type": "stream",
          "text": [
            "WARNING:root:Lossy conversion from float64 to uint8. Range [-0.01954173669219017, 1.0]. Convert image to uint8 prior to saving to suppress this warning.\n",
            "WARNING:root:Lossy conversion from float64 to uint8. Range [-0.3324519097805023, 0.9999538064002991]. Convert image to uint8 prior to saving to suppress this warning.\n"
          ],
          "name": "stderr"
        },
        {
          "output_type": "stream",
          "text": [
            "Saved question3_sample_dir_lambda-0_cyclegan/sample-006600-X-Y.png\n",
            "Saved question3_sample_dir_lambda-0_cyclegan/sample-006600-Y-X.png\n"
          ],
          "name": "stdout"
        },
        {
          "output_type": "stream",
          "text": [
            "WARNING:root:Lossy conversion from float64 to uint8. Range [-0.012877318076789379, 1.0]. Convert image to uint8 prior to saving to suppress this warning.\n",
            "WARNING:root:Lossy conversion from float64 to uint8. Range [-0.27341771125793457, 0.9999738335609436]. Convert image to uint8 prior to saving to suppress this warning.\n"
          ],
          "name": "stderr"
        },
        {
          "output_type": "stream",
          "text": [
            "Saved question3_sample_dir_lambda-0_cyclegan/sample-006800-X-Y.png\n",
            "Saved question3_sample_dir_lambda-0_cyclegan/sample-006800-Y-X.png\n"
          ],
          "name": "stdout"
        },
        {
          "output_type": "stream",
          "text": [
            "WARNING:root:Lossy conversion from float64 to uint8. Range [-0.013508000411093235, 1.0]. Convert image to uint8 prior to saving to suppress this warning.\n",
            "WARNING:root:Lossy conversion from float64 to uint8. Range [-0.32597455382347107, 0.9999629259109497]. Convert image to uint8 prior to saving to suppress this warning.\n"
          ],
          "name": "stderr"
        },
        {
          "output_type": "stream",
          "text": [
            "Iteration [ 7000/10000] | d_real_loss: 0.0349 | d_Y_loss: 0.1585 | d_X_loss: 0.0007 | d_fake_loss: 0.1592 | g_loss: 0.9132\n",
            "Saved question3_sample_dir_lambda-0_cyclegan/sample-007000-X-Y.png\n",
            "Saved question3_sample_dir_lambda-0_cyclegan/sample-007000-Y-X.png\n"
          ],
          "name": "stdout"
        },
        {
          "output_type": "stream",
          "text": [
            "WARNING:root:Lossy conversion from float64 to uint8. Range [-0.013043230399489403, 1.0]. Convert image to uint8 prior to saving to suppress this warning.\n",
            "WARNING:root:Lossy conversion from float64 to uint8. Range [-0.30448269844055176, 0.9999852776527405]. Convert image to uint8 prior to saving to suppress this warning.\n"
          ],
          "name": "stderr"
        },
        {
          "output_type": "stream",
          "text": [
            "Saved question3_sample_dir_lambda-0_cyclegan/sample-007200-X-Y.png\n",
            "Saved question3_sample_dir_lambda-0_cyclegan/sample-007200-Y-X.png\n"
          ],
          "name": "stdout"
        },
        {
          "output_type": "stream",
          "text": [
            "WARNING:root:Lossy conversion from float64 to uint8. Range [-0.014402560889720917, 1.0]. Convert image to uint8 prior to saving to suppress this warning.\n",
            "WARNING:root:Lossy conversion from float64 to uint8. Range [-0.33058586716651917, 0.9999576807022095]. Convert image to uint8 prior to saving to suppress this warning.\n"
          ],
          "name": "stderr"
        },
        {
          "output_type": "stream",
          "text": [
            "Saved question3_sample_dir_lambda-0_cyclegan/sample-007400-X-Y.png\n",
            "Saved question3_sample_dir_lambda-0_cyclegan/sample-007400-Y-X.png\n",
            "Iteration [ 7500/10000] | d_real_loss: 0.3717 | d_Y_loss: 0.0894 | d_X_loss: 0.1013 | d_fake_loss: 0.1907 | g_loss: 0.8988\n"
          ],
          "name": "stdout"
        },
        {
          "output_type": "stream",
          "text": [
            "WARNING:root:Lossy conversion from float64 to uint8. Range [-0.01762709580361843, 1.0]. Convert image to uint8 prior to saving to suppress this warning.\n",
            "WARNING:root:Lossy conversion from float64 to uint8. Range [-0.3015742003917694, 0.9999811053276062]. Convert image to uint8 prior to saving to suppress this warning.\n"
          ],
          "name": "stderr"
        },
        {
          "output_type": "stream",
          "text": [
            "Saved question3_sample_dir_lambda-0_cyclegan/sample-007600-X-Y.png\n",
            "Saved question3_sample_dir_lambda-0_cyclegan/sample-007600-Y-X.png\n"
          ],
          "name": "stdout"
        },
        {
          "output_type": "stream",
          "text": [
            "WARNING:root:Lossy conversion from float64 to uint8. Range [-0.011584744788706303, 1.0]. Convert image to uint8 prior to saving to suppress this warning.\n",
            "WARNING:root:Lossy conversion from float64 to uint8. Range [-0.3002779185771942, 0.999996542930603]. Convert image to uint8 prior to saving to suppress this warning.\n"
          ],
          "name": "stderr"
        },
        {
          "output_type": "stream",
          "text": [
            "Saved question3_sample_dir_lambda-0_cyclegan/sample-007800-X-Y.png\n",
            "Saved question3_sample_dir_lambda-0_cyclegan/sample-007800-Y-X.png\n"
          ],
          "name": "stdout"
        },
        {
          "output_type": "stream",
          "text": [
            "WARNING:root:Lossy conversion from float64 to uint8. Range [-0.011828350834548473, 1.0]. Convert image to uint8 prior to saving to suppress this warning.\n",
            "WARNING:root:Lossy conversion from float64 to uint8. Range [-0.3636658489704132, 0.9999715685844421]. Convert image to uint8 prior to saving to suppress this warning.\n"
          ],
          "name": "stderr"
        },
        {
          "output_type": "stream",
          "text": [
            "Iteration [ 8000/10000] | d_real_loss: 0.0239 | d_Y_loss: 0.0016 | d_X_loss: 0.0066 | d_fake_loss: 0.0082 | g_loss: 0.9476\n",
            "Saved question3_sample_dir_lambda-0_cyclegan/sample-008000-X-Y.png\n",
            "Saved question3_sample_dir_lambda-0_cyclegan/sample-008000-Y-X.png\n"
          ],
          "name": "stdout"
        },
        {
          "output_type": "stream",
          "text": [
            "WARNING:root:Lossy conversion from float64 to uint8. Range [-0.012905105948448181, 1.0]. Convert image to uint8 prior to saving to suppress this warning.\n",
            "WARNING:root:Lossy conversion from float64 to uint8. Range [-0.34113919734954834, 0.9999918937683105]. Convert image to uint8 prior to saving to suppress this warning.\n"
          ],
          "name": "stderr"
        },
        {
          "output_type": "stream",
          "text": [
            "Saved question3_sample_dir_lambda-0_cyclegan/sample-008200-X-Y.png\n",
            "Saved question3_sample_dir_lambda-0_cyclegan/sample-008200-Y-X.png\n"
          ],
          "name": "stdout"
        },
        {
          "output_type": "stream",
          "text": [
            "WARNING:root:Lossy conversion from float64 to uint8. Range [-0.010708840563893318, 1.0]. Convert image to uint8 prior to saving to suppress this warning.\n",
            "WARNING:root:Lossy conversion from float64 to uint8. Range [-0.32135847210884094, 0.9999967217445374]. Convert image to uint8 prior to saving to suppress this warning.\n"
          ],
          "name": "stderr"
        },
        {
          "output_type": "stream",
          "text": [
            "Saved question3_sample_dir_lambda-0_cyclegan/sample-008400-X-Y.png\n",
            "Saved question3_sample_dir_lambda-0_cyclegan/sample-008400-Y-X.png\n",
            "Iteration [ 8500/10000] | d_real_loss: 0.1599 | d_Y_loss: 0.0443 | d_X_loss: 0.1194 | d_fake_loss: 0.1638 | g_loss: 0.8837\n"
          ],
          "name": "stdout"
        },
        {
          "output_type": "stream",
          "text": [
            "WARNING:root:Lossy conversion from float64 to uint8. Range [-0.016061000525951385, 1.0]. Convert image to uint8 prior to saving to suppress this warning.\n",
            "WARNING:root:Lossy conversion from float64 to uint8. Range [-0.2773239016532898, 0.9999982714653015]. Convert image to uint8 prior to saving to suppress this warning.\n"
          ],
          "name": "stderr"
        },
        {
          "output_type": "stream",
          "text": [
            "Saved question3_sample_dir_lambda-0_cyclegan/sample-008600-X-Y.png\n",
            "Saved question3_sample_dir_lambda-0_cyclegan/sample-008600-Y-X.png\n"
          ],
          "name": "stdout"
        },
        {
          "output_type": "stream",
          "text": [
            "WARNING:root:Lossy conversion from float64 to uint8. Range [-0.018923746421933174, 1.0]. Convert image to uint8 prior to saving to suppress this warning.\n",
            "WARNING:root:Lossy conversion from float64 to uint8. Range [-0.2464006543159485, 0.999995768070221]. Convert image to uint8 prior to saving to suppress this warning.\n"
          ],
          "name": "stderr"
        },
        {
          "output_type": "stream",
          "text": [
            "Saved question3_sample_dir_lambda-0_cyclegan/sample-008800-X-Y.png\n",
            "Saved question3_sample_dir_lambda-0_cyclegan/sample-008800-Y-X.png\n"
          ],
          "name": "stdout"
        },
        {
          "output_type": "stream",
          "text": [
            "WARNING:root:Lossy conversion from float64 to uint8. Range [-0.019465254619717598, 1.0]. Convert image to uint8 prior to saving to suppress this warning.\n",
            "WARNING:root:Lossy conversion from float64 to uint8. Range [-0.2339325249195099, 0.9999702572822571]. Convert image to uint8 prior to saving to suppress this warning.\n"
          ],
          "name": "stderr"
        },
        {
          "output_type": "stream",
          "text": [
            "Iteration [ 9000/10000] | d_real_loss: 0.0091 | d_Y_loss: 0.0047 | d_X_loss: 0.0037 | d_fake_loss: 0.0084 | g_loss: 0.9382\n",
            "Saved question3_sample_dir_lambda-0_cyclegan/sample-009000-X-Y.png\n",
            "Saved question3_sample_dir_lambda-0_cyclegan/sample-009000-Y-X.png\n"
          ],
          "name": "stdout"
        },
        {
          "output_type": "stream",
          "text": [
            "WARNING:root:Lossy conversion from float64 to uint8. Range [-0.019168462604284286, 1.0]. Convert image to uint8 prior to saving to suppress this warning.\n",
            "WARNING:root:Lossy conversion from float64 to uint8. Range [-0.25925230979919434, 0.999989926815033]. Convert image to uint8 prior to saving to suppress this warning.\n"
          ],
          "name": "stderr"
        },
        {
          "output_type": "stream",
          "text": [
            "Saved question3_sample_dir_lambda-0_cyclegan/sample-009200-X-Y.png\n",
            "Saved question3_sample_dir_lambda-0_cyclegan/sample-009200-Y-X.png\n"
          ],
          "name": "stdout"
        },
        {
          "output_type": "stream",
          "text": [
            "WARNING:root:Lossy conversion from float64 to uint8. Range [-0.018061120063066483, 1.0]. Convert image to uint8 prior to saving to suppress this warning.\n",
            "WARNING:root:Lossy conversion from float64 to uint8. Range [-0.24774624407291412, 0.9999415874481201]. Convert image to uint8 prior to saving to suppress this warning.\n"
          ],
          "name": "stderr"
        },
        {
          "output_type": "stream",
          "text": [
            "Saved question3_sample_dir_lambda-0_cyclegan/sample-009400-X-Y.png\n",
            "Saved question3_sample_dir_lambda-0_cyclegan/sample-009400-Y-X.png\n",
            "Iteration [ 9500/10000] | d_real_loss: 0.1014 | d_Y_loss: 0.0034 | d_X_loss: 0.0153 | d_fake_loss: 0.0187 | g_loss: 0.9193\n"
          ],
          "name": "stdout"
        },
        {
          "output_type": "stream",
          "text": [
            "WARNING:root:Lossy conversion from float64 to uint8. Range [-0.022962577641010284, 1.0]. Convert image to uint8 prior to saving to suppress this warning.\n",
            "WARNING:root:Lossy conversion from float64 to uint8. Range [-0.2107691764831543, 0.9999958872795105]. Convert image to uint8 prior to saving to suppress this warning.\n"
          ],
          "name": "stderr"
        },
        {
          "output_type": "stream",
          "text": [
            "Saved question3_sample_dir_lambda-0_cyclegan/sample-009600-X-Y.png\n",
            "Saved question3_sample_dir_lambda-0_cyclegan/sample-009600-Y-X.png\n"
          ],
          "name": "stdout"
        },
        {
          "output_type": "stream",
          "text": [
            "WARNING:root:Lossy conversion from float64 to uint8. Range [-0.014857064932584763, 1.0]. Convert image to uint8 prior to saving to suppress this warning.\n",
            "WARNING:root:Lossy conversion from float64 to uint8. Range [-0.24186567962169647, 0.9999906420707703]. Convert image to uint8 prior to saving to suppress this warning.\n"
          ],
          "name": "stderr"
        },
        {
          "output_type": "stream",
          "text": [
            "Saved question3_sample_dir_lambda-0_cyclegan/sample-009800-X-Y.png\n",
            "Saved question3_sample_dir_lambda-0_cyclegan/sample-009800-Y-X.png\n"
          ],
          "name": "stdout"
        },
        {
          "output_type": "stream",
          "text": [
            "WARNING:root:Lossy conversion from float64 to uint8. Range [-0.019463930279016495, 1.0]. Convert image to uint8 prior to saving to suppress this warning.\n",
            "WARNING:root:Lossy conversion from float64 to uint8. Range [-0.3916117250919342, 0.9999986290931702]. Convert image to uint8 prior to saving to suppress this warning.\n"
          ],
          "name": "stderr"
        },
        {
          "output_type": "stream",
          "text": [
            "Iteration [10000/10000] | d_real_loss: 0.0191 | d_Y_loss: 0.0321 | d_X_loss: 0.0035 | d_fake_loss: 0.0357 | g_loss: 0.9296\n",
            "Saved question3_sample_dir_lambda-0_cyclegan/sample-010000-X-Y.png\n",
            "Saved question3_sample_dir_lambda-0_cyclegan/sample-010000-Y-X.png\n"
          ],
          "name": "stdout"
        }
      ]
    }
  ]
}